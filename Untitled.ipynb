{
 "cells": [
  {
   "cell_type": "code",
   "execution_count": 2,
   "metadata": {},
   "outputs": [
    {
     "name": "stdout",
     "output_type": "stream",
     "text": [
      "How many numbers would you like? (1-15)10\n"
     ]
    }
   ],
   "source": [
    "import tkinter\n",
    "from tkinter import *\n",
    "import random\n",
    "\n",
    "class NumberGuesser:\n",
    "    # Class for creating objects to store guesses in a list\n",
    "    def __init__(self,guessed_list=[]):\n",
    "        self.guessed_list = guessed_list\n",
    "\n",
    "    def add_guess(self, guess):\n",
    "        self.guessed_list.append(guess)\n",
    "\n",
    "def guess_my_number():\n",
    "    # Starts a new game by initializing guess storing object, picking a secret number, and enabling all buttons\n",
    "    global your_guesses\n",
    "    your_guesses = NumberGuesser()\n",
    "    global my_secret_number\n",
    "    my_secret_number = (random.randint(1,num_buttons))\n",
    "    for item in buttons_list:\n",
    "        item.config(state=\"normal\")\n",
    "\n",
    "\n",
    "def check_guess(your_guess):\n",
    "    # Checks guess against secret number.  If correct, pops a new window with congrats, otherwise adds number to guess list and disables button\n",
    "    if your_guess == my_secret_number:\n",
    "        top = Toplevel()\n",
    "        top.title(\"You win!\")\n",
    "        msg = Message(top, text=\"You guessed my number!!!\")\n",
    "        msg.pack()\n",
    "        button = Button(top, text=\"Dismiss\", command=top.destroy)\n",
    "        button.pack()\n",
    "    else:\n",
    "        your_guesses.add_guess(your_guess)\n",
    "        buttons_list[your_guess-1].config(state=\"disabled\")\n",
    "\n",
    "if __name__ == '__main__':\n",
    "    m = tkinter.Tk() # where m is the name of the main window object\n",
    "    num_buttons = int(input(\"How many numbers would you like? (1-15)\")) # ask user for number of numbers wanted\n",
    "    m.title('Number Guessing Game')\n",
    "    buttons_list = [] # for storing buttons\n",
    "    \n",
    "    # Creates buttons of number requested by user\n",
    "    for x in range(num_buttons):\n",
    "        buttons = \"button\" + str(x) #Name of each button\n",
    "        # button creation.  Also includes lambda to call function for checking user guess\n",
    "        buttons = tkinter.Button(m, text=x+1, width = 16,state='disabled',command=(lambda c=x+1: check_guess(c)))\n",
    "        buttons_list.append(buttons)\n",
    "        # displays the grid in two columns\n",
    "        buttons.grid(row=x//2,column=x%2)\n",
    "\n",
    "    label = tkinter.Label(m, text=\"Guess My Number\").grid(row=num_buttons)\n",
    "\n",
    "    start_game = tkinter.Button(m, text = 'Start Game', width = 16, command = guess_my_number)\n",
    "    start_game.grid(row = num_buttons+1)\n",
    "    exit_button = tkinter.Button(m, text='Exit', width=16, command=m.destroy)\n",
    "    exit_button.grid(row=num_buttons+1,column=1)\n",
    "    m.mainloop()  # infinite loop that waits for events to happen"
   ]
  },
  {
   "cell_type": "code",
   "execution_count": null,
   "metadata": {},
   "outputs": [],
   "source": [
    "\n",
    "\n",
    "\n",
    "\n",
    "\n",
    "\n",
    "\n",
    "\n",
    "\n",
    "\n",
    "\n",
    "\n",
    "\n",
    "\n",
    "\n",
    "\n",
    "\n",
    "\n",
    "\n",
    "\n",
    "\n",
    "\n"
   ]
  },
  {
   "cell_type": "code",
   "execution_count": null,
   "metadata": {},
   "outputs": [],
   "source": []
  },
  {
   "cell_type": "code",
   "execution_count": null,
   "metadata": {},
   "outputs": [],
   "source": []
  }
 ],
 "metadata": {
  "kernelspec": {
   "display_name": "Python 3",
   "language": "python",
   "name": "python3"
  },
  "language_info": {
   "codemirror_mode": {
    "name": "ipython",
    "version": 3
   },
   "file_extension": ".py",
   "mimetype": "text/x-python",
   "name": "python",
   "nbconvert_exporter": "python",
   "pygments_lexer": "ipython3",
   "version": "3.7.3"
  }
 },
 "nbformat": 4,
 "nbformat_minor": 2
}
