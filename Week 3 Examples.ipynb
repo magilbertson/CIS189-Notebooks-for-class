{
 "cells": [
  {
   "cell_type": "code",
   "execution_count": 1,
   "metadata": {
    "slideshow": {
     "slide_type": "slide"
    }
   },
   "outputs": [
    {
     "data": {
      "text/plain": [
       "1"
      ]
     },
     "execution_count": 1,
     "metadata": {},
     "output_type": "execute_result"
    }
   ],
   "source": [
    "some_string = \"here's a string\"\n",
    "some_string.find(\"e\")"
   ]
  },
  {
   "cell_type": "code",
   "execution_count": 4,
   "metadata": {
    "slideshow": {
     "slide_type": "slide"
    }
   },
   "outputs": [
    {
     "name": "stdout",
     "output_type": "stream",
     "text": [
      "somewordshere\n"
     ]
    }
   ],
   "source": [
    "print(\"some\",\"words\",\"here\",sep=\"\")\n"
   ]
  },
  {
   "cell_type": "code",
   "execution_count": 7,
   "metadata": {
    "slideshow": {
     "slide_type": "slide"
    }
   },
   "outputs": [
    {
     "data": {
      "text/plain": [
       "-6"
      ]
     },
     "execution_count": 7,
     "metadata": {},
     "output_type": "execute_result"
    }
   ],
   "source": [
    "-24//4\n"
   ]
  },
  {
   "cell_type": "markdown",
   "metadata": {
    "slideshow": {
     "slide_type": "slide"
    }
   },
   "source": [
    "# Module 3 - Strings, lists, I/O, operators"
   ]
  },
  {
   "cell_type": "markdown",
   "metadata": {
    "slideshow": {
     "slide_type": "slide"
    }
   },
   "source": [
    "## Topic 1 - Strings and Lists"
   ]
  },
  {
   "cell_type": "code",
   "execution_count": 10,
   "metadata": {
    "slideshow": {
     "slide_type": "subslide"
    }
   },
   "outputs": [
    {
     "name": "stdout",
     "output_type": "stream",
     "text": [
      "It4best of times\n",
      "It was the best of times\n",
      "It was the best of times\n"
     ]
    }
   ],
   "source": [
    "# Here are some strings assigned to variables\n",
    "string_1 = 'It'\n",
    "string_2 = 'was the'\n",
    "string_3 = 'best of times'\n",
    "\n",
    "# They can be concatenated together just like math\n",
    "print (string_1+ str(4) +string_3)\n",
    "\n",
    "# Let's add some spaces in there to make it look better\n",
    "print(string_1 + ' ' + string_2 + ' ' + string_3)\n",
    "print(string_1 ,string_2, string_3)"
   ]
  },
  {
   "cell_type": "code",
   "execution_count": 11,
   "metadata": {
    "slideshow": {
     "slide_type": "subslide"
    }
   },
   "outputs": [
    {
     "name": "stdout",
     "output_type": "stream",
     "text": [
      "It was the best of times\n"
     ]
    }
   ],
   "source": [
    "# We can also assign the result to a variable\n",
    "two_cities_tale = string_1 + \" \" + string_2 + ' ' + string_3\n",
    "print(two_cities_tale)"
   ]
  },
  {
   "cell_type": "code",
   "execution_count": 12,
   "metadata": {
    "slideshow": {
     "slide_type": "subslide"
    }
   },
   "outputs": [
    {
     "name": "stdout",
     "output_type": "stream",
     "text": [
      "It was the best of timesIt was the best of timesIt was the best of timesIt was the best of timesIt was the best of times\n"
     ]
    }
   ],
   "source": [
    "# We can also multiply strings\n",
    "print(two_cities_tale*5)"
   ]
  },
  {
   "cell_type": "code",
   "execution_count": 13,
   "metadata": {
    "slideshow": {
     "slide_type": "subslide"
    }
   },
   "outputs": [
    {
     "name": "stdout",
     "output_type": "stream",
     "text": [
      "True\n",
      "False\n"
     ]
    }
   ],
   "source": [
    "# The \"in\" operator lets us check to see if a string of text is contained in another string of text\n",
    "# Please note that this check is case sensitive\n",
    "print(\"best of times\" in two_cities_tale)\n",
    "print(\"worst of times\" in two_cities_tale)"
   ]
  },
  {
   "cell_type": "code",
   "execution_count": 14,
   "metadata": {
    "slideshow": {
     "slide_type": "subslide"
    }
   },
   "outputs": [
    {
     "name": "stdout",
     "output_type": "stream",
     "text": [
      "True\n",
      "False\n"
     ]
    }
   ],
   "source": [
    "# We can also do the opposite and use \"not in\" to check if a string is not in another string\n",
    "# Please note that this check is case sensitive\n",
    "print(\"age of foolishness\" not in two_cities_tale)\n",
    "print(\"best of times\" not in two_cities_tale)"
   ]
  },
  {
   "cell_type": "code",
   "execution_count": 15,
   "metadata": {
    "slideshow": {
     "slide_type": "subslide"
    }
   },
   "outputs": [
    {
     "name": "stdout",
     "output_type": "stream",
     "text": [
      "24\n",
      "43\n",
      "52\n"
     ]
    }
   ],
   "source": [
    "# We can check the length of a string using 'len()'\n",
    "print(len(two_cities_tale))\n",
    "print(len('how long do you think this string would be?'))\n",
    "print(len(two_cities_tale + ' , it was the worst of times'))"
   ]
  },
  {
   "cell_type": "code",
   "execution_count": 16,
   "metadata": {
    "slideshow": {
     "slide_type": "subslide"
    }
   },
   "outputs": [
    {
     "name": "stdout",
     "output_type": "stream",
     "text": [
      "Hello!\n",
      "72\n",
      "<class 'str'>\n"
     ]
    }
   ],
   "source": [
    "# Here are some other string functions:\n",
    "# chr() returns the ascii character matching the number\n",
    "print(chr(72)+chr(101)+chr(108)*2+chr(111)+chr(33))\n",
    "\n",
    "# ord() does the opposite, returning the ascii number for a character\n",
    "print(ord('H'))\n",
    "\n",
    "# str() turns objects into strings\n",
    "mytext=str(12345.789)\n",
    "print(type(mytext))"
   ]
  },
  {
   "cell_type": "markdown",
   "metadata": {
    "slideshow": {
     "slide_type": "subslide"
    }
   },
   "source": [
    "### Lists are widely used in Python\n",
    "\n",
    "### A list is a group of items that can be of mixed type"
   ]
  },
  {
   "cell_type": "code",
   "execution_count": 17,
   "metadata": {
    "slideshow": {
     "slide_type": "subslide"
    }
   },
   "outputs": [
    {
     "name": "stdout",
     "output_type": "stream",
     "text": [
      "[2, 'legit', 2.0, 'quit']\n",
      "<class 'list'>\n"
     ]
    }
   ],
   "source": [
    "# Lists are groups of objects\n",
    "mixed_list = [2,'legit',2.,'quit']\n",
    "print(mixed_list)\n",
    "print(type(mixed_list))"
   ]
  },
  {
   "cell_type": "code",
   "execution_count": 18,
   "metadata": {
    "slideshow": {
     "slide_type": "fragment"
    }
   },
   "outputs": [
    {
     "name": "stdout",
     "output_type": "stream",
     "text": [
      "<class 'int'>\n",
      "<class 'str'>\n",
      "<class 'float'>\n",
      "<class 'str'>\n"
     ]
    }
   ],
   "source": [
    "# Each item in a list can be of a different type. Items can be accessed by their index position (zero is the first position)\n",
    "print(type(mixed_list[0]))\n",
    "print(type(mixed_list[1]))\n",
    "print(type(mixed_list[2]))\n",
    "print(type(mixed_list[3]))"
   ]
  },
  {
   "cell_type": "code",
   "execution_count": 19,
   "metadata": {
    "slideshow": {
     "slide_type": "subslide"
    }
   },
   "outputs": [
    {
     "name": "stdout",
     "output_type": "stream",
     "text": [
      "[2, 'legit', 2.0, 'quit', 2, 'legit']\n",
      "[2, 'legit', 2.0, 'quit', 2, 'legit']\n"
     ]
    }
   ],
   "source": [
    "# There are many manipulations that can be done on lists\n",
    "# Items can be appended\n",
    "mixed_list.append(2)\n",
    "mixed_list.append('legit')\n",
    "print(mixed_list)\n",
    "\n",
    "# The list can be copied\n",
    "other_mixed_list = mixed_list.copy()\n",
    "print(other_mixed_list)\n",
    "some_other_list = mixed_list"
   ]
  },
  {
   "cell_type": "code",
   "execution_count": 24,
   "metadata": {},
   "outputs": [
    {
     "name": "stdout",
     "output_type": "stream",
     "text": [
      "[1, 2] [1, 2]\n",
      "[1, 2, 'whatever'] [1, 2, 'whatever']\n",
      "[3, 4] [3, 4]\n",
      "[3, 4, 'something'] [3, 4]\n"
     ]
    }
   ],
   "source": [
    "some_list = [1,2]\n",
    "new_list = some_list\n",
    "print (new_list, some_list) \n",
    "some_list.append(\"whatever\")\n",
    "print (new_list, some_list)\n",
    "\n",
    "other_list = [3,4]\n",
    "my_other_list = other_list.copy()\n",
    "print (other_list,my_other_list)\n",
    "other_list.append(\"something\")\n",
    "print (other_list,my_other_list)"
   ]
  },
  {
   "cell_type": "code",
   "execution_count": null,
   "metadata": {
    "slideshow": {
     "slide_type": "subslide"
    }
   },
   "outputs": [],
   "source": [
    "# Using .copy() is important when copying lists\n",
    "list_here = [1,2,3,4]\n",
    "other_list = list_here\n",
    "print (list_here)\n",
    "print(other_list)"
   ]
  },
  {
   "cell_type": "code",
   "execution_count": null,
   "metadata": {
    "slideshow": {
     "slide_type": "subslide"
    }
   },
   "outputs": [],
   "source": [
    "# I'll now add an item to list_here and print other_list\n",
    "list_here.append(5)\n",
    "print(other_list)\n",
    "# Other list is changing because list_here changed"
   ]
  },
  {
   "cell_type": "code",
   "execution_count": 25,
   "metadata": {
    "slideshow": {
     "slide_type": "subslide"
    }
   },
   "outputs": [
    {
     "name": "stdout",
     "output_type": "stream",
     "text": [
      "[2, 'legit', 2.0, 'quit', 2, 'legit', 2, 'legit', 2.0, 'quit', 2, 'legit']\n",
      "[]\n"
     ]
    }
   ],
   "source": [
    "# A list can be extended with another list\n",
    "other_mixed_list.extend(mixed_list)\n",
    "print(other_mixed_list)\n",
    "\n",
    "# The list can be cleared\n",
    "mixed_list.clear()\n",
    "print(mixed_list)"
   ]
  },
  {
   "cell_type": "markdown",
   "metadata": {
    "slideshow": {
     "slide_type": "slide"
    }
   },
   "source": [
    "## Topic 2 - Basic Input and Output"
   ]
  },
  {
   "cell_type": "code",
   "execution_count": 27,
   "metadata": {
    "slideshow": {
     "slide_type": "subslide"
    }
   },
   "outputs": [
    {
     "name": "stdout",
     "output_type": "stream",
     "text": [
      "Enter your favorite number4\n",
      "4\n",
      "<class 'int'>\n"
     ]
    }
   ],
   "source": [
    "# Users can input data using input() and this data can be stored in a variable for use in your program\n",
    "user_info = int(input(\"Enter your favorite number\"))\n",
    "print(user_info)\n",
    "print(type(user_info))"
   ]
  },
  {
   "cell_type": "markdown",
   "metadata": {
    "slideshow": {
     "slide_type": "subslide"
    }
   },
   "source": [
    "### Formatting can be included in outputs"
   ]
  },
  {
   "cell_type": "code",
   "execution_count": 28,
   "metadata": {
    "slideshow": {
     "slide_type": "subslide"
    }
   },
   "outputs": [
    {
     "name": "stdout",
     "output_type": "stream",
     "text": [
      "I am showing  1 and including this float number      5.330\n",
      "Matt Gilbertson is a teacher. He is 39 years old.\n",
      "Jane Doe is a student. She is 29 years old.\n"
     ]
    }
   ],
   "source": [
    "# Here are some examples using the string modulo operator\n",
    "    # The first takes numbers from the tuple (more on tuples later) and inserts them with specific formatting\n",
    "    # The formatting reads like this: for \"%2i\" - % 2 means two digits and \"i\" means integer. \n",
    "    # For \"%10.3f\" - 10 is the number of digits before the decimal and will be padded if there aren't enough numbers\n",
    "    # the .3 is how many after the decimal and will pad if there aren't enough numbers.  \"f\" means float\n",
    "print(\"I am showing %2i and including this float number %10.3f\" %(1.555, 05.33))\n",
    "\n",
    "# Stored tuples can be used to build outputs\n",
    "person_1_bio = (\"Matt\", \"Gilbertson\",  \"teacher\", \"He\", 39)\n",
    "person_2_bio = (\"Jane\", \"Doe\", \"student\", \"She\", 29)\n",
    "sentence_format = \"%s %s is a %s. %s is %2i years old.\"\n",
    "print (sentence_format % person_1_bio)\n",
    "print (sentence_format % person_2_bio)\n"
   ]
  },
  {
   "cell_type": "code",
   "execution_count": 29,
   "metadata": {
    "slideshow": {
     "slide_type": "subslide"
    }
   },
   "outputs": [
    {
     "name": "stdout",
     "output_type": "stream",
     "text": [
      "Matt Gilbertson is a teacher. He is 39 years old.\n",
      "Jane Doe is a student. She is 29 years old.\n",
      "29 She is a student. Doe is Jane years old.\n"
     ]
    }
   ],
   "source": [
    "# .format() can also be used in a similar fashion\n",
    "sentence_format = \"{} {} is a {}. {} is {} years old.\"\n",
    "print (sentence_format.format(\"Matt\", \"Gilbertson\",  \"teacher\", \"He\", 39))\n",
    "print (sentence_format.format(\"Jane\", \"Doe\", \"student\", \"She\", 29))\n",
    "\n",
    "# the order of strings can also be defined (recall that Python is 0 indexed so count starting at zero)\n",
    "sentence_format_mixed = \"{4} {3} is a {2}. {1} is {0} years old.\"\n",
    "print (sentence_format_mixed.format(\"Jane\", \"Doe\", \"student\", \"She\", 29))"
   ]
  },
  {
   "cell_type": "markdown",
   "metadata": {
    "slideshow": {
     "slide_type": "subslide"
    }
   },
   "source": [
    "### F-strings are a modern way of formatting text.  \n",
    "### They are available as of Python Version 3.6 and are great!"
   ]
  },
  {
   "cell_type": "code",
   "execution_count": 30,
   "metadata": {
    "slideshow": {
     "slide_type": "fragment"
    }
   },
   "outputs": [
    {
     "name": "stdout",
     "output_type": "stream",
     "text": [
      "The person named Matt Gilbertson is your CIS Instructor\n"
     ]
    }
   ],
   "source": [
    "first_name = \"Matt\"\n",
    "last_name = \"Gilbertson\"\n",
    "occupation = \"CIS Instructor\"\n",
    "print(f'The person named {first_name} {last_name} is your {occupation}')"
   ]
  },
  {
   "cell_type": "markdown",
   "metadata": {
    "slideshow": {
     "slide_type": "subslide"
    }
   },
   "source": [
    "# Mocking User Input"
   ]
  },
  {
   "cell_type": "markdown",
   "metadata": {
    "slideshow": {
     "slide_type": "fragment"
    }
   },
   "source": [
    "### Now that we are accepting user input, we need to be able to test this scenario and automate it so we don't have to manually test everything"
   ]
  },
  {
   "cell_type": "code",
   "execution_count": 31,
   "metadata": {
    "slideshow": {
     "slide_type": "subslide"
    }
   },
   "outputs": [],
   "source": [
    "def yes_or_no():\n",
    "    answer = input(\"Do you want to quit? > \")\n",
    "    if answer == \"yes\":\n",
    "        return(\"Sorry to see you go!\")\n",
    "    elif answer == \"no\":\n",
    "        return(\"Awesome!\")\n",
    "    else:\n",
    "        return(\"BANG!\")"
   ]
  },
  {
   "cell_type": "code",
   "execution_count": 32,
   "metadata": {
    "slideshow": {
     "slide_type": "subslide"
    }
   },
   "outputs": [
    {
     "name": "stderr",
     "output_type": "stream",
     "text": [
      ".\n",
      "----------------------------------------------------------------------\n",
      "Ran 1 test in 0.004s\n",
      "\n",
      "OK\n"
     ]
    }
   ],
   "source": [
    "# Mock Example from Blackboard (function must be run first)\n",
    "import unittest\n",
    "import unittest.mock as mock\n",
    "\n",
    "class MyTestCase(unittest.TestCase):\n",
    "\n",
    "    def test_quit(self):\n",
    "\n",
    "        with mock.patch('builtins.input', return_value=\"yes\"):\n",
    "            assert yes_or_no() == \"Sorry to see you go!\"\n",
    "\n",
    "        with mock.patch('builtins.input', return_value=\"no\"):\n",
    "            assert yes_or_no() == \"Awesome!\"\n",
    "      \n",
    "        with mock.patch('builtins.input', return_value=\"123\"):\n",
    "            assert yes_or_no() == \"BANG!\"\n",
    "\n",
    "if __name__ == '__main__':\n",
    "    unittest.main(argv=[''],exit=False)"
   ]
  },
  {
   "cell_type": "markdown",
   "metadata": {
    "slideshow": {
     "slide_type": "subslide"
    }
   },
   "source": [
    "### This example from this site is useful:<a href=\"https://realpython.com/python-mock-library/\">realpython.com</a>"
   ]
  },
  {
   "cell_type": "code",
   "execution_count": null,
   "metadata": {
    "slideshow": {
     "slide_type": "subslide"
    }
   },
   "outputs": [],
   "source": [
    "# Another unittest.mock program\n",
    "# Some of this hasn't be introduced but is an interesting way of using mock input\n",
    "\n",
    "# What this program is doing is using mock dates in the place of the current datetime to test a function.\n",
    "# This is important for testing because datetime functions may work weird at unexpected times \n",
    "# (daylight savings for instance)\n",
    "\n",
    "# It first imports the datetime built in module to get the current datetime\n",
    "import datetime\n",
    "from unittest.mock import Mock\n",
    "\n",
    "# saturday and tuesday variables are assigned dates that we want to test\n",
    "saturday = datetime.datetime(year=2019, month=1, day=5)\n",
    "tuesday = datetime.datetime(year=2019, month=1, day=1)\n",
    "\n",
    "# This function assigns the \"today\" variable with the current datetime\n",
    "def is_weekday():\n",
    "    today = datetime.datetime.today()\n",
    "    # Python's datetime library treats Monday as 0 and Sunday as 6\n",
    "    # The function returns True/False on whether the date is between Monday and Friday\n",
    "    return (0 <= today.weekday() < 5)\n",
    "\n",
    "# We're now overriding datetime with Mock() so we can assign mock dates\n",
    "datetime=Mock()\n",
    "# We're now assigning the current date as tuesday\n",
    "datetime.datetime.today.return_value = tuesday\n",
    "# We now call the function with the assigned mock date and asserting that the result is true\n",
    "assert is_weekday()\n",
    "# We're now assigning the current date as saturday\n",
    "datetime.datetime.today.return_value = saturday\n",
    "# We now call the function with the assigned mock date and asserting that the result is false\n",
    "assert not is_weekday()\n",
    "   \n",
    "# Because all the tests passed, there is no output from this little program\n"
   ]
  },
  {
   "cell_type": "markdown",
   "metadata": {
    "slideshow": {
     "slide_type": "slide"
    }
   },
   "source": [
    "## Topic 3 - Operators"
   ]
  },
  {
   "cell_type": "code",
   "execution_count": 33,
   "metadata": {
    "slideshow": {
     "slide_type": "subslide"
    }
   },
   "outputs": [
    {
     "name": "stdout",
     "output_type": "stream",
     "text": [
      "True\n",
      "False\n",
      "True\n",
      "<class 'bool'>\n"
     ]
    }
   ],
   "source": [
    "#Boolean objects resolve to either True or False\n",
    "print(5==5)\n",
    "print(4>4)\n",
    "print(4>=4)\n",
    "print(type(10<5))"
   ]
  },
  {
   "cell_type": "markdown",
   "metadata": {
    "slideshow": {
     "slide_type": "subslide"
    }
   },
   "source": [
    "### Operators can also include logical operators: and, or, not"
   ]
  },
  {
   "cell_type": "code",
   "execution_count": 46,
   "metadata": {
    "slideshow": {
     "slide_type": "fragment"
    }
   },
   "outputs": [
    {
     "name": "stdout",
     "output_type": "stream",
     "text": [
      "False\n",
      "True\n",
      "False\n"
     ]
    }
   ],
   "source": [
    "#num_1 = 5\n",
    "#num_2 = 10\n",
    "#num_3 = 13\n",
    "#print(num_1 < num_2 and num_2 < num_3)\n",
    "#print(num_1 < num_2 < num_3)\n",
    "  \n",
    "#Be cautious about doing this:\n",
    "print(\"hammer\" == (6 or 5))\n",
    "print(\"hammer\" == \"hammer\" or \"hammer\" == \"something\")\n",
    "print(5 == (4 or 5))"
   ]
  }
 ],
 "metadata": {
  "celltoolbar": "Slideshow",
  "kernelspec": {
   "display_name": "Python 3",
   "language": "python",
   "name": "python3"
  },
  "language_info": {
   "codemirror_mode": {
    "name": "ipython",
    "version": 3
   },
   "file_extension": ".py",
   "mimetype": "text/x-python",
   "name": "python",
   "nbconvert_exporter": "python",
   "pygments_lexer": "ipython3",
   "version": "3.7.9"
  }
 },
 "nbformat": 4,
 "nbformat_minor": 2
}
