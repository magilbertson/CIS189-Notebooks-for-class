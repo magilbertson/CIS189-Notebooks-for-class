{
 "cells": [
  {
   "cell_type": "markdown",
   "metadata": {},
   "source": [
    "# Strings, lists, I/O, operators"
   ]
  },
  {
   "cell_type": "markdown",
   "metadata": {},
   "source": [
    "## Topic 1 - Strings and Lists"
   ]
  },
  {
   "cell_type": "code",
   "execution_count": 6,
   "metadata": {},
   "outputs": [
    {
     "name": "stdout",
     "output_type": "stream",
     "text": [
      "Itwas thebest of times\n",
      "It was the best of times\n",
      "It was the best of times\n"
     ]
    }
   ],
   "source": [
    "# Here are some strings assigned to variables\n",
    "string_1 = 'It'\n",
    "string_2 = 'was the'\n",
    "string_3 = 'best of times'\n",
    "# They can be concatenated together just like math\n",
    "print (string_1+string_2+string_3)\n",
    "# Let's add some spaces in there to make it look better\n",
    "print(string_1+ \" \" + string_2+ ' '+string_3)\n",
    "# We can also assign the result to a variable\n",
    "two_cities_tale= string_1+ \" \" + string_2+ ' '+string_3\n",
    "print(two_cities_tale)"
   ]
  },
  {
   "cell_type": "code",
   "execution_count": 7,
   "metadata": {},
   "outputs": [
    {
     "name": "stdout",
     "output_type": "stream",
     "text": [
      "It was the best of timesIt was the best of timesIt was the best of timesIt was the best of timesIt was the best of times\n"
     ]
    }
   ],
   "source": [
    "# We can also multiply strings\n",
    "print(two_cities_tale*5)"
   ]
  },
  {
   "cell_type": "code",
   "execution_count": 12,
   "metadata": {},
   "outputs": [
    {
     "name": "stdout",
     "output_type": "stream",
     "text": [
      "True\n",
      "False\n"
     ]
    }
   ],
   "source": [
    "# The \"in\" operator lets us check to see if a string of text is contained in another string of text\n",
    "# Please note that this check is case sensitive\n",
    "print(\"best of times\" in two_cities_tale)\n",
    "print(\"worst of times\" in two_cities_tale)\n"
   ]
  },
  {
   "cell_type": "code",
   "execution_count": 16,
   "metadata": {},
   "outputs": [
    {
     "name": "stdout",
     "output_type": "stream",
     "text": [
      "True\n",
      "False\n"
     ]
    }
   ],
   "source": [
    "# We can also do the opposite and use \"not in\" to check if a string is not in another string\n",
    "# Please note that this check is case sensitive\n",
    "print(\"age of foolishness\" not in two_cities_tale)\n",
    "print(\"best of times\" not in two_cities_tale)"
   ]
  },
  {
   "cell_type": "code",
   "execution_count": 20,
   "metadata": {},
   "outputs": [
    {
     "name": "stdout",
     "output_type": "stream",
     "text": [
      "24\n",
      "43\n",
      "52\n"
     ]
    }
   ],
   "source": [
    "# We can check the length of a string using 'len()'\n",
    "print(len(two_cities_tale))\n",
    "print(len('how long do you think this string would be?'))\n",
    "print(len(two_cities_tale + ' , it was the worst of times'))"
   ]
  },
  {
   "cell_type": "code",
   "execution_count": 31,
   "metadata": {},
   "outputs": [
    {
     "name": "stdout",
     "output_type": "stream",
     "text": [
      "Hello!\n",
      "72\n",
      "<class 'str'>\n"
     ]
    }
   ],
   "source": [
    "# Here are some other string functions:\n",
    "# chr() returns the ascii character matching the number\n",
    "print(chr(72)+chr(101)+chr(108)*2+chr(111)+chr(33))\n",
    "\n",
    "# ord() does the opposite, returning the ascii number for a character\n",
    "print(ord('H'))\n",
    "\n",
    "# str() turns objects into strings\n",
    "mytext=str(12345.789)\n",
    "print(type(mytext))"
   ]
  },
  {
   "cell_type": "code",
   "execution_count": 57,
   "metadata": {},
   "outputs": [
    {
     "name": "stdout",
     "output_type": "stream",
     "text": [
      "[2, 'legit', 2.0, 'quit']\n",
      "<class 'list'>\n",
      "<class 'int'>\n",
      "<class 'str'>\n",
      "<class 'float'>\n",
      "<class 'str'>\n"
     ]
    }
   ],
   "source": [
    "# Lists are groups of objects\n",
    "mixed_list = [2,'legit',2.,'quit']\n",
    "print(mixed_list)\n",
    "print(type(mixed_list))\n",
    "\n",
    "# Each item in a list can be of a different type. Items can be accessed by their index position (zero is the first position)\n",
    "print(type(mixed_list[0]))\n",
    "print(type(mixed_list[1]))\n",
    "print(type(mixed_list[2]))\n",
    "print(type(mixed_list[3]))"
   ]
  },
  {
   "cell_type": "code",
   "execution_count": 58,
   "metadata": {},
   "outputs": [
    {
     "name": "stdout",
     "output_type": "stream",
     "text": [
      "[2, 'legit', 2.0, 'quit', 2, 'legit']\n",
      "[2, 'legit', 2.0, 'quit', 2, 'legit']\n",
      "[2, 'legit', 2.0, 'quit', 2, 'legit', 2, 'legit', 2.0, 'quit', 2, 'legit']\n",
      "[]\n"
     ]
    }
   ],
   "source": [
    "# There are many manipulations that can be done on lists\n",
    "# Items can be appended\n",
    "mixed_list.append(2)\n",
    "mixed_list.append('legit')\n",
    "print(mixed_list)\n",
    "\n",
    "# The list can be copied\n",
    "other_mixed_list = mixed_list.copy()\n",
    "print(other_mixed_list)\n",
    "\n",
    "# A list can be extended with another list\n",
    "other_mixed_list.extend(mixed_list)\n",
    "print(other_mixed_list)\n",
    "\n",
    "# The list can be cleared\n",
    "mixed_list.clear()\n",
    "print(mixed_list)"
   ]
  },
  {
   "cell_type": "markdown",
   "metadata": {},
   "source": [
    "## Topic 2 - Basic Input and Output"
   ]
  }
 ],
 "metadata": {
  "kernelspec": {
   "display_name": "Python 3",
   "language": "python",
   "name": "python3"
  },
  "language_info": {
   "codemirror_mode": {
    "name": "ipython",
    "version": 3
   },
   "file_extension": ".py",
   "mimetype": "text/x-python",
   "name": "python",
   "nbconvert_exporter": "python",
   "pygments_lexer": "ipython3",
   "version": "3.7.3"
  }
 },
 "nbformat": 4,
 "nbformat_minor": 2
}
