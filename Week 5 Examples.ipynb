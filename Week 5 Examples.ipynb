{
 "cells": [
  {
   "cell_type": "markdown",
   "metadata": {},
   "source": [
    "# Module 5"
   ]
  },
  {
   "cell_type": "markdown",
   "metadata": {},
   "source": [
    "## Topic 1: for loops and range"
   ]
  },
  {
   "cell_type": "code",
   "execution_count": null,
   "metadata": {},
   "outputs": [],
   "source": [
    "mynumberlist=[1.5,55.5,1103.7,27.5,88,93,15]\n",
    "sum_up = 0\n",
    "mult = 1\n",
    "for x in mynumberlist:\n",
    "    sum_up += x\n",
    "    mult *= x\n",
    "print (sum_up, mult)"
   ]
  },
  {
   "cell_type": "code",
   "execution_count": null,
   "metadata": {},
   "outputs": [],
   "source": [
    "# Fibonacci sequence 0,1,1,2,3,5,8,13,21, etc. \n",
    "# It takes the sum of the previous two numbers to make the next number in the sequence\n",
    "fib_1 = 0\n",
    "fib_2 = 1\n",
    "for x in range(15):\n",
    "    print(fib_1)\n",
    "    temp = fib_1\n",
    "    fib_1 = fib_2\n",
    "    fib_2 = temp + fib_2\n",
    "    \n"
   ]
  },
  {
   "cell_type": "markdown",
   "metadata": {},
   "source": [
    "## Topic 2: The while loop"
   ]
  },
  {
   "cell_type": "code",
   "execution_count": 38,
   "metadata": {},
   "outputs": [
    {
     "name": "stdout",
     "output_type": "stream",
     "text": [
      "enter an integer to add up:25\n",
      "enter an integer to add up:1\n",
      "Your number is 26, which is bigger than 25\n"
     ]
    }
   ],
   "source": [
    "# Simple while loop\n",
    "# This while loop exits when the user's total integers entered get bigger than 25\n",
    "x = 0\n",
    "while x  <= 25:\n",
    "    x += int(input('enter an integer to add up:'))\n",
    "\n",
    "print(\"Your number is \",x,\", which is bigger than 25\", sep='')"
   ]
  },
  {
   "cell_type": "code",
   "execution_count": 34,
   "metadata": {},
   "outputs": [
    {
     "name": "stdout",
     "output_type": "stream",
     "text": [
      "enter a list item or 'done' when you are complete: some\n",
      "enter a list item or 'done' when you are complete: thing\n",
      "enter a list item or 'done' when you are complete: in\n",
      "enter a list item or 'done' when you are complete: this\n",
      "enter a list item or 'done' when you are complete: list\n",
      "enter a list item or 'done' when you are complete: done\n",
      "Here's your list:\n",
      "['some', 'thing', 'in', 'this', 'list']\n"
     ]
    }
   ],
   "source": [
    "# This while loop has a sentinel value of 'done' to let the user stop entering items in the list\n",
    "user_list=[]\n",
    "user_list_input = ''\n",
    "while user_list_input != 'done':\n",
    "    user_list.append(user_list_input)\n",
    "    user_list_input = input(\"enter a list item or 'done' when you are complete: \")\n",
    "    \n",
    "del user_list[0]\n",
    "print(\"Here's your list:\")\n",
    "print(user_list)\n",
    "    "
   ]
  }
 ],
 "metadata": {
  "kernelspec": {
   "display_name": "Python 3",
   "language": "python",
   "name": "python3"
  },
  "language_info": {
   "codemirror_mode": {
    "name": "ipython",
    "version": 3
   },
   "file_extension": ".py",
   "mimetype": "text/x-python",
   "name": "python",
   "nbconvert_exporter": "python",
   "pygments_lexer": "ipython3",
   "version": "3.7.3"
  }
 },
 "nbformat": 4,
 "nbformat_minor": 2
}
