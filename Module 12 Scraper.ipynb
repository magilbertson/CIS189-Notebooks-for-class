{
 "cells": [
  {
   "cell_type": "code",
   "execution_count": null,
   "metadata": {},
   "outputs": [],
   "source": [
    "from lxml import html, etree\n",
    "import requests\n",
    "import bs4 as bs\n",
    "\n",
    "url = 'https://www.dmacc.edu/schedule/Pages/result.aspx?Term=202001&Campus=1&Subject=CIS&CourseNumber=CIS189'\n",
    "response = requests.get(url)\n",
    "print (response.text)\n",
    "#html = response.content\n",
    "#print(html)\n",
    "#with open(\"requestResult.txt\",\"w+\") as file:\n",
    "#    file.writelines(str(html))\n",
    "#tree = html.fromstring(html.content)\n",
    "#print(tree.text)\n",
    "#soup = bs.BeautifulSoup(open(\"requestResult.txt\"), 'html.parser')\n",
    "#print(soup.prettify())\n",
    "#print(tree.xpath(\"body\"))\n",
    "#for element in tree.xpath(\"//div[@class='*']\"):\n",
    "    #print(element.text)\n",
    "    #print (etree.tostring(element))"
   ]
  },
  {
   "cell_type": "code",
   "execution_count": null,
   "metadata": {},
   "outputs": [],
   "source": [
    "import requests\n",
    "import bs4 as bs\n",
    "\n",
    "url = 'https://www.iowa-demographics.com/counties_by_population'\n",
    "response = requests.get(url)\n",
    "\n",
    "soup = bs.BeautifulSoup(response.text, 'html.parser')\n",
    "#links = soup.find_all(\"a\")\n",
    "#print(links)\n",
    "links = soup.find_all(\"table\")\n",
    "#print(links)\n",
    "header = soup.find_all(\"th\")\n",
    "print (header)\n",
    "rows = soup.find_all(\"tr\")\n",
    "print (rows)"
   ]
  },
  {
   "cell_type": "code",
   "execution_count": null,
   "metadata": {
    "scrolled": false
   },
   "outputs": [],
   "source": [
    "from pprint import pprint\n",
    "\n",
    "import pandas as pd\n",
    "\n",
    "df = pd.read_html('view-source:https://www.iowa-demographics.com/counties_by_population',attrs={'class':'ranklist'})[0]  # get the first parsed dataframe"
   ]
  },
  {
   "cell_type": "code",
   "execution_count": null,
   "metadata": {},
   "outputs": [],
   "source": [
    "#simple import\n",
    "import csv\n",
    "\n",
    "with open('Iowa 2010 Census Data Population Income.csv') as csv_file:\n",
    "    csv_reader = csv.reader(csv_file, delimiter=',')\n",
    "    line_count = 0\n",
    "    for row in csv_reader:\n",
    "        if line_count == 0:\n",
    "            print(f'Column names are {\", \".join(row)}')\n",
    "            line_count += 1\n",
    "        else:\n",
    "            print(row)\n",
    "            line_count += 1\n",
    "    print (f'processed {line_count} rows')"
   ]
  },
  {
   "cell_type": "code",
   "execution_count": null,
   "metadata": {},
   "outputs": [],
   "source": [
    "# Import to OrderedDict (explain this)\n",
    "import csv\n",
    "\n",
    "with open('Iowa 2010 Census Data Population Income.csv') as csv_file:\n",
    "    csv_reader = csv.DictReader(csv_file)\n",
    "    line_count = 0\n",
    "    for row in csv_reader:\n",
    "        if line_count == 0:\n",
    "            print(f'Column names are {\", \".join(row)}')\n",
    "            line_count += 1\n",
    "        # When using DictReader, the first row is ignored in the for loop row count\n",
    "        print(row)\n",
    "        line_count += 1\n",
    "    print (f'processed {line_count} rows')"
   ]
  },
  {
   "cell_type": "code",
   "execution_count": 126,
   "metadata": {},
   "outputs": [],
   "source": [
    "class CountyDemos:\n",
    "    def __init__(self,rank,per_capita,median_house_income,median_family_income,population,num_households):\n",
    "        self.rank = rank\n",
    "        self.per_capita = per_capita\n",
    "        self.median_house_income = median_house_income\n",
    "        self.median_family_income = median_family_income\n",
    "        self.population = population\n",
    "        self.num_households = num_households\n",
    "\n",
    "    "
   ]
  },
  {
   "cell_type": "code",
   "execution_count": 127,
   "metadata": {},
   "outputs": [],
   "source": [
    "with open('Iowa 2010 Census Data Population Income.csv') as csv_file:\n",
    "    csv_reader = csv.reader(csv_file, delimiter=',')\n",
    "    line_count = 0\n",
    "    county={}\n",
    "    for row in csv_reader:\n",
    "        if line_count == 0:\n",
    "            line_count += 1\n",
    "            continue\n",
    "        county[str(row[1])] = CountyDemos(row[0],row[2],row[3],row[4],row[5],row[6])"
   ]
  },
  {
   "cell_type": "code",
   "execution_count": 129,
   "metadata": {},
   "outputs": [
    {
     "ename": "SyntaxError",
     "evalue": "can't assign to function call (<ipython-input-129-a5a2a2f92753>, line 9)",
     "output_type": "error",
     "traceback": [
      "\u001b[1;36m  File \u001b[1;32m\"<ipython-input-129-a5a2a2f92753>\"\u001b[1;36m, line \u001b[1;32m9\u001b[0m\n\u001b[1;33m    str(row[1]) = CountyDemos(row[0],row[2],row[3],row[4],row[5],row[6])\u001b[0m\n\u001b[1;37m    ^\u001b[0m\n\u001b[1;31mSyntaxError\u001b[0m\u001b[1;31m:\u001b[0m can't assign to function call\n"
     ]
    }
   ],
   "source": []
  },
  {
   "cell_type": "code",
   "execution_count": 128,
   "metadata": {},
   "outputs": [
    {
     "name": "stdout",
     "output_type": "stream",
     "text": [
      "dict_keys(['Dallas', 'Dickinson', 'Polk', 'Warren', 'Linn', 'Plymouth', 'Johnson', 'Kossuth', 'Scott', 'United States', 'Worth', 'Grundy', 'Iowa County', 'Guthrie', 'Bremer', 'Boone', 'Madison', 'Cerro Gordo', 'Story', 'Mills', 'Clay', 'Iowa State', 'Poweshiek', 'Benton', 'Carroll', 'Dubuque', \"O'Brien\", 'Hamilton', 'Cedar', 'Marion', 'Humboldt', 'Cherokee', 'Emmet', 'Harrison', 'Audubon', 'Hardin', 'Muscatine', 'Butler', 'Washington', 'Greene', 'Jefferson', 'Ida', 'Sac', 'Pottawattamie', 'Fremont', 'Winneshiek', 'Clinton', 'Adams', 'Adair', 'Buchanan', 'Pocahontas', 'Black Hawk', 'Clarke', 'Jasper', 'Palo Alto', 'Wright', 'Osceola', 'Henry', 'Calhoun', 'Tama', 'Jackson', 'Jones', 'Mitchell', 'Monona', 'Hancock', 'Winnebago', 'Webster', 'Delaware', 'Des Moines', 'Franklin', 'Chickasaw', 'Howard', 'Marshall', 'Shelby', 'Wapello', 'Clayton', 'Keokuk', 'Woodbury', 'Davis', 'Ringgold', 'Cass', 'Lyon', 'Mahaska', 'Fayette', 'Floyd', 'Allamakee', 'Taylor', 'Sioux', 'Lee', 'Montgomery', 'Buena Vista', 'Monroe', 'Page', 'Crawford', 'Union', 'Louisa', 'Van Buren', 'Appanoose', 'Lucas', 'Wayne', 'Decatur'])\n",
      "('Dallas', <__main__.CountyDemos object at 0x000002F4EA105F60>)\n",
      "[('Dallas', <__main__.CountyDemos object at 0x000002F4EA105F60>), ('Dickinson', <__main__.CountyDemos object at 0x000002F4EA101550>), ('Polk', <__main__.CountyDemos object at 0x000002F4EA1014A8>), ('Warren', <__main__.CountyDemos object at 0x000002F4EA1017F0>), ('Linn', <__main__.CountyDemos object at 0x000002F4EA101908>), ('Plymouth', <__main__.CountyDemos object at 0x000002F4EA1019B0>), ('Johnson', <__main__.CountyDemos object at 0x000002F4EA101B70>), ('Kossuth', <__main__.CountyDemos object at 0x000002F4EA101E80>), ('Scott', <__main__.CountyDemos object at 0x000002F4EA101F28>), ('United States', <__main__.CountyDemos object at 0x000002F4EA101DA0>), ('Worth', <__main__.CountyDemos object at 0x000002F4EA101E48>), ('Grundy', <__main__.CountyDemos object at 0x000002F4EA101208>), ('Iowa County', <__main__.CountyDemos object at 0x000002F4EA1013C8>), ('Guthrie', <__main__.CountyDemos object at 0x000002F4EA101240>), ('Bremer', <__main__.CountyDemos object at 0x000002F4EA0E0F28>), ('Boone', <__main__.CountyDemos object at 0x000002F4EA0E0DD8>), ('Madison', <__main__.CountyDemos object at 0x000002F4EA0E0CC0>), ('Cerro Gordo', <__main__.CountyDemos object at 0x000002F4EA0E0F98>), ('Story', <__main__.CountyDemos object at 0x000002F4EA0E07F0>), ('Mills', <__main__.CountyDemos object at 0x000002F4EA0E0B00>), ('Clay', <__main__.CountyDemos object at 0x000002F4EA0E04E0>), ('Iowa State', <__main__.CountyDemos object at 0x000002F4EA0E09B0>), ('Poweshiek', <__main__.CountyDemos object at 0x000002F4EA0B12B0>), ('Benton', <__main__.CountyDemos object at 0x000002F4EA0B1198>), ('Carroll', <__main__.CountyDemos object at 0x000002F4EA0B1AC8>), ('Dubuque', <__main__.CountyDemos object at 0x000002F4EA0B1710>), (\"O'Brien\", <__main__.CountyDemos object at 0x000002F4EA0B1C88>), ('Hamilton', <__main__.CountyDemos object at 0x000002F4EA0B1550>), ('Cedar', <__main__.CountyDemos object at 0x000002F4EA0B1F28>), ('Marion', <__main__.CountyDemos object at 0x000002F4EA0B78D0>), ('Humboldt', <__main__.CountyDemos object at 0x000002F4EA0B76D8>), ('Cherokee', <__main__.CountyDemos object at 0x000002F4EA0B73C8>), ('Emmet', <__main__.CountyDemos object at 0x000002F4EA0B7748>), ('Harrison', <__main__.CountyDemos object at 0x000002F4EA0B7C18>), ('Audubon', <__main__.CountyDemos object at 0x000002F4EA106588>), ('Hardin', <__main__.CountyDemos object at 0x000002F4EA1060B8>), ('Muscatine', <__main__.CountyDemos object at 0x000002F4EA1067B8>), ('Butler', <__main__.CountyDemos object at 0x000002F4EA1064A8>), ('Washington', <__main__.CountyDemos object at 0x000002F4EA1069B0>), ('Greene', <__main__.CountyDemos object at 0x000002F4EA11DE10>), ('Jefferson', <__main__.CountyDemos object at 0x000002F4EA11DEF0>), ('Ida', <__main__.CountyDemos object at 0x000002F4EA124048>), ('Sac', <__main__.CountyDemos object at 0x000002F4EA129320>), ('Pottawattamie', <__main__.CountyDemos object at 0x000002F4EA129550>), ('Fremont', <__main__.CountyDemos object at 0x000002F4EA129668>), ('Winneshiek', <__main__.CountyDemos object at 0x000002F4EA129748>), ('Clinton', <__main__.CountyDemos object at 0x000002F4EA129860>), ('Adams', <__main__.CountyDemos object at 0x000002F4EA129978>), ('Adair', <__main__.CountyDemos object at 0x000002F4EA129A90>), ('Buchanan', <__main__.CountyDemos object at 0x000002F4EA129B70>), ('Pocahontas', <__main__.CountyDemos object at 0x000002F4EA129C50>), ('Black Hawk', <__main__.CountyDemos object at 0x000002F4EA129D30>), ('Clarke', <__main__.CountyDemos object at 0x000002F4EA129E48>), ('Jasper', <__main__.CountyDemos object at 0x000002F4EA129F60>), ('Palo Alto', <__main__.CountyDemos object at 0x000002F4EA112080>), ('Wright', <__main__.CountyDemos object at 0x000002F4EA112198>), ('Osceola', <__main__.CountyDemos object at 0x000002F4EA1122B0>), ('Henry', <__main__.CountyDemos object at 0x000002F4EA1123C8>), ('Calhoun', <__main__.CountyDemos object at 0x000002F4EA1124E0>), ('Tama', <__main__.CountyDemos object at 0x000002F4EA1125F8>), ('Jackson', <__main__.CountyDemos object at 0x000002F4EA112710>), ('Jones', <__main__.CountyDemos object at 0x000002F4EA112828>), ('Mitchell', <__main__.CountyDemos object at 0x000002F4EA112908>), ('Monona', <__main__.CountyDemos object at 0x000002F4EA112A20>), ('Hancock', <__main__.CountyDemos object at 0x000002F4EA112B38>), ('Winnebago', <__main__.CountyDemos object at 0x000002F4EA112C18>), ('Webster', <__main__.CountyDemos object at 0x000002F4EA112D30>), ('Delaware', <__main__.CountyDemos object at 0x000002F4EA112E10>), ('Des Moines', <__main__.CountyDemos object at 0x000002F4EA112EF0>), ('Franklin', <__main__.CountyDemos object at 0x000002F4EA112FD0>), ('Chickasaw', <__main__.CountyDemos object at 0x000002F4EA1200F0>), ('Howard', <__main__.CountyDemos object at 0x000002F4EA120208>), ('Marshall', <__main__.CountyDemos object at 0x000002F4EA1202E8>), ('Shelby', <__main__.CountyDemos object at 0x000002F4EA120400>), ('Wapello', <__main__.CountyDemos object at 0x000002F4EA120518>), ('Clayton', <__main__.CountyDemos object at 0x000002F4EA120630>), ('Keokuk', <__main__.CountyDemos object at 0x000002F4EA120748>), ('Woodbury', <__main__.CountyDemos object at 0x000002F4EA120828>), ('Davis', <__main__.CountyDemos object at 0x000002F4EA120940>), ('Ringgold', <__main__.CountyDemos object at 0x000002F4EA120A20>), ('Cass', <__main__.CountyDemos object at 0x000002F4EA120B38>), ('Lyon', <__main__.CountyDemos object at 0x000002F4EA120C50>), ('Mahaska', <__main__.CountyDemos object at 0x000002F4EA120D68>), ('Fayette', <__main__.CountyDemos object at 0x000002F4EA120E80>), ('Floyd', <__main__.CountyDemos object at 0x000002F4EA120F98>), ('Allamakee', <__main__.CountyDemos object at 0x000002F4EA12B0B8>), ('Taylor', <__main__.CountyDemos object at 0x000002F4EA12B1D0>), ('Sioux', <__main__.CountyDemos object at 0x000002F4EA12B2E8>), ('Lee', <__main__.CountyDemos object at 0x000002F4EA12B400>), ('Montgomery', <__main__.CountyDemos object at 0x000002F4EA12B4E0>), ('Buena Vista', <__main__.CountyDemos object at 0x000002F4EA12B5C0>), ('Monroe', <__main__.CountyDemos object at 0x000002F4EA12B6D8>), ('Page', <__main__.CountyDemos object at 0x000002F4EA12B7F0>), ('Crawford', <__main__.CountyDemos object at 0x000002F4EA12B8D0>), ('Union', <__main__.CountyDemos object at 0x000002F4EA12B9E8>), ('Louisa', <__main__.CountyDemos object at 0x000002F4EA12BB00>), ('Van Buren', <__main__.CountyDemos object at 0x000002F4EA12BBE0>), ('Appanoose', <__main__.CountyDemos object at 0x000002F4EA12BCC0>), ('Lucas', <__main__.CountyDemos object at 0x000002F4EA12BDD8>), ('Wayne', <__main__.CountyDemos object at 0x000002F4EA12BEF0>), ('Decatur', <__main__.CountyDemos object at 0x000002F4EA12C048>)]\n"
     ]
    }
   ],
   "source": [
    "print(county.keys())\n",
    "county_list=list(county.items())\n",
    "print(county_list[0])\n",
    "del county[\"Iowa State\"]\n",
    "print(county_list)"
   ]
  },
  {
   "cell_type": "code",
   "execution_count": null,
   "metadata": {},
   "outputs": [],
   "source": [
    "for item in county:\n",
    "    print (county[item].rank)\n",
    "    if (county[item].rank)==\"\":\n",
    "        del county[item]\n",
    "    "
   ]
  },
  {
   "cell_type": "code",
   "execution_count": 121,
   "metadata": {},
   "outputs": [
    {
     "name": "stdout",
     "output_type": "stream",
     "text": [
      "['Dallas', 'Dickinson', 'Polk', 'Warren', 'Linn', 'Plymouth', 'Johnson', 'Kossuth', 'Scott', 'Worth', 'Grundy', 'Iowa County', 'Guthrie', 'Bremer', 'Boone', 'Madison', 'Cerro Gordo', 'Story', 'Mills', 'Clay', 'Poweshiek', 'Benton', 'Carroll', 'Dubuque', \"O'Brien\", 'Hamilton', 'Cedar', 'Marion', 'Humboldt', 'Cherokee', 'Emmet', 'Harrison', 'Audubon', 'Hardin', 'Muscatine', 'Butler', 'Washington', 'Greene', 'Jefferson', 'Ida', 'Sac', 'Pottawattamie', 'Fremont', 'Winneshiek', 'Clinton', 'Adams', 'Adair', 'Buchanan', 'Pocahontas', 'Black Hawk', 'Clarke', 'Jasper', 'Palo Alto', 'Wright', 'Osceola', 'Henry', 'Calhoun', 'Tama', 'Jackson', 'Jones', 'Mitchell', 'Monona', 'Hancock', 'Winnebago', 'Webster', 'Delaware', 'Des Moines', 'Franklin', 'Chickasaw', 'Howard', 'Marshall', 'Shelby', 'Wapello', 'Clayton', 'Keokuk', 'Woodbury', 'Davis', 'Ringgold', 'Cass', 'Lyon', 'Mahaska', 'Fayette', 'Floyd', 'Allamakee', 'Taylor', 'Sioux', 'Lee', 'Montgomery', 'Buena Vista', 'Monroe', 'Page', 'Crawford', 'Union', 'Louisa', 'Van Buren', 'Appanoose', 'Lucas', 'Wayne', 'Decatur']\n",
      "['Adair', 'Adams', 'Allamakee', 'Appanoose', 'Audubon', 'Benton', 'Black Hawk', 'Boone', 'Bremer', 'Buchanan', 'Buena Vista', 'Butler', 'Calhoun', 'Carroll', 'Cass', 'Cedar', 'Cerro Gordo', 'Cherokee', 'Chickasaw', 'Clarke', 'Clay', 'Clayton', 'Clinton', 'Crawford', 'Dallas', 'Davis', 'Decatur', 'Delaware', 'Des Moines', 'Dickinson', 'Dubuque', 'Emmet', 'Fayette', 'Floyd', 'Franklin', 'Fremont', 'Greene', 'Grundy', 'Guthrie', 'Hamilton', 'Hancock', 'Hardin', 'Harrison', 'Henry', 'Howard', 'Humboldt', 'Ida', 'Iowa County', 'Jackson', 'Jasper', 'Jefferson', 'Johnson', 'Jones', 'Keokuk', 'Kossuth', 'Lee', 'Linn', 'Louisa', 'Lucas', 'Lyon', 'Madison', 'Mahaska', 'Marion', 'Marshall', 'Mills', 'Mitchell', 'Monona', 'Monroe', 'Montgomery', 'Muscatine', \"O'Brien\", 'Osceola', 'Page', 'Palo Alto', 'Plymouth', 'Pocahontas', 'Polk', 'Pottawattamie', 'Poweshiek', 'Ringgold', 'Sac', 'Scott', 'Shelby', 'Sioux', 'Story', 'Tama', 'Taylor', 'Union', 'Van Buren', 'Wapello', 'Warren', 'Washington', 'Wayne', 'Webster', 'Winnebago', 'Winneshiek', 'Woodbury', 'Worth', 'Wright']\n"
     ]
    }
   ],
   "source": [
    "county_names = list(county.keys())\n",
    "print(county_names)\n",
    "county_names.sort()\n",
    "print(county_names)"
   ]
  },
  {
   "cell_type": "code",
   "execution_count": 125,
   "metadata": {},
   "outputs": [
    {
     "ename": "ValueError",
     "evalue": "too many values to unpack (expected 2)",
     "output_type": "error",
     "traceback": [
      "\u001b[1;31m---------------------------------------------------------------------------\u001b[0m",
      "\u001b[1;31mValueError\u001b[0m                                Traceback (most recent call last)",
      "\u001b[1;32m<ipython-input-125-194debdcab72>\u001b[0m in \u001b[0;36m<module>\u001b[1;34m\u001b[0m\n\u001b[0;32m      1\u001b[0m \u001b[1;32mimport\u001b[0m \u001b[0mcollections\u001b[0m\u001b[1;33m\u001b[0m\u001b[1;33m\u001b[0m\u001b[0m\n\u001b[0;32m      2\u001b[0m \u001b[0malpha_sort_county\u001b[0m \u001b[1;33m=\u001b[0m \u001b[0mcollections\u001b[0m\u001b[1;33m.\u001b[0m\u001b[0mOrderedDict\u001b[0m\u001b[1;33m(\u001b[0m\u001b[1;33m)\u001b[0m\u001b[1;33m\u001b[0m\u001b[1;33m\u001b[0m\u001b[0m\n\u001b[1;32m----> 3\u001b[1;33m \u001b[1;32mfor\u001b[0m \u001b[0mk\u001b[0m\u001b[1;33m,\u001b[0m\u001b[0mv\u001b[0m \u001b[1;32min\u001b[0m \u001b[0mcounty_names\u001b[0m\u001b[1;33m:\u001b[0m\u001b[1;33m\u001b[0m\u001b[1;33m\u001b[0m\u001b[0m\n\u001b[0m\u001b[0;32m      4\u001b[0m     \u001b[0malpha_sort_county\u001b[0m\u001b[1;33m[\u001b[0m\u001b[0mk\u001b[0m\u001b[1;33m]\u001b[0m\u001b[1;33m=\u001b[0m\u001b[0mv\u001b[0m\u001b[1;33m\u001b[0m\u001b[1;33m\u001b[0m\u001b[0m\n",
      "\u001b[1;31mValueError\u001b[0m: too many values to unpack (expected 2)"
     ]
    }
   ],
   "source": [
    "import collections\n",
    "alpha_sort_county = collections.OrderedDict()\n",
    "for v in county_names:\n",
    "    alpha_sort_county[v]=v"
   ]
  },
  {
   "cell_type": "code",
   "execution_count": null,
   "metadata": {},
   "outputs": [],
   "source": [
    "import collections\n",
    "with open('Iowa 2010 Census Data Population Income.csv') as csv_file:\n",
    "    csv_reader = csv.reader(csv_file, delimiter=',')\n",
    "    line_count = 0\n",
    "    county=collections.OrderedDict()\n",
    "    for row in csv_reader:\n",
    "        if line_count == 0:\n",
    "            line_count += 1\n",
    "            continue\n",
    "        county[str(row[1])] = CountyDemos(row[0],row[2],row[3],row[4],row[5],row[6])"
   ]
  }
 ],
 "metadata": {
  "kernelspec": {
   "display_name": "Python 3",
   "language": "python",
   "name": "python3"
  },
  "language_info": {
   "codemirror_mode": {
    "name": "ipython",
    "version": 3
   },
   "file_extension": ".py",
   "mimetype": "text/x-python",
   "name": "python",
   "nbconvert_exporter": "python",
   "pygments_lexer": "ipython3",
   "version": "3.7.6"
  }
 },
 "nbformat": 4,
 "nbformat_minor": 2
}
