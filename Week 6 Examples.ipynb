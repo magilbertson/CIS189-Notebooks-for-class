{
 "cells": [
  {
   "cell_type": "markdown",
   "metadata": {
    "slideshow": {
     "slide_type": "slide"
    }
   },
   "source": [
    "# Module 6: Functions"
   ]
  },
  {
   "cell_type": "markdown",
   "metadata": {
    "slideshow": {
     "slide_type": "slide"
    }
   },
   "source": [
    "## Topic 1: Function and Function calls"
   ]
  },
  {
   "cell_type": "code",
   "execution_count": 22,
   "metadata": {
    "slideshow": {
     "slide_type": "subslide"
    }
   },
   "outputs": [],
   "source": [
    "# This is a simple function that takes an input and multiplies it by 3\n",
    "def multiply_by_3(start_number):\n",
    "    # Takes an input and multiplies it by 3\n",
    "    return start_number * 3"
   ]
  },
  {
   "cell_type": "code",
   "execution_count": 23,
   "metadata": {
    "slideshow": {
     "slide_type": "fragment"
    }
   },
   "outputs": [
    {
     "name": "stdout",
     "output_type": "stream",
     "text": [
      "15\n"
     ]
    }
   ],
   "source": [
    "print(multiply_by_3(5))"
   ]
  },
  {
   "cell_type": "markdown",
   "metadata": {
    "slideshow": {
     "slide_type": "subslide"
    }
   },
   "source": [
    "### Now we will create the same function but add some try-except logic and handle the exception output in the function"
   ]
  },
  {
   "cell_type": "code",
   "execution_count": 24,
   "metadata": {
    "slideshow": {
     "slide_type": "subslide"
    }
   },
   "outputs": [],
   "source": [
    "# This is a simple function that takes an input and multiplies it by 3 and returns a value error\n",
    "# if bad input is entered.\n",
    "def multiply_by_3(start_number):\n",
    "    # Takes an input and multiplies it by 3\n",
    "    try:\n",
    "        solution =  int(start_number * 3)\n",
    "    except:\n",
    "        return \"Bad Input!\"\n",
    "    else: \n",
    "        return solution"
   ]
  },
  {
   "cell_type": "code",
   "execution_count": 26,
   "metadata": {
    "slideshow": {
     "slide_type": "fragment"
    }
   },
   "outputs": [
    {
     "data": {
      "text/plain": [
       "'Bad Input!'"
      ]
     },
     "execution_count": 26,
     "metadata": {},
     "output_type": "execute_result"
    }
   ],
   "source": [
    "multiply_by_3('r')"
   ]
  },
  {
   "cell_type": "markdown",
   "metadata": {
    "slideshow": {
     "slide_type": "subslide"
    }
   },
   "source": [
    "### The try-except logic can also be added to the main program"
   ]
  },
  {
   "cell_type": "code",
   "execution_count": 27,
   "metadata": {
    "slideshow": {
     "slide_type": "subslide"
    }
   },
   "outputs": [],
   "source": [
    " # This is a simple function that takes an input and multiplies it by 3 and returns a value error if bad input is entered.\n",
    "def multiply_by_3(start_number):\n",
    "    solution =  int(start_number * 3)     \n",
    "    return solution"
   ]
  },
  {
   "cell_type": "code",
   "execution_count": 30,
   "metadata": {
    "slideshow": {
     "slide_type": "subslide"
    }
   },
   "outputs": [
    {
     "name": "stdout",
     "output_type": "stream",
     "text": [
      "That's a value error my friend\n"
     ]
    }
   ],
   "source": [
    "try:\n",
    "    something=multiply_by_3('er')\n",
    "except ValueError:\n",
    "    print(\"That's a value error my friend\")\n",
    "else:\n",
    "    print(something)\n",
    "    "
   ]
  },
  {
   "cell_type": "markdown",
   "metadata": {
    "slideshow": {
     "slide_type": "slide"
    }
   },
   "source": [
    "## Topic 2: Function Return Values"
   ]
  },
  {
   "cell_type": "markdown",
   "metadata": {
    "slideshow": {
     "slide_type": "subslide"
    }
   },
   "source": [
    "### Mostly review but please note the PEP 287 item introducing reStructuredText Docstring Format"
   ]
  },
  {
   "cell_type": "markdown",
   "metadata": {
    "slideshow": {
     "slide_type": "subslide"
    }
   },
   "source": [
    "### Here's a previous function with PEP287 Docstring Added"
   ]
  },
  {
   "cell_type": "code",
   "execution_count": 31,
   "metadata": {
    "slideshow": {
     "slide_type": "subslide"
    }
   },
   "outputs": [],
   "source": [
    "def multiply_by_3(start_number):\n",
    "    # Takes an input and multiplies it by 3\n",
    "    # :param start_number: Initial number that will have math done to it\n",
    "    # :returns: the number input multiplied by 3 as an int\n",
    "    # :raises ValueError: on string input\n",
    "    try:\n",
    "        solution =  int(start_number * 3)\n",
    "    except:\n",
    "        print(\"Bad Input!\")\n",
    "        raise ValueError\n",
    "    else: \n",
    "        return solution"
   ]
  },
  {
   "cell_type": "markdown",
   "metadata": {
    "slideshow": {
     "slide_type": "subslide"
    }
   },
   "source": [
    "### Please note that functions can only have 1 return object.  This object can be a string, number, variable, or a collection like a list, tuple, dictionary, etc."
   ]
  },
  {
   "cell_type": "markdown",
   "metadata": {
    "slideshow": {
     "slide_type": "slide"
    }
   },
   "source": [
    "## Topic 3: Function Parameters"
   ]
  },
  {
   "cell_type": "markdown",
   "metadata": {
    "slideshow": {
     "slide_type": "subslide"
    }
   },
   "source": [
    "### Functions can accept 0 to many input parameters.\n",
    "### Input parameters can be of any datatype"
   ]
  },
  {
   "cell_type": "markdown",
   "metadata": {
    "slideshow": {
     "slide_type": "subslide"
    }
   },
   "source": [
    "### Variables passed into functions are not themselves changed, even if they are manipulated within the function"
   ]
  },
  {
   "cell_type": "code",
   "execution_count": 32,
   "metadata": {
    "slideshow": {
     "slide_type": "subslide"
    }
   },
   "outputs": [],
   "source": [
    "def change_a_number(number):\n",
    "    number += 45\n",
    "    return number"
   ]
  },
  {
   "cell_type": "code",
   "execution_count": 35,
   "metadata": {
    "slideshow": {
     "slide_type": "fragment"
    }
   },
   "outputs": [
    {
     "name": "stdout",
     "output_type": "stream",
     "text": [
      "59\n",
      "14\n"
     ]
    }
   ],
   "source": [
    "number = 14\n",
    "print(change_a_number(number))\n",
    "print(number)\n",
    "\n"
   ]
  },
  {
   "cell_type": "markdown",
   "metadata": {
    "slideshow": {
     "slide_type": "slide"
    }
   },
   "source": [
    "## Topic 4: Functions with variable parameter lists"
   ]
  },
  {
   "cell_type": "markdown",
   "metadata": {
    "slideshow": {
     "slide_type": "subslide"
    }
   },
   "source": [
    "### Functions can have more parameters/arguments as input than what you send when you call them.  This is done by setting defaults when defining the function"
   ]
  },
  {
   "cell_type": "code",
   "execution_count": 36,
   "metadata": {
    "slideshow": {
     "slide_type": "subslide"
    }
   },
   "outputs": [],
   "source": [
    "def get_user_info(prompt=\"Tell me your first name: \"):\n",
    "    ### This function gets user input using either default prompting or as a parameter\n",
    "    user_input = input(prompt)\n",
    "    return user_input"
   ]
  },
  {
   "cell_type": "code",
   "execution_count": 37,
   "metadata": {
    "slideshow": {
     "slide_type": "fragment"
    }
   },
   "outputs": [
    {
     "name": "stdout",
     "output_type": "stream",
     "text": [
      "Tell me your first name: matt\n",
      "Tell me your last name: gilbertson\n",
      "matt gilbertson\n"
     ]
    }
   ],
   "source": [
    "user_first_name = get_user_info()\n",
    "user_last_name = get_user_info(\"Tell me your last name: \")\n",
    "print(user_first_name,user_last_name)"
   ]
  },
  {
   "cell_type": "markdown",
   "metadata": {
    "slideshow": {
     "slide_type": "subslide"
    }
   },
   "source": [
    "### These functions can also have multiple default parameters/arguments"
   ]
  },
  {
   "cell_type": "code",
   "execution_count": 38,
   "metadata": {
    "slideshow": {
     "slide_type": "subslide"
    }
   },
   "outputs": [],
   "source": [
    "def check_inputs(value):\n",
    "    ### This function checks to make sure the user inputs are True or False\n",
    "    if(value not in [True,False]):\n",
    "        return \"E\"\n",
    "\n",
    "def alarm_clock_setup(hour_wake, minute_wake, buzz=True, AM=True):\n",
    "    ### This function takes inputs for the hour and minute and returns the alarm time.\n",
    "    ### buzz if true will buzz the alarm, otherwise will use a tone\n",
    "    ### AM if true will set the alarm for AM\n",
    "    if (check_inputs(buzz)==\"E\" or check_inputs(AM)==\"E\"):\n",
    "        return ValueError\n",
    "    if (AM==True):\n",
    "        morning_night = 'AM'\n",
    "    else:\n",
    "        morning_night = 'PM'\n",
    "    if (buzz==True):\n",
    "        will_buzz = \"You will be woken with a buzz\"\n",
    "    else:\n",
    "        will_buzz = \"You will be woken with a tone\"\n",
    "    print(\"The alarm is set for: \", hour_wake,\":\", minute_wake, \" \", morning_night, \".\", sep=\"\")\n",
    "    print(will_buzz)"
   ]
  },
  {
   "cell_type": "code",
   "execution_count": 40,
   "metadata": {
    "slideshow": {
     "slide_type": "subslide"
    }
   },
   "outputs": [
    {
     "name": "stdout",
     "output_type": "stream",
     "text": [
      "The alarm is set for: 6:55 PM.\n",
      "You will be woken with a tone\n",
      "The alarm is set for: 7:45 AM.\n",
      "You will be woken with a buzz\n"
     ]
    }
   ],
   "source": [
    "#alarm_clock_setup(6,45)\n",
    "#print()\n",
    "alarm_clock_setup(6,55,AM=False, buzz=False)\n",
    "#print()\n",
    "alarm_clock_setup(7,45,False)"
   ]
  },
  {
   "cell_type": "markdown",
   "metadata": {
    "slideshow": {
     "slide_type": "slide"
    }
   },
   "source": [
    "## Topic 5: Inner Functions"
   ]
  },
  {
   "cell_type": "markdown",
   "metadata": {
    "slideshow": {
     "slide_type": "subslide"
    }
   },
   "source": [
    "### Inner Functions (AKA Nested Functions)"
   ]
  },
  {
   "cell_type": "markdown",
   "metadata": {
    "slideshow": {
     "slide_type": "fragment"
    }
   },
   "source": [
    "### Inner functions are functions contained (encapsulated) within another function.  The unique thing about them is that they can only be called from the outer function.  The rest of the program has no awareness of the inner function."
   ]
  },
  {
   "cell_type": "code",
   "execution_count": 41,
   "metadata": {
    "slideshow": {
     "slide_type": "subslide"
    }
   },
   "outputs": [],
   "source": [
    "def get_a_number(number):\n",
    "    def multiply_number_by_2(initial_number):\n",
    "        final_number = initial_number * 2\n",
    "        return final_number\n",
    "    multiplied_number = multiply_number_by_2(number)\n",
    "    return multiplied_number"
   ]
  },
  {
   "cell_type": "code",
   "execution_count": 42,
   "metadata": {
    "slideshow": {
     "slide_type": "fragment"
    }
   },
   "outputs": [
    {
     "name": "stdout",
     "output_type": "stream",
     "text": [
      "14\n"
     ]
    }
   ],
   "source": [
    "print(get_a_number(7))"
   ]
  },
  {
   "cell_type": "code",
   "execution_count": 43,
   "metadata": {
    "slideshow": {
     "slide_type": "subslide"
    }
   },
   "outputs": [
    {
     "ename": "NameError",
     "evalue": "name 'multiply_number_by_2' is not defined",
     "output_type": "error",
     "traceback": [
      "\u001b[1;31m---------------------------------------------------------------------------\u001b[0m",
      "\u001b[1;31mNameError\u001b[0m                                 Traceback (most recent call last)",
      "\u001b[1;32m<ipython-input-43-b996cca9aad9>\u001b[0m in \u001b[0;36m<module>\u001b[1;34m\u001b[0m\n\u001b[1;32m----> 1\u001b[1;33m \u001b[0mmultiply_number_by_2\u001b[0m\u001b[1;33m(\u001b[0m\u001b[1;36m5\u001b[0m\u001b[1;33m)\u001b[0m\u001b[1;33m\u001b[0m\u001b[1;33m\u001b[0m\u001b[0m\n\u001b[0m",
      "\u001b[1;31mNameError\u001b[0m: name 'multiply_number_by_2' is not defined"
     ]
    }
   ],
   "source": [
    "multiply_number_by_2(5)"
   ]
  },
  {
   "cell_type": "markdown",
   "metadata": {
    "slideshow": {
     "slide_type": "subslide"
    }
   },
   "source": [
    "### Factory Functions (AKA Closures)"
   ]
  },
  {
   "cell_type": "markdown",
   "metadata": {
    "slideshow": {
     "slide_type": "subslide"
    }
   },
   "source": [
    "### A factory function is a function that creates new functions when it's run"
   ]
  },
  {
   "cell_type": "code",
   "execution_count": 44,
   "metadata": {
    "slideshow": {
     "slide_type": "subslide"
    }
   },
   "outputs": [],
   "source": [
    "def create_animal(name):\n",
    "    def my_pet(pet_name,size,legs):\n",
    "        print (\"My pet is a \",name,\". \", \"It is \",size,\" and has \",legs,\" legs\",sep=\"\")\n",
    "    return my_pet\n",
    "    "
   ]
  },
  {
   "cell_type": "code",
   "execution_count": 45,
   "metadata": {
    "slideshow": {
     "slide_type": "subslide"
    }
   },
   "outputs": [
    {
     "name": "stdout",
     "output_type": "stream",
     "text": [
      "My pet is a dog. It is small and has 4 legs\n"
     ]
    }
   ],
   "source": [
    "# I first create my function by calling my factory function and assigning it to a variable\n",
    "my_pet_dog = create_animal(\"dog\")\n",
    "# My_pet_dog is now a function that remembers the name \"dog\" from when it was created and \n",
    "# can be run independently of the create_animal function\n",
    "my_pet_dog('Rex',\"small\", 4)"
   ]
  },
  {
   "cell_type": "code",
   "execution_count": 46,
   "metadata": {
    "slideshow": {
     "slide_type": "subslide"
    }
   },
   "outputs": [
    {
     "name": "stdout",
     "output_type": "stream",
     "text": [
      "My pet is a kitty. It is huge and has 3 legs\n"
     ]
    }
   ],
   "source": [
    "my_pet_cat = create_animal(\"kitty\")\n",
    "my_pet_cat(\"Fluffy\", \"huge\", 3)"
   ]
  }
 ],
 "metadata": {
  "celltoolbar": "Slideshow",
  "kernelspec": {
   "display_name": "Python 3",
   "language": "python",
   "name": "python3"
  },
  "language_info": {
   "codemirror_mode": {
    "name": "ipython",
    "version": 3
   },
   "file_extension": ".py",
   "mimetype": "text/x-python",
   "name": "python",
   "nbconvert_exporter": "python",
   "pygments_lexer": "ipython3",
   "version": "3.7.3"
  }
 },
 "nbformat": 4,
 "nbformat_minor": 2
}
