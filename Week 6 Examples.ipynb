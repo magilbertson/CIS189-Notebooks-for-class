{
 "cells": [
  {
   "cell_type": "markdown",
   "metadata": {
    "slideshow": {
     "slide_type": "slide"
    }
   },
   "source": [
    "# Module 5 "
   ]
  },
  {
   "cell_type": "markdown",
   "metadata": {
    "slideshow": {
     "slide_type": "slide"
    }
   },
   "source": [
    "## Topic 1: Function and Function calls"
   ]
  },
  {
   "cell_type": "code",
   "execution_count": null,
   "metadata": {
    "slideshow": {
     "slide_type": "subslide"
    }
   },
   "outputs": [],
   "source": [
    "# This is a simple function that takes an input and multiplies it by 3\n",
    "def multiply_by_3(start_number):\n",
    "    # Takes an input and multiplies it by 3\n",
    "    return start_number *3"
   ]
  },
  {
   "cell_type": "code",
   "execution_count": null,
   "metadata": {
    "slideshow": {
     "slide_type": "subslide"
    }
   },
   "outputs": [],
   "source": [
    "print(multiply_by_3(5))"
   ]
  },
  {
   "cell_type": "markdown",
   "metadata": {
    "slideshow": {
     "slide_type": "subslide"
    }
   },
   "source": [
    "### Now we will create the same function but add some try-except logic and handle the exception output in the function"
   ]
  },
  {
   "cell_type": "code",
   "execution_count": null,
   "metadata": {
    "slideshow": {
     "slide_type": "subslide"
    }
   },
   "outputs": [],
   "source": [
    "# This is a simple function that takes an input and multiplies it by 3 and returns a value error if bad input is entered.\n",
    "def multiply_by_3(start_number):\n",
    "    # Takes an input and multiplies it by 3\n",
    "    try:\n",
    "        solution =  int(start_number * 3)\n",
    "    except:\n",
    "        print(\"Bad Input!\")\n",
    "    else: \n",
    "        return solution"
   ]
  },
  {
   "cell_type": "code",
   "execution_count": null,
   "metadata": {
    "slideshow": {
     "slide_type": "subslide"
    }
   },
   "outputs": [],
   "source": [
    "print(multiply_by_3('w'))"
   ]
  },
  {
   "cell_type": "code",
   "execution_count": null,
   "metadata": {
    "slideshow": {
     "slide_type": "subslide"
    }
   },
   "outputs": [],
   "source": [
    "# This is a simple function that takes an input and multiplies it by 3 and returns a value error if bad input is entered.\n",
    "def multiply_by_3(start_number):\n",
    "    # Takes an input and multiplies it by 3\n",
    "    try:\n",
    "        solution =  int(start_number * 3)\n",
    "    except:\n",
    "        print(\"Bad Input!\")\n",
    "        raise ValueError\n",
    "    else: \n",
    "        return solution"
   ]
  },
  {
   "cell_type": "code",
   "execution_count": null,
   "metadata": {
    "slideshow": {
     "slide_type": "subslide"
    }
   },
   "outputs": [],
   "source": [
    "try:\n",
    "    something=multiply_by_3(\"5g\")\n",
    "except ValueError:\n",
    "    print(\"That's a value error my friend\")\n",
    "else:\n",
    "    print(something)\n",
    "    "
   ]
  },
  {
   "cell_type": "markdown",
   "metadata": {
    "slideshow": {
     "slide_type": "slide"
    }
   },
   "source": [
    "## Topic 3: Function Parameters"
   ]
  },
  {
   "cell_type": "markdown",
   "metadata": {
    "slideshow": {
     "slide_type": "subslide"
    }
   },
   "source": [
    "### Variables passed into functions are not themselves changed, even if they are manipulated within the function"
   ]
  },
  {
   "cell_type": "code",
   "execution_count": null,
   "metadata": {
    "slideshow": {
     "slide_type": "subslide"
    }
   },
   "outputs": [],
   "source": [
    "def change_a_number(number):\n",
    "    number += 45\n",
    "    return number"
   ]
  },
  {
   "cell_type": "code",
   "execution_count": null,
   "metadata": {
    "slideshow": {
     "slide_type": "subslide"
    }
   },
   "outputs": [],
   "source": [
    "num = 14\n",
    "print(change_a_number(num))\n",
    "print(num)\n"
   ]
  },
  {
   "cell_type": "markdown",
   "metadata": {
    "slideshow": {
     "slide_type": "slide"
    }
   },
   "source": [
    "## Topic 4: Functions with variable parameter lists"
   ]
  },
  {
   "cell_type": "markdown",
   "metadata": {
    "slideshow": {
     "slide_type": "subslide"
    }
   },
   "source": [
    "### Functions can have more parameters/arguments as input than what you send when you call them.  This is done by setting defaults when defining the function"
   ]
  },
  {
   "cell_type": "code",
   "execution_count": null,
   "metadata": {
    "slideshow": {
     "slide_type": "subslide"
    }
   },
   "outputs": [],
   "source": [
    "def get_user_info(prompt=\"Tell me your first name: \"):\n",
    "    ### This function gets user input using either default prompting or as a parameter\n",
    "    user_input = input(prompt)\n",
    "    return user_input"
   ]
  },
  {
   "cell_type": "code",
   "execution_count": null,
   "metadata": {
    "slideshow": {
     "slide_type": "fragment"
    }
   },
   "outputs": [],
   "source": [
    "user_first_name = get_user_info()\n",
    "user_last_name = get_user_info(\"Tell me your last name: \")\n",
    "print(user_first_name,user_last_name)"
   ]
  },
  {
   "cell_type": "markdown",
   "metadata": {
    "slideshow": {
     "slide_type": "subslide"
    }
   },
   "source": [
    "### These functions can also have multiple default parameters/arguments"
   ]
  },
  {
   "cell_type": "code",
   "execution_count": null,
   "metadata": {
    "slideshow": {
     "slide_type": "subslide"
    }
   },
   "outputs": [],
   "source": [
    "def check_inputs(value):\n",
    "    ### This function checks to make sure the user inputs are True or False\n",
    "    if(value not in [True,False]):\n",
    "        return \"E\"\n",
    "\n",
    "def alarm_clock_setup(hour_wake, minute_wake, buzz=True, AM=True):\n",
    "    ### This function takes inputs for the hour and minute and returns the alarm time.\n",
    "    ### buzz if true will buzz the alarm, otherwise will use a tone\n",
    "    ### AM if true will set the alarm for AM\n",
    "    if (check_inputs(buzz)==\"E\" or check_inputs(AM)==\"E\"):\n",
    "        return ValueError\n",
    "    if (AM==True):\n",
    "        morning_night = 'AM'\n",
    "    else:\n",
    "        morning_night = 'PM'\n",
    "    if (buzz==True):\n",
    "        will_buzz = \"You will be woken with a buzz\"\n",
    "    else:\n",
    "        will_buzz = \"You will be woken with a tone\"\n",
    "    print(\"The alarm is set for: \", hour_wake,\":\", minute_wake, \" \", morning_night, \".\", sep=\"\")\n",
    "    print(will_buzz)"
   ]
  },
  {
   "cell_type": "code",
   "execution_count": null,
   "metadata": {
    "slideshow": {
     "slide_type": "fragment"
    }
   },
   "outputs": [],
   "source": [
    "alarm_clock_setup(6,45)\n",
    "print()\n",
    "alarm_clock_setup(6,55,AM=False, buzz=False)\n",
    "print()\n",
    "alarm_clock_setup(7,45,False,True)"
   ]
  }
 ],
 "metadata": {
  "celltoolbar": "Slideshow",
  "kernelspec": {
   "display_name": "Python 3",
   "language": "python",
   "name": "python3"
  },
  "language_info": {
   "codemirror_mode": {
    "name": "ipython",
    "version": 3
   },
   "file_extension": ".py",
   "mimetype": "text/x-python",
   "name": "python",
   "nbconvert_exporter": "python",
   "pygments_lexer": "ipython3",
   "version": "3.7.3"
  }
 },
 "nbformat": 4,
 "nbformat_minor": 2
}
