{
 "cells": [
  {
   "cell_type": "code",
   "execution_count": 1,
   "metadata": {},
   "outputs": [
    {
     "name": "stdout",
     "output_type": "stream",
     "text": [
      "Column names are County, Pop, # households\n",
      "['Dallas', '66,135', '25,240']\n",
      "['Dickinson', '16,667', '7,554']\n",
      "['Polk', '430,640', '170,197']\n",
      "['Warren', '46,225', '17,262']\n",
      "['Linn', '211,226', '86,134']\n",
      "processed 6 rows\n"
     ]
    }
   ],
   "source": [
    "import csv\n",
    "with open('Example CSV.csv') as csv_file:\n",
    "    csv_reader = csv.reader(csv_file, delimiter=',')\n",
    "    line_count = 0\n",
    "    for row in csv_reader:\n",
    "        # I'm treating the first row different because it is the header row\n",
    "        if line_count == 0:\n",
    "            print(f'Column names are {\", \".join(row)}')\n",
    "            line_count += 1\n",
    "        else:\n",
    "            print(row)\n",
    "            line_count += 1\n",
    "    print (f'processed {line_count} rows')"
   ]
  },
  {
   "cell_type": "code",
   "execution_count": 2,
   "metadata": {},
   "outputs": [],
   "source": [
    "class CountyDemos:\n",
    "    def __init__(self,population,num_households):\n",
    "        self.population = population\n",
    "        self.num_households = num_households"
   ]
  },
  {
   "cell_type": "code",
   "execution_count": 3,
   "metadata": {},
   "outputs": [],
   "source": [
    "import csv\n",
    "with open('Example CSV.csv') as csv_file:\n",
    "    csv_reader = csv.reader(csv_file, delimiter=',')\n",
    "    line_count = 0\n",
    "    # initialize empty dictionary\n",
    "    county={}\n",
    "    for row in csv_reader:\n",
    "        # skip the first line in the file because it is the header\n",
    "        if line_count == 0:\n",
    "            line_count += 1\n",
    "            continue\n",
    "        # create an item in dictionary county with a key of the county name and a value of the object\n",
    "        county[str(row[0])] = CountyDemos(row[1],row[2])"
   ]
  },
  {
   "cell_type": "code",
   "execution_count": 4,
   "metadata": {},
   "outputs": [
    {
     "name": "stdout",
     "output_type": "stream",
     "text": [
      "430,640\n"
     ]
    }
   ],
   "source": [
    "print (county['Polk'].population)\n",
    "#print(county)"
   ]
  },
  {
   "cell_type": "code",
   "execution_count": 5,
   "metadata": {},
   "outputs": [
    {
     "name": "stdout",
     "output_type": "stream",
     "text": [
      "770893\n"
     ]
    }
   ],
   "source": [
    "pop_sum = 0\n",
    "for key in county:\n",
    "    pop_sum += int(county[key].population.replace(',',''))\n",
    "print(pop_sum)"
   ]
  },
  {
   "cell_type": "code",
   "execution_count": 6,
   "metadata": {},
   "outputs": [
    {
     "name": "stdout",
     "output_type": "stream",
     "text": [
      "{'Dallas': <__main__.CountyDemos object at 0x0000024A98D55E08>, 'Dickinson': <__main__.CountyDemos object at 0x0000024A98D78248>, 'Polk': <__main__.CountyDemos object at 0x0000024A98C9FA08>, 'Warren': <__main__.CountyDemos object at 0x0000024A98C9ECC8>, 'Linn': <__main__.CountyDemos object at 0x0000024A98D1D148>}\n",
      "430,640\n"
     ]
    }
   ],
   "source": [
    "print(county)\n",
    "print(county['Polk'].population)"
   ]
  }
 ],
 "metadata": {
  "kernelspec": {
   "display_name": "Python 3",
   "language": "python",
   "name": "python3"
  },
  "language_info": {
   "codemirror_mode": {
    "name": "ipython",
    "version": 3
   },
   "file_extension": ".py",
   "mimetype": "text/x-python",
   "name": "python",
   "nbconvert_exporter": "python",
   "pygments_lexer": "ipython3",
   "version": "3.7.6"
  }
 },
 "nbformat": 4,
 "nbformat_minor": 2
}
