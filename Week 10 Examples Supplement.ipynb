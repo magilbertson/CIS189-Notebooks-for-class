{
 "cells": [
  {
   "cell_type": "markdown",
   "metadata": {},
   "source": [
    "### Class attributes can be cast as a type\n",
    "### When the wrong type of value is attempted to be used when creating an object, it will then return a ValueError.  This pairs well with try/except"
   ]
  },
  {
   "cell_type": "code",
   "execution_count": null,
   "metadata": {},
   "outputs": [],
   "source": [
    "# I'm first creating a class where I'm explicitly assigning the attribute data types\n",
    "class Student:\n",
    "    school = \"DMACC\"\n",
    "    def __init__(self,age,credits,gpa,major):\n",
    "        self.age = int(age)\n",
    "        self.credits = float(credits)\n",
    "        self.gpa = float(gpa)\n",
    "        self.major = str(major)\n",
    "    def __str__(self):\n",
    "        return f'Age: {self.age}\\nCredits: {self.credits}\\nGPA: {self.gpa}\\nMajor: {self.major}'"
   ]
  },
  {
   "cell_type": "code",
   "execution_count": null,
   "metadata": {},
   "outputs": [],
   "source": [
    "# Here, I'll first create a working object because it will have all the right datatypes\n",
    "Matt = Student(39,8.5,3.99,\"Comp Sci\")\n",
    "print(Matt)"
   ]
  },
  {
   "cell_type": "code",
   "execution_count": null,
   "metadata": {},
   "outputs": [],
   "source": [
    "# and here, I'll try to create an object with the wrong datatype so it won't create the object\n",
    "John = Student(\"fifteen\",\"thirty\",\"fourpointO\",\"what?\")\n",
    "print(John)"
   ]
  },
  {
   "cell_type": "markdown",
   "metadata": {},
   "source": [
    "### Even though class and object attributes are encapsulated, they can still be edited from the global scope"
   ]
  },
  {
   "cell_type": "code",
   "execution_count": null,
   "metadata": {},
   "outputs": [],
   "source": [
    "# using my object \"Matt\" created earlier, I can edit attributes\n",
    "Matt.gpa = 3.2\n",
    "Matt.major = \"Architecture\"\n",
    "print(Matt)"
   ]
  },
  {
   "cell_type": "markdown",
   "metadata": {},
   "source": [
    "### Class attributes can also be changed\n",
    "### Note that when a class attribute has been changed the objects that inherit that attribute are also changed"
   ]
  },
  {
   "cell_type": "code",
   "execution_count": null,
   "metadata": {
    "scrolled": true
   },
   "outputs": [],
   "source": [
    "print(Student.school)\n",
    "print(Matt.school)\n",
    "Student.school = \"of rock\"\n",
    "print(Student.school)\n",
    "print(Matt.school)"
   ]
  }
 ],
 "metadata": {
  "kernelspec": {
   "display_name": "Python 3",
   "language": "python",
   "name": "python3"
  },
  "language_info": {
   "codemirror_mode": {
    "name": "ipython",
    "version": 3
   },
   "file_extension": ".py",
   "mimetype": "text/x-python",
   "name": "python",
   "nbconvert_exporter": "python",
   "pygments_lexer": "ipython3",
   "version": "3.7.6"
  }
 },
 "nbformat": 4,
 "nbformat_minor": 2
}
