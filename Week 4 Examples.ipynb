{
 "cells": [
  {
   "cell_type": "markdown",
   "metadata": {},
   "source": [
    "# Module 4"
   ]
  },
  {
   "cell_type": "markdown",
   "metadata": {},
   "source": [
    "## Topic 1: Selection Statements"
   ]
  },
  {
   "cell_type": "code",
   "execution_count": null,
   "metadata": {},
   "outputs": [],
   "source": [
    "userchoice = input(\"Star Trek or Star Wars?: \")\n",
    "\n",
    "if userchoice.lower() == 'star trek':\n",
    "    print('Live long and prosper')\n",
    "elif userchoice.lower() == 'star wars':\n",
    "    print('May the force be with you')\n",
    "else:\n",
    "    print('That is illogical')\n"
   ]
  },
  {
   "cell_type": "markdown",
   "metadata": {},
   "source": [
    "## Topic 3: Multiple and Nested if Statements"
   ]
  },
  {
   "attachments": {
    "Simple%20Nested%20IF%20Diagram.png": {
     "image/png": "[encoded data removed]"
    }
   },
   "cell_type": "markdown",
   "metadata": {},
   "source": [
    "![Simple%20Nested%20IF%20Diagram.png](attachment:Simple%20Nested%20IF%20Diagram.png)"
   ]
  },
  {
   "cell_type": "code",
   "execution_count": null,
   "metadata": {},
   "outputs": [],
   "source": [
    "# This is the above program with more branches because there is an if statement withing the top level if statement\n",
    "# This is not the most efficient way to create a program like this\n",
    "# When doing this kind of program, it often helps to create a simple flow chart like the one above\n",
    "# Having this visual will also help with making sure you have good test case coverage\n",
    "userchoice = input(\"Star Trek or Star Wars?: \")\n",
    "\n",
    "if userchoice.lower() == 'star trek':\n",
    "    trekchoice = input('Picard or Kirk?: ')\n",
    "    if trekchoice.lower() == 'picard':\n",
    "        print ('Make it so')\n",
    "    elif trekchoice.lower() == 'kirk':\n",
    "        print ('KHAAAAANNNN!!')\n",
    "    else:\n",
    "        print (\"He's dead, Jim\")\n",
    "elif userchoice.lower() == 'star wars':\n",
    "    warschoice = input(\"Yoda or Vader?: \")\n",
    "    if warschoice.lower() == \"yoda\":\n",
    "        print (\"Do or do not, there is no try\")\n",
    "    elif warschoice.lower() == \"vader\":\n",
    "        print (\"You don't know the power of the dark side\")\n",
    "    else:\n",
    "        print (\"I find your lack of faith disturbing\")\n",
    "else:\n",
    "    print('That is illogical')\n"
   ]
  },
  {
   "cell_type": "code",
   "execution_count": null,
   "metadata": {},
   "outputs": [],
   "source": [
    "# Let's play paper-rock-scissors\n",
    "# Just looking at this, you should be able to see that it is inefficient\n",
    "# You should think about different ways you could make this simpler, less error-prone code\n",
    "import random\n",
    "options = ['paper','rock','scissors']\n",
    "my_selection = random.choice(options)\n",
    "your_selection = input('Choose paper, rock, or scissors: ')\n",
    "print ('Your selection is:', your_selection)\n",
    "print ('My selection is:', my_selection)\n",
    "if your_selection.lower() not in options:\n",
    "    print (\"You messed up\")\n",
    "elif my_selection == your_selection.lower():\n",
    "    print (\"It's a tie :^|\")\n",
    "elif my_selection == 'paper':\n",
    "    if your_selection.lower() == 'rock':\n",
    "        print ('I win! :^)')\n",
    "    else:\n",
    "        print ('You win! :^(')\n",
    "elif my_selection == 'rock':\n",
    "    if your_selection.lower() == 'scissors':\n",
    "        print ('I win! :^)')\n",
    "    else:\n",
    "        print ('You win! :^(')\n",
    "elif my_selection == 'scissors':\n",
    "    if your_selection.lower() == 'paper':\n",
    "        print ('I win! :^)')\n",
    "    else:\n",
    "        print ('You win! :^(')"
   ]
  },
  {
   "cell_type": "code",
   "execution_count": null,
   "metadata": {},
   "outputs": [],
   "source": [
    "# Guess my number\n",
    "import random\n",
    "my_secret_number = random.randint(1,101)\n",
    "your_guess = 0\n",
    "while your_guess != my_secret_number:\n",
    "    your_guess = int(input('Guess a number: '))\n",
    "    if your_guess < my_secret_number:\n",
    "        print(\"My number is bigger than that\")\n",
    "    elif your_guess > my_secret_number:\n",
    "        print(\"My number is smaller than that\")\n",
    "    else:\n",
    "        print(\"You figured out my number was\", my_secret_number)"
   ]
  },
  {
   "cell_type": "code",
   "execution_count": 4,
   "metadata": {},
   "outputs": [
    {
     "name": "stdout",
     "output_type": "stream",
     "text": [
      "let's play guess the word!\n",
      "Here's the length of your word:\n",
      "      _ _ _ _ _\n",
      "Here are the letters you haven't used:\n",
      "a b c d e f g h i j k l m n o p q r s t u v w x y z\n",
      "\n",
      "Guess a letter: a\n",
      "      a _ a _ _\n",
      "Here are the letters you haven't used:\n",
      "- b c d e f g h i j k l m n o p q r s t u v w x y z\n",
      "\n",
      "Guess a letter: b\n",
      "      a _ a _ _\n",
      "Here are the letters you haven't used:\n",
      "- - c d e f g h i j k l m n o p q r s t u v w x y z\n",
      "\n",
      "Guess a letter: c\n",
      "      a _ a _ _\n",
      "Here are the letters you haven't used:\n",
      "- - - d e f g h i j k l m n o p q r s t u v w x y z\n",
      "\n",
      "Guess a letter: c\n",
      "You already guessed that letter!\n",
      "      a _ a _ _\n",
      "Here are the letters you haven't used:\n",
      "- - - d e f g h i j k l m n o p q r s t u v w x y z\n",
      "\n",
      "Guess a letter: 4\n",
      "You need to guess a letter!\n",
      "      a _ a _ _\n",
      "Here are the letters you haven't used:\n",
      "- - - d e f g h i j k l m n o p q r s t u v w x y z\n",
      "\n",
      "Guess a letter: r\n",
      "      a _ a _ _\n",
      "Here are the letters you haven't used:\n",
      "- - - d e f g h i j k l m n o p q - s t u v w x y z\n",
      "\n",
      "Guess a letter: m\n",
      "      a _ a _ _\n",
      "Here are the letters you haven't used:\n",
      "- - - d e f g h i j k l - n o p q - s t u v w x y z\n",
      "\n",
      "Guess a letter: n\n",
      "      a _ a _ n\n",
      "Here are the letters you haven't used:\n",
      "- - - d e f g h i j k l - - o p q - s t u v w x y z\n",
      "\n",
      "Guess a letter: p\n",
      "      a _ a _ n\n",
      "Here are the letters you haven't used:\n",
      "- - - d e f g h i j k l - - o - q - s t u v w x y z\n",
      "\n",
      "Guess a letter: s\n",
      "      a _ a _ n\n",
      "Here are the letters you haven't used:\n",
      "- - - d e f g h i j k l - - o - q - - t u v w x y z\n",
      "\n",
      "Guess a letter: t\n",
      "      a _ a _ n\n",
      "Here are the letters you haven't used:\n",
      "- - - d e f g h i j k l - - o - q - - - u v w x y z\n",
      "\n",
      "Guess a letter: d\n",
      "      a _ a _ n\n",
      "Here are the letters you haven't used:\n",
      "- - - - e f g h i j k l - - o - q - - - u v w x y z\n",
      "\n",
      "Guess a letter: l\n",
      "      a _ a _ n\n",
      "Here are the letters you haven't used:\n",
      "- - - - e f g h i j k - - - o - q - - - u v w x y z\n",
      "\n",
      "Guess a letter: v\n",
      "      a _ a _ n\n",
      "Here are the letters you haven't used:\n",
      "- - - - e f g h i j k - - - o - q - - - u - w x y z\n",
      "\n",
      "Guess a letter: f\n",
      "      a _ a _ n\n",
      "Here are the letters you haven't used:\n",
      "- - - - e - g h i j k - - - o - q - - - u - w x y z\n",
      "\n",
      "Guess a letter: e\n",
      "      a _ a _ n\n",
      "Here are the letters you haven't used:\n",
      "- - - - - - g h i j k - - - o - q - - - u - w x y z\n",
      "\n",
      "Guess a letter: w\n",
      "      a _ a _ n\n",
      "Here are the letters you haven't used:\n",
      "- - - - - - g h i j k - - - o - q - - - u - - x y z\n",
      "\n",
      "Guess a letter: g\n",
      "      a g a _ n\n",
      "Here are the letters you haven't used:\n",
      "- - - - - - - h i j k - - - o - q - - - u - - x y z\n",
      "\n",
      "Guess a letter: i\n",
      "You figured out my secret word, again\n",
      "Press enter to exit\n"
     ]
    },
    {
     "data": {
      "text/plain": [
       "''"
      ]
     },
     "execution_count": 4,
     "metadata": {},
     "output_type": "execute_result"
    }
   ],
   "source": [
    "# How about a game of word guessing?\n",
    "# This program works much better if downloaded as a .py file so it doesn't keep running off the screen.\n",
    "\n",
    "#random library is used to select from word_list\n",
    "import random\n",
    "# os library is used to clear the screen\n",
    "import os\n",
    "word_list=[\"about\",\"above\",\"admit\",\"adult\",\"after\",\"again\",\"agent\",\"agree\",\"ahead\",\"allow\",\"alone\",\"along\",\"among\",\"apply\",\"argue\",\"avoid\",\"begin\",\"black\",\"blood\",\"board\",\"break\",\"bring\",\"build\",\"carry\",\"catch\",\"cause\",\"chair\",\"check\",\"child\",\"civil\",\"claim\",\"class\",\"clear\",\"close\",\"coach\",\"color\",\"could\",\"court\",\"cover\",\"crime\",\"death\",\"dream\",\"drive\",\"early\",\"eight\",\"enjoy\",\"enter\",\"event\",\"every\",\"exist\",\"field\",\"fight\",\"final\",\"first\",\"floor\",\"focus\",\"force\",\"front\",\"glass\",\"great\",\"green\",\"group\",\"guess\",\"happy\",\"heart\",\"heavy\",\"hotel\",\"house\",\"human\",\"image\",\"issue\",\"large\",\"later\",\"laugh\",\"learn\",\"least\",\"leave\",\"legal\",\"level\",\"light\",\"local\",\"major\",\"maybe\",\"media\",\"might\",\"model\",\"money\",\"month\",\"mouth\",\"movie\",\"music\",\"never\",\"night\",\"north\",\"occur\",\"offer\",\"often\",\"order\",\"other\",\"owner\",\"paper\",\"party\",\"peace\",\"phone\",\"piece\",\"place\",\"plant\",\"point\",\"power\",\"price\",\"prove\",\"quite\",\"radio\",\"raise\",\"range\",\"reach\",\"ready\",\"right\",\"scene\",\"score\",\"sense\",\"serve\",\"seven\",\"shake\",\"share\",\"shoot\",\"short\",\"since\",\"skill\",\"small\",\"smile\",\"sound\",\"south\",\"space\",\"speak\",\"spend\",\"sport\",\"staff\",\"stage\",\"stand\",\"start\",\"state\",\"still\",\"stock\",\"store\",\"story\",\"study\",\"stuff\",\"style\",\"table\",\"teach\",\"thank\",\"their\",\"there\",\"these\",\"thing\",\"think\",\"third\",\"those\",\"three\",\"throw\",\"today\",\"total\",\"tough\",\"trade\",\"treat\",\"trial\",\"truth\",\"under\",\"until\",\"value\",\"visit\",\"voice\",\"watch\",\"water\",\"where\",\"which\",\"while\",\"white\",\"whole\",\"whose\",\"woman\",\"world\",\"worry\",\"would\",\"write\",\"wrong\",\"young\",\"accept\",\"across\",\"action\",\"affect\",\"agency\",\"almost\",\"always\",\"amount\",\"animal\",\"answer\",\"anyone\",\"appear\",\"around\",\"arrive\",\"artist\",\"assume\",\"attack\",\"author\",\"become\",\"before\",\"behind\",\"better\",\"beyond\",\"budget\",\"camera\",\"cancer\",\"career\",\"center\",\"chance\",\"change\",\"charge\",\"choice\",\"choose\",\"church\",\"common\",\"couple\",\"course\",\"create\",\"debate\",\"decade\",\"decide\",\"degree\",\"design\",\"detail\",\"dinner\",\"doctor\",\"during\",\"effect\",\"effort\",\"either\",\"energy\",\"enough\",\"entire\",\"expect\",\"expert\",\"factor\",\"family\",\"father\",\"figure\",\"finger\",\"finish\",\"follow\",\"forget\",\"former\",\"friend\",\"future\",\"garden\",\"ground\",\"growth\",\"happen\",\"health\",\"impact\",\"indeed\",\"inside\",\"itself\",\"lawyer\",\"leader\",\"letter\",\"likely\",\"listen\",\"little\",\"manage\",\"market\",\"matter\",\"member\",\"memory\",\"method\",\"middle\",\"minute\",\"modern\",\"moment\",\"mother\",\"myself\",\"nation\",\"nature\",\"nearly\",\"notice\",\"number\",\"office\",\"option\",\"others\",\"parent\",\"people\",\"period\",\"person\",\"player\",\"police\",\"policy\",\"pretty\",\"public\",\"rather\",\"really\",\"reason\",\"recent\",\"record\",\"reduce\",\"region\",\"relate\",\"remain\",\"remove\",\"report\",\"result\",\"return\",\"reveal\",\"school\",\"season\",\"second\",\"senior\",\"series\",\"sexual\",\"should\",\"simple\",\"simply\",\"single\",\"sister\",\"social\",\"source\",\"speech\",\"spring\",\"street\",\"strong\",\"suffer\",\"summer\",\"system\",\"theory\",\"though\",\"threat\",\"toward\",\"travel\",\"victim\",\"weapon\",\"weight\",\"window\",\"within\",\"wonder\",\"worker\",\"writer\",\"ability\",\"account\",\"address\",\"against\",\"already\",\"another\",\"article\",\"because\",\"believe\",\"benefit\",\"between\",\"billion\",\"brother\",\"capital\",\"central\",\"century\",\"certain\",\"citizen\",\"clearly\",\"college\",\"company\",\"compare\",\"concern\",\"contain\",\"control\",\"country\",\"culture\",\"current\",\"defense\",\"despite\",\"develop\",\"discuss\",\"disease\",\"economy\",\"evening\",\"exactly\",\"example\",\"explain\",\"federal\",\"feeling\",\"finally\",\"foreign\",\"forward\",\"general\",\"herself\",\"himself\",\"history\",\"however\",\"hundred\",\"husband\",\"imagine\",\"improve\",\"include\",\"instead\",\"involve\",\"kitchen\",\"machine\",\"manager\",\"measure\",\"medical\",\"meeting\",\"mention\",\"message\",\"million\",\"mission\",\"morning\",\"natural\",\"network\",\"nothing\",\"officer\",\"outside\",\"partner\",\"patient\",\"pattern\",\"perform\",\"perhaps\",\"picture\",\"popular\",\"prepare\",\"present\",\"prevent\",\"private\",\"problem\",\"process\",\"produce\",\"product\",\"program\",\"project\",\"protect\",\"provide\",\"purpose\",\"quality\",\"quickly\",\"reality\",\"realize\",\"receive\",\"reflect\",\"require\",\"respond\",\"science\",\"section\",\"serious\",\"service\",\"several\",\"similar\",\"society\",\"soldier\",\"someone\",\"special\",\"station\",\"student\",\"subject\",\"success\",\"suggest\",\"support\",\"surface\",\"teacher\",\"thought\",\"through\",\"tonight\",\"trouble\",\"usually\",\"various\",\"western\",\"whether\",\"without\",\"activity\",\"actually\",\"although\",\"American\",\"analysis\",\"anything\",\"approach\",\"attorney\",\"audience\",\"behavior\",\"building\",\"business\",\"campaign\",\"computer\",\"Congress\",\"consider\",\"consumer\",\"continue\",\"cultural\",\"customer\",\"daughter\",\"decision\",\"Democrat\",\"describe\",\"director\",\"discover\",\"economic\",\"election\",\"employee\",\"everyone\",\"evidence\",\"hospital\",\"identify\",\"increase\",\"indicate\",\"industry\",\"interest\",\"language\",\"magazine\",\"maintain\",\"majority\",\"marriage\",\"material\",\"military\",\"movement\",\"national\",\"official\",\"painting\",\"personal\",\"physical\",\"politics\",\"position\",\"positive\",\"possible\",\"practice\",\"pressure\",\"probably\",\"property\",\"question\",\"recently\",\"remember\",\"research\",\"resource\",\"response\",\"security\",\"shoulder\",\"somebody\",\"southern\",\"specific\",\"standard\",\"strategy\",\"suddenly\",\"thousand\",\"together\",\"training\",\"violence\",\"whatever\",\"yourself\",\"according\",\"agreement\",\"attention\",\"authority\",\"available\",\"beautiful\",\"candidate\",\"certainly\",\"challenge\",\"character\",\"community\",\"condition\",\"determine\",\"different\",\"difficult\",\"direction\",\"education\",\"establish\",\"everybody\",\"executive\",\"financial\",\"important\",\"including\",\"interview\",\"knowledge\",\"necessary\",\"newspaper\",\"operation\",\"political\",\"president\",\"professor\",\"recognize\",\"religious\",\"represent\",\"scientist\",\"situation\",\"something\",\"sometimes\",\"statement\",\"structure\",\"treatment\",\"collection\",\"commercial\",\"conference\",\"democratic\",\"difference\",\"discussion\",\"especially\",\"everything\",\"experience\",\"generation\",\"government\",\"individual\",\"investment\",\"management\",\"particular\",\"population\",\"production\",\"Republican\",\"successful\",\"technology\",\"television\",\"themselves\",\"throughout\",\"understand\"]\n",
    "alphabet=['a','b','c','d','e','f','g','h','i','j','k','l','m','n','o','p','q','r','s','t','u','v','w','x','y','z']\n",
    "# By copying the alphabet list, I can use alphabet for input validation while updating unused_letters\n",
    "unused_letters = alphabet.copy()\n",
    "# Select my_secret_word from word_list\n",
    "my_secret_word = random.choice(word_list)\n",
    "# Determine word length so I can have a list of the word letters with the right number of \"_\"\n",
    "word_length = len(my_secret_word)\n",
    "# Create a list of \"_\" of length word_length (Utilizes a for loop which hasn't been introduced yet)\n",
    "your_word_so_far = ['_' for x in range(word_length)]\n",
    "# This is the setup to clear the screen\n",
    "clear = lambda: os.system('cls') #on Windows System\n",
    "\n",
    "print(\"let's play guess the word!\")\n",
    "print(\"Here's the length of your word:\")\n",
    "\n",
    "# While loop that exits once all of the letters in your_word_so_far are not \"_\"\n",
    "while \"_\" in your_word_so_far:\n",
    "    print(\"     \",*your_word_so_far)\n",
    "    print(\"Here are the letters you haven't used:\")\n",
    "    #This prints the list unused_letters without the [] and ,\n",
    "    print(*unused_letters)\n",
    "    print()\n",
    "    user_guess = input(\"Guess a letter: \")\n",
    "    # Change user input to lower case\n",
    "    user_guess = user_guess.lower()\n",
    "    # Checks to make sure user_guess is a valid, single letter\n",
    "    if user_guess not in alphabet:\n",
    "        print('You need to guess a single letter!')\n",
    "        clear()\n",
    "    # Checks to see if user_guess has already been guessed\n",
    "    elif user_guess not in unused_letters:\n",
    "        print('You already guessed that letter!')\n",
    "        clear()\n",
    "    else:\n",
    "        # Replaces the guessed letter with \"-\" in unused_letters\n",
    "        unused_letters[unused_letters.index(user_guess)] = '-'\n",
    "        if user_guess in my_secret_word:\n",
    "            # This for loop checks each index in my_secret_word and wherever it\n",
    "            # matches user_guess, replaces it with user_guess\n",
    "            for x in range(word_length):\n",
    "                if user_guess == my_secret_word[x]:\n",
    "                    your_word_so_far[x] = user_guess\n",
    "        clear()\n",
    "print('You figured out my secret word,',my_secret_word)\n",
    "input(\"Press enter to exit\")\n"
   ]
  },
  {
   "cell_type": "markdown",
   "metadata": {},
   "source": [
    "## Topic 4: Input Validation"
   ]
  },
  {
   "cell_type": "code",
   "execution_count": null,
   "metadata": {},
   "outputs": [],
   "source": []
  }
 ],
 "metadata": {
  "kernelspec": {
   "display_name": "Python 3",
   "language": "python",
   "name": "python3"
  },
  "language_info": {
   "codemirror_mode": {
    "name": "ipython",
    "version": 3
   },
   "file_extension": ".py",
   "mimetype": "text/x-python",
   "name": "python",
   "nbconvert_exporter": "python",
   "pygments_lexer": "ipython3",
   "version": "3.7.3"
  }
 },
 "nbformat": 4,
 "nbformat_minor": 2
}
