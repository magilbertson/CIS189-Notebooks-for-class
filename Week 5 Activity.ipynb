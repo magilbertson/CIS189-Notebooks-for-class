{
 "cells": [
  {
   "cell_type": "markdown",
   "metadata": {
    "slideshow": {
     "slide_type": "slide"
    }
   },
   "source": [
    "### For this activity, I want you to create a program that rolls two dice and adds up the total on those dice.\n",
    "### The program then keeps rolling the dice until the total sum is at least a 100 score.\n",
    "### Once the total is at least 100, the program stops rolling and outputs how many rolls it took and the total.\n",
    "### If at any point the program rolls snake eyes (2 ones), the user loses and the program should just output that the user lost."
   ]
  },
  {
   "cell_type": "code",
   "execution_count": null,
   "metadata": {
    "slideshow": {
     "slide_type": "subslide"
    }
   },
   "outputs": [],
   "source": [
    "import random\n",
    "from random import randint\n",
    "die_1 = random.randint(1,6)\n",
    "die_2 = random.randint(1,6)"
   ]
  },
  {
   "cell_type": "code",
   "execution_count": null,
   "metadata": {
    "slideshow": {
     "slide_type": "subslide"
    }
   },
   "outputs": [],
   "source": [
    "def roll_the_dice():\n",
    "    die_1 = random.randint(1,6)\n",
    "    die_2 = random.randint(1,6)\n",
    "    return(die_1 + die_2)"
   ]
  },
  {
   "cell_type": "code",
   "execution_count": null,
   "metadata": {
    "slideshow": {
     "slide_type": "subslide"
    }
   },
   "outputs": [],
   "source": [
    "die_total = 0\n",
    "number_of_rolls = 0\n",
    "while die_total < 100:\n",
    "    current_roll = roll_the_dice()\n",
    "    if current_roll == 2:\n",
    "        print(\"you lose because you got snake eyes!\")\n",
    "        break\n",
    "    die_total += current_roll\n",
    "    number_of_rolls += 1 \n",
    "    print (\"total so far:\", die_total)\n"
   ]
  },
  {
   "cell_type": "code",
   "execution_count": 30,
   "metadata": {
    "slideshow": {
     "slide_type": "subslide"
    }
   },
   "outputs": [
    {
     "name": "stdout",
     "output_type": "stream",
     "text": [
      "total so far: 8\n",
      "total so far: 20\n",
      "total so far: 24\n",
      "total so far: 35\n",
      "total so far: 44\n",
      "total so far: 49\n",
      "total so far: 55\n",
      "total so far: 65\n",
      "total so far: 70\n",
      "total so far: 73\n",
      "total so far: 82\n",
      "total so far: 86\n",
      "total so far: 93\n",
      "total so far: 96\n",
      "total so far: 103\n",
      "Contratulations!  You rolled at least 100 total\n",
      "It took you 15 rolls and your total score was 103\n"
     ]
    }
   ],
   "source": [
    "die_total = 0\n",
    "number_of_rolls = 0\n",
    "while die_total < 100:\n",
    "    current_roll = roll_the_dice()\n",
    "    if current_roll == 2:\n",
    "        print(\"you lose because you got snake eyes!\")\n",
    "        break\n",
    "    die_total += current_roll\n",
    "    number_of_rolls += 1 \n",
    "    print (\"total so far:\", die_total)\n",
    "\n",
    "else:\n",
    "    print(\"Contratulations!  You rolled at least 100 total\")\n",
    "    print(\"It took you\", number_of_rolls,\"rolls and your total score was\", die_total)\n",
    "    \n",
    "    "
   ]
  }
 ],
 "metadata": {
  "celltoolbar": "Slideshow",
  "kernelspec": {
   "display_name": "Python 3",
   "language": "python",
   "name": "python3"
  },
  "language_info": {
   "codemirror_mode": {
    "name": "ipython",
    "version": 3
   },
   "file_extension": ".py",
   "mimetype": "text/x-python",
   "name": "python",
   "nbconvert_exporter": "python",
   "pygments_lexer": "ipython3",
   "version": "3.7.6"
  }
 },
 "nbformat": 4,
 "nbformat_minor": 4
}
