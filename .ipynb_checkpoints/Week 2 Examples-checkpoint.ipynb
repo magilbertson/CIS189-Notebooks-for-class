{
 "cells": [
  {
   "cell_type": "markdown",
   "metadata": {},
   "source": [
    "# Basic Variables, Arithmetic, Casting"
   ]
  },
  {
   "cell_type": "markdown",
   "metadata": {},
   "source": [
    "## Topic 2 - Data Types and Variables"
   ]
  },
  {
   "cell_type": "code",
   "execution_count": null,
   "metadata": {},
   "outputs": [],
   "source": [
    "return int(float(years) * 12)"
   ]
  },
  {
   "cell_type": "code",
   "execution_count": null,
   "metadata": {},
   "outputs": [],
   "source": [
    "# Concatenation of strings\n",
    "\"Hello\" + \",\" + \" \" + \"Python\" + \"!\""
   ]
  },
  {
   "cell_type": "code",
   "execution_count": null,
   "metadata": {},
   "outputs": [],
   "source": [
    "# Including escape characters\n",
    "print(\"Hello\" + \",\" + \"\\t\\t\\t\" + \"Python\" + \"!\")"
   ]
  },
  {
   "cell_type": "code",
   "execution_count": null,
   "metadata": {},
   "outputs": [],
   "source": [
    "# I could also assign my strings to variables and output them\n",
    "first_word='HELLO'\n",
    "second_word='PYTHON!'\n",
    "first_word + \" \" + second_word"
   ]
  },
  {
   "cell_type": "code",
   "execution_count": null,
   "metadata": {},
   "outputs": [],
   "source": [
    "# I'm first assigning a variable my_integer and printing it\n",
    "my_integer = -5\n",
    "print(my_integer)\n",
    "\n",
    "# Now I'm using the \"type\" function to print the class of my variable \n",
    "variable_type = type(my_integer)\n",
    "print(variable_type)"
   ]
  },
  {
   "cell_type": "code",
   "execution_count": null,
   "metadata": {},
   "outputs": [],
   "source": [
    "# The inclusion of a decimal point results in a float instead of an integer\n",
    "my_float = 1.75\n",
    "print(type(my_float))\n",
    "\n",
    "# There doesn't need to be any numbers after the decimal to be assigned as a float\n",
    "my_float2 = 25.\n",
    "print(type(my_float2))"
   ]
  },
  {
   "cell_type": "markdown",
   "metadata": {},
   "source": [
    "## Topic 3 - Arithmetic Operations"
   ]
  },
  {
   "cell_type": "code",
   "execution_count": null,
   "metadata": {},
   "outputs": [],
   "source": [
    "print(4 + 7)     # Addition\n",
    "print(2 - 2)     # Subtraction\n",
    "print(3 * 9)     # Multiplicationprint(2**3)      \n",
    "print(2**4)      # Exponent\n",
    "print(11 / 4)    # Division\n",
    "print (13 % 4)   # Modulus, remainder of integer division\n",
    "print (9 // 5)   # Floor division\n",
    "print (-9 // 2)  # Floor division"
   ]
  },
  {
   "cell_type": "code",
   "execution_count": null,
   "metadata": {},
   "outputs": [],
   "source": [
    "# Multiplying an integer and a float\n",
    "first_number = 12    # an integer\n",
    "second_number = 17.4 # a float\n",
    "solution = first_number*second_number\n",
    "print(solution)\n",
    "print(type(solution))"
   ]
  },
  {
   "cell_type": "code",
   "execution_count": null,
   "metadata": {},
   "outputs": [],
   "source": [
    "first_number = 1.5\n",
    "second_number = 2.5\n",
    "solution = first_number + second_number\n",
    "print(solution)\n",
    "print(type(solution))"
   ]
  },
  {
   "cell_type": "markdown",
   "metadata": {},
   "source": [
    "## Topic 4 - Intro to Functions"
   ]
  },
  {
   "cell_type": "code",
   "execution_count": 29,
   "metadata": {},
   "outputs": [],
   "source": [
    "# Create a function that returns a string when called\n",
    "def callme():\n",
    "    print('my number is 555-555-5555')"
   ]
  },
  {
   "cell_type": "code",
   "execution_count": 30,
   "metadata": {},
   "outputs": [
    {
     "name": "stdout",
     "output_type": "stream",
     "text": [
      "my number is 555-555-5555\n"
     ]
    }
   ],
   "source": [
    "# call my function\n",
    "callme()"
   ]
  },
  {
   "cell_type": "code",
   "execution_count": 40,
   "metadata": {},
   "outputs": [],
   "source": [
    "# Create a function that takes a variable and increments it by 1\n",
    "def get_bigger(x):\n",
    "    x+=1\n",
    "    return x"
   ]
  },
  {
   "cell_type": "code",
   "execution_count": 43,
   "metadata": {},
   "outputs": [
    {
     "name": "stdout",
     "output_type": "stream",
     "text": [
      "1\n",
      "2\n",
      "3\n",
      "4\n",
      "5\n",
      "6\n",
      "7\n",
      "8\n",
      "9\n",
      "10\n"
     ]
    }
   ],
   "source": [
    "# A while loop calls the function and exits the loop when the value of x hits 10\n",
    "x=0\n",
    "while x < 10:\n",
    "    x = get_bigger(x) \n",
    "    print(x)\n"
   ]
  },
  {
   "cell_type": "markdown",
   "metadata": {},
   "source": [
    "## Topic 5 - Test Driven Development"
   ]
  }
 ],
 "metadata": {
  "kernelspec": {
   "display_name": "Python 3",
   "language": "python",
   "name": "python3"
  },
  "language_info": {
   "codemirror_mode": {
    "name": "ipython",
    "version": 3
   },
   "file_extension": ".py",
   "mimetype": "text/x-python",
   "name": "python",
   "nbconvert_exporter": "python",
   "pygments_lexer": "ipython3",
   "version": "3.7.3"
  }
 },
 "nbformat": 4,
 "nbformat_minor": 2
}
