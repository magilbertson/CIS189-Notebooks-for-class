{
 "cells": [
  {
   "cell_type": "markdown",
   "metadata": {},
   "source": [
    "## Basic Variables, Arithmetic, Casting"
   ]
  },
  {
   "cell_type": "code",
   "execution_count": 1,
   "metadata": {},
   "outputs": [
    {
     "ename": "SyntaxError",
     "evalue": "'return' outside function (<ipython-input-1-7f502d521af7>, line 1)",
     "output_type": "error",
     "traceback": [
      "\u001b[1;36m  File \u001b[1;32m\"<ipython-input-1-7f502d521af7>\"\u001b[1;36m, line \u001b[1;32m1\u001b[0m\n\u001b[1;33m    return int(float(years) * 12)\u001b[0m\n\u001b[1;37m                                 ^\u001b[0m\n\u001b[1;31mSyntaxError\u001b[0m\u001b[1;31m:\u001b[0m 'return' outside function\n"
     ]
    }
   ],
   "source": [
    "return int(float(years) * 12)"
   ]
  },
  {
   "cell_type": "code",
   "execution_count": 3,
   "metadata": {},
   "outputs": [
    {
     "data": {
      "text/plain": [
       "'Hello, Python!'"
      ]
     },
     "execution_count": 3,
     "metadata": {},
     "output_type": "execute_result"
    }
   ],
   "source": [
    "# Concatenation of strings\n",
    "\"Hello\" + \",\" + \" \" + \"Python\" + \"!\""
   ]
  },
  {
   "cell_type": "code",
   "execution_count": 5,
   "metadata": {},
   "outputs": [
    {
     "name": "stdout",
     "output_type": "stream",
     "text": [
      "Hello,\t\t\tPython!\n"
     ]
    }
   ],
   "source": [
    "# Including escape characters\n",
    "print(\"Hello\" + \",\" + \"\\t\\t\\t\" + \"Python\" + \"!\")"
   ]
  },
  {
   "cell_type": "code",
   "execution_count": 14,
   "metadata": {},
   "outputs": [
    {
     "data": {
      "text/plain": [
       "'HELLO PYTHON!'"
      ]
     },
     "execution_count": 14,
     "metadata": {},
     "output_type": "execute_result"
    }
   ],
   "source": [
    "# I could also assign my strings to variables and output them\n",
    "first_word='HELLO'\n",
    "second_word='PYTHON!'\n",
    "first_word + \" \" + second_word"
   ]
  },
  {
   "cell_type": "code",
   "execution_count": 7,
   "metadata": {},
   "outputs": [
    {
     "name": "stdout",
     "output_type": "stream",
     "text": [
      "-5\n",
      "<class 'int'>\n"
     ]
    }
   ],
   "source": [
    "# I'm first assigning a variable my_integer and printing it\n",
    "my_integer = -5\n",
    "print(my_integer)\n",
    "\n",
    "# Now I'm using the \"type\" function to print the class of my variable \n",
    "variable_type = type(my_integer)\n",
    "print(variable_type)"
   ]
  },
  {
   "cell_type": "code",
   "execution_count": 11,
   "metadata": {},
   "outputs": [
    {
     "name": "stdout",
     "output_type": "stream",
     "text": [
      "<class 'float'>\n",
      "<class 'float'>\n"
     ]
    }
   ],
   "source": [
    "# The inclusion of a decimal point results in a float instead of an integer\n",
    "my_float = 1.75\n",
    "print(type(my_float))\n",
    "\n",
    "# There doesn't need to be any numbers after the decimal to be assigned as a float\n",
    "my_float2 = 25.\n",
    "print(type(my_float2))"
   ]
  }
 ],
 "metadata": {
  "kernelspec": {
   "display_name": "Python 3",
   "language": "python",
   "name": "python3"
  },
  "language_info": {
   "codemirror_mode": {
    "name": "ipython",
    "version": 3
   },
   "file_extension": ".py",
   "mimetype": "text/x-python",
   "name": "python",
   "nbconvert_exporter": "python",
   "pygments_lexer": "ipython3",
   "version": "3.7.3"
  }
 },
 "nbformat": 4,
 "nbformat_minor": 2
}
