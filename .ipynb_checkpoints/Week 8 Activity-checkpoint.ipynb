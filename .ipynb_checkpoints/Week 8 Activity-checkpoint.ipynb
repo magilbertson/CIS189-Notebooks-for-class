{
 "cells": [
  {
   "cell_type": "markdown",
   "metadata": {
    "slideshow": {
     "slide_type": "slide"
    }
   },
   "source": [
    "# My Dictionary items:\n",
    "### Thursday: 38\n",
    "### Friday: 38\n",
    "### Saturday: 60\n",
    "### Sunday: 65\n",
    "### Monday: 50\n",
    "### Tuesday: 54\n",
    "### Wednesday: 50"
   ]
  },
  {
   "cell_type": "code",
   "execution_count": null,
   "metadata": {
    "slideshow": {
     "slide_type": "slide"
    }
   },
   "outputs": [],
   "source": [
    "weather_dict = {\"Thursday\":38,\"Friday\":38,\"Saturday\":60,\"Sunday\":65,\"Monday\":50,\"Tuesday\":54,\"Wednesday\":50}"
   ]
  },
  {
   "cell_type": "code",
   "execution_count": null,
   "metadata": {
    "slideshow": {
     "slide_type": "slide"
    }
   },
   "outputs": [],
   "source": [
    "weather_set = set(weather_dict.values())\n",
    "\n",
    "#weather_set.update(weather_dict.values())\n",
    "print(weather_set)"
   ]
  },
  {
   "cell_type": "code",
   "execution_count": null,
   "metadata": {
    "slideshow": {
     "slide_type": "slide"
    }
   },
   "outputs": [],
   "source": [
    "weather_list = list(weather_dict.keys())\n",
    "print(weather_list)"
   ]
  },
  {
   "cell_type": "code",
   "execution_count": null,
   "metadata": {
    "slideshow": {
     "slide_type": "slide"
    }
   },
   "outputs": [],
   "source": [
    "weather_set_better = set()\n",
    "for item in weather_set:\n",
    "    if item > 40:\n",
    "        weather_set_better.add(item)\n",
    "print(weather_set_better)"
   ]
  },
  {
   "cell_type": "code",
   "execution_count": null,
   "metadata": {
    "slideshow": {
     "slide_type": "slide"
    }
   },
   "outputs": [],
   "source": [
    "for item in range(4):\n",
    "    weather_list.append(weather_list.pop(0))\n",
    "print(weather_list)"
   ]
  }
 ],
 "metadata": {
  "celltoolbar": "Slideshow",
  "kernelspec": {
   "display_name": "Python 3",
   "language": "python",
   "name": "python3"
  },
  "language_info": {
   "codemirror_mode": {
    "name": "ipython",
    "version": 3
   },
   "file_extension": ".py",
   "mimetype": "text/x-python",
   "name": "python",
   "nbconvert_exporter": "python",
   "pygments_lexer": "ipython3",
   "version": "3.7.3"
  }
 },
 "nbformat": 4,
 "nbformat_minor": 2
}
