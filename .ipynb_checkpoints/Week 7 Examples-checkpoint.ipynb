{
 "cells": [
  {
   "cell_type": "markdown",
   "metadata": {
    "slideshow": {
     "slide_type": "slide"
    }
   },
   "source": [
    "# Module 7"
   ]
  },
  {
   "cell_type": "markdown",
   "metadata": {
    "slideshow": {
     "slide_type": "slide"
    }
   },
   "source": [
    "## Topic 1: Lists"
   ]
  },
  {
   "cell_type": "markdown",
   "metadata": {
    "slideshow": {
     "slide_type": "subslide"
    }
   },
   "source": [
    "### Declaring a list variable"
   ]
  },
  {
   "cell_type": "code",
   "execution_count": null,
   "metadata": {
    "slideshow": {
     "slide_type": "subslide"
    }
   },
   "outputs": [],
   "source": [
    "my_example_list = [\"this\", \"is\", \"a\", \"list\", 5, 6.7]\n",
    "my_empty_list = []\n",
    "print(my_example_list)\n",
    "print(my_empty_list)"
   ]
  },
  {
   "cell_type": "markdown",
   "metadata": {
    "slideshow": {
     "slide_type": "subslide"
    }
   },
   "source": [
    "### Finding the length of a list"
   ]
  },
  {
   "cell_type": "code",
   "execution_count": null,
   "metadata": {
    "slideshow": {
     "slide_type": "subslide"
    }
   },
   "outputs": [],
   "source": [
    "print(len(my_example_list))\n",
    "print(len(my_empty_list))"
   ]
  },
  {
   "cell_type": "markdown",
   "metadata": {
    "slideshow": {
     "slide_type": "subslide"
    }
   },
   "source": [
    "### Appending (adding items) to a list"
   ]
  },
  {
   "cell_type": "code",
   "execution_count": null,
   "metadata": {
    "slideshow": {
     "slide_type": "subslide"
    }
   },
   "outputs": [],
   "source": [
    "my_example_list.append(\"a\")\n",
    "print(my_example_list)\n",
    "\n",
    "my_example_list += 'B'\n",
    "print(my_example_list)\n",
    "\n",
    "my_example_list += [4,6,9]\n",
    "print(my_example_list)\n"
   ]
  },
  {
   "cell_type": "markdown",
   "metadata": {
    "slideshow": {
     "slide_type": "subslide"
    }
   },
   "source": [
    "### Accessing data in a list"
   ]
  },
  {
   "cell_type": "code",
   "execution_count": null,
   "metadata": {
    "slideshow": {
     "slide_type": "subslide"
    }
   },
   "outputs": [],
   "source": [
    "print(my_example_list[0])\n",
    "# A list item can be assigned to a variable\n",
    "my_string = my_example_list[3]\n",
    "# The variable will take on the appropriate datatype (instead of a list of length 1)\n",
    "print(my_string)\n",
    "print(type(my_string))\n"
   ]
  },
  {
   "cell_type": "code",
   "execution_count": null,
   "metadata": {
    "slideshow": {
     "slide_type": "subslide"
    }
   },
   "outputs": [],
   "source": [
    "## When accessing multiple items from a list, you will end up with another list\n",
    "print(my_example_list[1:3])\n",
    "# These new lists can be assigned to variable\n",
    "my_short_list = my_example_list[2:4]\n",
    "print(my_short_list)\n",
    "# The new variable in this case will take on a datatype of list\n",
    "print(type(my_short_list))"
   ]
  },
  {
   "cell_type": "code",
   "execution_count": null,
   "metadata": {
    "slideshow": {
     "slide_type": "subslide"
    }
   },
   "outputs": [],
   "source": [
    "print(my_example_list)\n",
    "# These two things are equivalent\n",
    "print(my_example_list[len(my_example_list)-1])\n",
    "print(my_example_list[-1])"
   ]
  },
  {
   "cell_type": "code",
   "execution_count": null,
   "metadata": {
    "slideshow": {
     "slide_type": "subslide"
    }
   },
   "outputs": [],
   "source": [
    "# The range returned will always include the first item and exclude the last\n",
    "print(my_example_list[3:5])\n",
    "print(my_example_list[3:-1])\n",
    "#print(my_example_list[4:])\n",
    "#print(my_example_list[:3])"
   ]
  },
  {
   "cell_type": "markdown",
   "metadata": {
    "slideshow": {
     "slide_type": "subslide"
    }
   },
   "source": [
    "### Lists can be sorted"
   ]
  },
  {
   "cell_type": "code",
   "execution_count": null,
   "metadata": {
    "scrolled": true,
    "slideshow": {
     "slide_type": "subslide"
    }
   },
   "outputs": [],
   "source": [
    "my_no_string_list = [3,7,9,3.4,115,45]\n",
    "my_all_string_list = [\"word\",\"something\",\"fun\",\"game\",\"simple\"]\n",
    "# I had to create new lists because you can't sort a number/string mixed list\n",
    "print(sorted(my_no_string_list))\n",
    "print(sorted(my_all_string_list))\n",
    "\n",
    "# Please note that my original list is unchanged by this sort.  It only sorts at output.\n",
    "print(my_all_string_list)\n",
    "\n",
    "# I could assign my new sorted list to a different variable\n",
    "my_all_string_sorted_list = sorted(my_all_string_list)\n",
    "print (my_all_string_sorted_list)\n",
    "\n"
   ]
  },
  {
   "cell_type": "code",
   "execution_count": null,
   "metadata": {
    "slideshow": {
     "slide_type": "subslide"
    }
   },
   "outputs": [],
   "source": [
    "# I could also sort my original list by using the .sort() method\n",
    "my_all_string_list.sort()\n",
    "print(my_all_string_list)"
   ]
  },
  {
   "cell_type": "markdown",
   "metadata": {
    "slideshow": {
     "slide_type": "subslide"
    }
   },
   "source": [
    "### There are also innumerable other manipulations that can be done to/with lists.  Google is your friend on looking up specific ones."
   ]
  },
  {
   "cell_type": "markdown",
   "metadata": {
    "slideshow": {
     "slide_type": "slide"
    }
   },
   "source": [
    "## Topic 2a: Tuples"
   ]
  },
  {
   "cell_type": "markdown",
   "metadata": {
    "slideshow": {
     "slide_type": "subslide"
    }
   },
   "source": [
    "### Tuples are like lists in that they are groups of integers, floats, strings, etc.\n",
    "### Where they differ is that a list is considered a mutable object and a tuple is considered immutable"
   ]
  },
  {
   "cell_type": "markdown",
   "metadata": {
    "slideshow": {
     "slide_type": "subslide"
    }
   },
   "source": [
    "### A mutable object is one that can be edited at runtime.  \n",
    "### An immutable one cannot be edited."
   ]
  },
  {
   "cell_type": "code",
   "execution_count": null,
   "metadata": {
    "scrolled": true,
    "slideshow": {
     "slide_type": "subslide"
    }
   },
   "outputs": [],
   "source": [
    "# Here I'm creating a tuple.  Note that the parantheses are usually unnecessary \n",
    "my_tuple = (4,5,1,8,16.9)\n",
    "print(my_tuple)\n",
    "# Once you create a tuple, it can't be directly manipulated or extended\n",
    "# my_tuple[3]=345"
   ]
  },
  {
   "cell_type": "markdown",
   "metadata": {
    "slideshow": {
     "slide_type": "subslide"
    }
   },
   "source": [
    "### Tuples can, however, be created, accessed, copied, etc"
   ]
  },
  {
   "cell_type": "code",
   "execution_count": null,
   "metadata": {
    "slideshow": {
     "slide_type": "subslide"
    }
   },
   "outputs": [],
   "source": [
    "my_tuple_extension = (7.9,18)\n",
    "# I'm creating a new tuple that is two existing tuples appended\n",
    "my_new_tuple = my_tuple + my_tuple_extension\n",
    "print(my_new_tuple)"
   ]
  },
  {
   "cell_type": "markdown",
   "metadata": {
    "slideshow": {
     "slide_type": "subslide"
    }
   },
   "source": [
    "### Tuples can also be recreated during runtime"
   ]
  },
  {
   "cell_type": "code",
   "execution_count": null,
   "metadata": {
    "slideshow": {
     "slide_type": "subslide"
    }
   },
   "outputs": [],
   "source": [
    "print(my_tuple)\n",
    "my_tuple = my_tuple[:2] + (7,2) + my_tuple[4:]\n",
    "print(my_tuple)"
   ]
  },
  {
   "cell_type": "markdown",
   "metadata": {
    "slideshow": {
     "slide_type": "slide"
    }
   },
   "source": [
    "## Topic 2b: Arbitrary Function Parameters"
   ]
  },
  {
   "cell_type": "markdown",
   "metadata": {
    "slideshow": {
     "slide_type": "subslide"
    }
   },
   "source": [
    "### Up to this point, functions that we've built required a specific number of inputs.\n",
    "### Even in cases where there were defaults set, we still needed to have an exact number of inputs\n",
    "### We can also create functions that allow any number of inputs"
   ]
  },
  {
   "cell_type": "code",
   "execution_count": null,
   "metadata": {
    "slideshow": {
     "slide_type": "subslide"
    }
   },
   "outputs": [],
   "source": [
    "def my_function(*inputs):\n",
    "    total = 0\n",
    "    for num in inputs:\n",
    "        total += num\n",
    "    return total"
   ]
  },
  {
   "cell_type": "code",
   "execution_count": null,
   "metadata": {
    "slideshow": {
     "slide_type": "fragment"
    }
   },
   "outputs": [],
   "source": [
    "print(my_function(7))\n",
    "print(my_function(7,9,12,30))\n",
    "print(my_function())"
   ]
  },
  {
   "cell_type": "markdown",
   "metadata": {
    "slideshow": {
     "slide_type": "subslide"
    }
   },
   "source": [
    "### You can also create functions that allow any number of keyword arguments using **kwparams.  This is mainly only useful if you are using dictionaries, which haven't been introduced in this class yet."
   ]
  },
  {
   "cell_type": "code",
   "execution_count": null,
   "metadata": {
    "slideshow": {
     "slide_type": "subslide"
    }
   },
   "outputs": [],
   "source": [
    "def my_function_with_kw(**kwinputs):\n",
    "    for label,data in kwinputs.items():\n",
    "        print(label, data)"
   ]
  },
  {
   "cell_type": "code",
   "execution_count": null,
   "metadata": {
    "slideshow": {
     "slide_type": "fragment"
    }
   },
   "outputs": [],
   "source": [
    "my_function_with_kw(name='matt',language='Python')\n",
    "print()\n",
    "my_function_with_kw(size='small', shape='rectangle', color='blue')"
   ]
  },
  {
   "cell_type": "markdown",
   "metadata": {
    "slideshow": {
     "slide_type": "slide"
    }
   },
   "source": [
    "## Topic 3: File I/O"
   ]
  },
  {
   "cell_type": "markdown",
   "metadata": {
    "slideshow": {
     "slide_type": "subslide"
    }
   },
   "source": [
    "### Creating a file (or overwriting) and adding data to it"
   ]
  },
  {
   "cell_type": "code",
   "execution_count": null,
   "metadata": {
    "slideshow": {
     "slide_type": "subslide"
    }
   },
   "outputs": [],
   "source": [
    "with open(\"matts_file\",'w') as file:\n",
    "    file.write(\"Here's some text\\n\",)\n",
    "    file.write(\"Here's another line of text\")\n",
    "    # If I want to enter text in multiple lines, a \"\\n\" needs to be\n",
    "    # added to the end of each line or the beginning of the next\n",
    "    file.write(\"\\nEven more text\")"
   ]
  },
  {
   "cell_type": "code",
   "execution_count": null,
   "metadata": {
    "slideshow": {
     "slide_type": "subslide"
    }
   },
   "outputs": [],
   "source": [
    "with open(\"matts_file\",'w') as file:\n",
    "    file.write(\"Here's some text\")\n",
    "    file.write(\"Here's another line of text\")"
   ]
  },
  {
   "cell_type": "markdown",
   "metadata": {
    "slideshow": {
     "slide_type": "subslide"
    }
   },
   "source": [
    "### Adding data to an existing file"
   ]
  },
  {
   "cell_type": "code",
   "execution_count": null,
   "metadata": {
    "slideshow": {
     "slide_type": "subslide"
    }
   },
   "outputs": [],
   "source": [
    "with open(\"matts_file\",'a') as file:\n",
    "    file.write(\"\\nSomething more was needed\\nso I added it\")"
   ]
  },
  {
   "cell_type": "markdown",
   "metadata": {
    "slideshow": {
     "slide_type": "subslide"
    }
   },
   "source": [
    "### Accessing data in a file to use in my program"
   ]
  },
  {
   "cell_type": "code",
   "execution_count": null,
   "metadata": {
    "slideshow": {
     "slide_type": "subslide"
    }
   },
   "outputs": [],
   "source": [
    "with open(\"matts_file\") as file:\n",
    "    for line in file:\n",
    "        print(line)"
   ]
  },
  {
   "cell_type": "code",
   "execution_count": null,
   "metadata": {
    "slideshow": {
     "slide_type": "fragment"
    }
   },
   "outputs": [],
   "source": [
    "with open(\"matts_file\") as file:\n",
    "    file_var = file.readlines()\n",
    "print(file_var)"
   ]
  },
  {
   "cell_type": "markdown",
   "metadata": {
    "slideshow": {
     "slide_type": "subslide"
    }
   },
   "source": [
    "### I can also, as you've probably guessed, read a file, edit the data, and output it back into the file"
   ]
  },
  {
   "cell_type": "code",
   "execution_count": null,
   "metadata": {
    "slideshow": {
     "slide_type": "subslide"
    }
   },
   "outputs": [],
   "source": [
    "# Create a file with 5 rows\n",
    "with open(\"read_writing_example\",\"w\") as file:\n",
    "    for x in range(0,5):\n",
    "        file.write(str(x)+'\\n')"
   ]
  },
  {
   "cell_type": "code",
   "execution_count": null,
   "metadata": {
    "slideshow": {
     "slide_type": "subslide"
    }
   },
   "outputs": [],
   "source": [
    "# Now read the file into a list\n",
    "file_var = []\n",
    "with open(\"read_writing_example\",\"r\") as file:\n",
    "    for line in file:\n",
    "        # .strip removes the \\n at the end of each line that is read in\n",
    "        line = line.strip()\n",
    "        file_var.append(line)\n",
    "    \n",
    "# Square each item in the list and store the result in a new list file_out\n",
    "file_out = []\n",
    "for x in range(len(file_var)):\n",
    "    # I need to convert the item to an integer to do math on it and then back to string so it is ready to output to the file\n",
    "    item = str(int(file_var[x])**2)\n",
    "    # file_out list will store the finalized data for outputting to the file\n",
    "    file_out.append(item)\n",
    "\n",
    "# Now open the file and write the list back into the file    \n",
    "with open(\"read_writing_example\",\"w\") as file:\n",
    "    for item in file_out:\n",
    "        ## add the \\n back in when writing to the file\n",
    "        file.write(str(item+\"\\n\"))\n",
    "   "
   ]
  },
  {
   "cell_type": "markdown",
   "metadata": {
    "slideshow": {
     "slide_type": "subslide"
    }
   },
   "source": [
    "### Please note that all data coming from a file is of string type and all data written to a file must be in string format as well"
   ]
  },
  {
   "cell_type": "markdown",
   "metadata": {
    "slideshow": {
     "slide_type": "slide"
    }
   },
   "source": [
    "## Topic 4: Arrays"
   ]
  },
  {
   "cell_type": "markdown",
   "metadata": {
    "slideshow": {
     "slide_type": "subslide"
    }
   },
   "source": [
    "### Arrays are similar to lists in many ways.  \n",
    "### Differences include:\n",
    "###  -> lists allow different datatypes and arrays do not\n",
    "###  -> arrays allow manipulations to be performed across all elements"
   ]
  },
  {
   "cell_type": "code",
   "execution_count": null,
   "metadata": {
    "slideshow": {
     "slide_type": "subslide"
    }
   },
   "outputs": [],
   "source": [
    "# Array functionality is not available by default so it needs to be imported\n",
    "from array import array\n",
    "my_array = array('i',[45,99,67,78])\n",
    "print(my_array)\n",
    "my_array.index(67)"
   ]
  },
  {
   "cell_type": "code",
   "execution_count": null,
   "metadata": {
    "slideshow": {
     "slide_type": "subslide"
    }
   },
   "outputs": [],
   "source": [
    "# My array can be converted to the more familiar list type to manipulate\n",
    "my_list_from_array = my_array.tolist()\n",
    "my_list_from_array.sort()\n",
    "print(my_list_from_array)"
   ]
  }
 ],
 "metadata": {
  "celltoolbar": "Slideshow",
  "kernelspec": {
   "display_name": "Python 3",
   "language": "python",
   "name": "python3"
  },
  "language_info": {
   "codemirror_mode": {
    "name": "ipython",
    "version": 3
   },
   "file_extension": ".py",
   "mimetype": "text/x-python",
   "name": "python",
   "nbconvert_exporter": "python",
   "pygments_lexer": "ipython3",
   "version": "3.7.3"
  }
 },
 "nbformat": 4,
 "nbformat_minor": 2
}
