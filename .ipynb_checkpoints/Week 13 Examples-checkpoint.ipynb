{
 "cells": [
  {
   "cell_type": "markdown",
   "metadata": {
    "slideshow": {
     "slide_type": "slide"
    }
   },
   "source": [
    "# Module 13: GUIs Return, Visualization, and Database Connection"
   ]
  },
  {
   "cell_type": "markdown",
   "metadata": {
    "slideshow": {
     "slide_type": "subslide"
    }
   },
   "source": [
    "## Topic 1a: GUIs"
   ]
  },
  {
   "cell_type": "code",
   "execution_count": null,
   "metadata": {
    "slideshow": {
     "slide_type": "subslide"
    }
   },
   "outputs": [],
   "source": [
    "import random\n",
    "import tkinter\n",
    "from tkinter import *\n",
    "\n",
    "def get_random_number():\n",
    "    button.config(text=str(random.randint(0,1000000)))\n",
    "    button.config(state='disabled')\n",
    "\n",
    "def make_button_active():\n",
    "    button.config(state='active')\n",
    "\n",
    "m = tkinter.Tk()\n",
    "m.title('get a random number!')\n",
    "button = tkinter.Button(m,text=\"click for number\",width = 30,state='active',command = get_random_number)\n",
    "button.grid(row=1)\n",
    "button2 = tkinter.Button(m,text=\"click to reactivate\",width = 30,command = make_button_active)\n",
    "button2.grid(row=2)\n",
    "exit_button = tkinter.Button(m, text='Exit', width=16, command=m.destroy)\n",
    "exit_button.grid(row=3)\n",
    "m.mainloop()  # infinite loop that waits for events to happen"
   ]
  },
  {
   "cell_type": "markdown",
   "metadata": {
    "slideshow": {
     "slide_type": "slide"
    }
   },
   "source": [
    "## Topic 1b: Data Visualization"
   ]
  },
  {
   "cell_type": "markdown",
   "metadata": {
    "slideshow": {
     "slide_type": "subslide"
    }
   },
   "source": [
    "### Data visualization is very powerful because it allows us to abstract away complexity for decision makers so better decisions can be made more quickly."
   ]
  },
  {
   "cell_type": "markdown",
   "metadata": {
    "slideshow": {
     "slide_type": "subslide"
    }
   },
   "source": [
    "### First set up matplotlib"
   ]
  },
  {
   "cell_type": "code",
   "execution_count": null,
   "metadata": {
    "slideshow": {
     "slide_type": "fragment"
    }
   },
   "outputs": [],
   "source": [
    "import matplotlib.pyplot as plt"
   ]
  },
  {
   "cell_type": "markdown",
   "metadata": {
    "slideshow": {
     "slide_type": "subslide"
    }
   },
   "source": [
    "### Then import some data"
   ]
  },
  {
   "cell_type": "code",
   "execution_count": null,
   "metadata": {
    "slideshow": {
     "slide_type": "fragment"
    }
   },
   "outputs": [],
   "source": [
    "import csv\n",
    "county_label,county_population,county_num_households = ([] for i in range(3))\n",
    "with open('Example CSV.csv') as csv_file:\n",
    "    csv_reader = csv.reader(csv_file, delimiter=',')\n",
    "    line_count = 0\n",
    "    for row in csv_reader:\n",
    "        # skip the first line in the file because it is the header\n",
    "        if line_count == 0:\n",
    "            line_count += 1\n",
    "            continue\n",
    "        county_label.append(row[0])\n",
    "        county_population.append(int(row[1].replace(\",\", \"\")))\n",
    "        county_num_households.append(int(row[2].replace(\",\",\"\")))"
   ]
  },
  {
   "cell_type": "code",
   "execution_count": null,
   "metadata": {
    "slideshow": {
     "slide_type": "subslide"
    }
   },
   "outputs": [],
   "source": [
    "print(county_label)\n",
    "print(county_population)\n",
    "print (county_num_households)"
   ]
  },
  {
   "cell_type": "markdown",
   "metadata": {
    "slideshow": {
     "slide_type": "subslide"
    }
   },
   "source": [
    "### Now set up a plot"
   ]
  },
  {
   "cell_type": "code",
   "execution_count": null,
   "metadata": {
    "scrolled": true,
    "slideshow": {
     "slide_type": "fragment"
    }
   },
   "outputs": [],
   "source": [
    "plot_count = []\n",
    "\n",
    "for v in range(len(county_label)):\n",
    "    plot_count.append(v)\n",
    "    \n",
    "plt.bar(plot_count,county_population,color='red')\n",
    "plt.plot(plot_count,county_num_households,color='green')\n",
    "plt.xticks(plot_count,county_label)\n",
    "plt.title('County Population and Number of Households')\n",
    "plt.xlabel('County')\n",
    "plt.ylabel('Population')"
   ]
  },
  {
   "cell_type": "markdown",
   "metadata": {
    "slideshow": {
     "slide_type": "slide"
    }
   },
   "source": [
    "## Topic 2: Database Integration"
   ]
  },
  {
   "cell_type": "markdown",
   "metadata": {
    "slideshow": {
     "slide_type": "subslide"
    }
   },
   "source": [
    "### Integrating with databases allows for extensive new abilities in your program development"
   ]
  },
  {
   "cell_type": "markdown",
   "metadata": {
    "slideshow": {
     "slide_type": "fragment"
    }
   },
   "source": [
    "### If you are only interested in a subset of data available, keeping all data in a database makes sense"
   ]
  },
  {
   "cell_type": "markdown",
   "metadata": {
    "slideshow": {
     "slide_type": "fragment"
    }
   },
   "source": [
    "### Databases are a shared format so other applications can access this data as necessary"
   ]
  },
  {
   "cell_type": "markdown",
   "metadata": {
    "slideshow": {
     "slide_type": "fragment"
    }
   },
   "source": [
    "### Large datasets often need to be stored in a database else they become unwieldy to work with in a program"
   ]
  },
  {
   "cell_type": "markdown",
   "metadata": {
    "slideshow": {
     "slide_type": "subslide"
    }
   },
   "source": [
    "### Let's create a simple database and load some data into it"
   ]
  },
  {
   "cell_type": "markdown",
   "metadata": {
    "slideshow": {
     "slide_type": "subslide"
    }
   },
   "source": [
    "### Here I'm just creating an empty database, connecting to it and then dropping the connection"
   ]
  },
  {
   "cell_type": "code",
   "execution_count": null,
   "metadata": {
    "slideshow": {
     "slide_type": "fragment"
    }
   },
   "outputs": [],
   "source": [
    "import sqlite3\n",
    "from sqlite3 import Error\n",
    "\n",
    "def create_connection(db):\n",
    "    \"\"\" Connect to a SQLite database \"\"\"\n",
    "    try:\n",
    "        conn = sqlite3.connect(db)\n",
    "        print(sqlite3.version)\n",
    "    except Error as err:\n",
    "        print(err)\n",
    "    finally:\n",
    "        conn.close()\n",
    "\n",
    "if __name__ == '__main__':\n",
    "    create_connection(\"weatherdata.db\")"
   ]
  },
  {
   "cell_type": "markdown",
   "metadata": {
    "slideshow": {
     "slide_type": "subslide"
    }
   },
   "source": [
    "### Now let's do something with this database"
   ]
  },
  {
   "cell_type": "markdown",
   "metadata": {
    "slideshow": {
     "slide_type": "fragment"
    }
   },
   "source": [
    "### Remember the weather data from last week?  I'm going to load it into lists so I can get it into my database"
   ]
  },
  {
   "cell_type": "code",
   "execution_count": null,
   "metadata": {
    "slideshow": {
     "slide_type": "subslide"
    }
   },
   "outputs": [],
   "source": [
    "import csv\n",
    "with open('NOAA Des Moines Weather data 11_18 to 10_19.csv') as csv_file:\n",
    "    csv_reader = csv.reader(csv_file, delimiter=',')\n",
    "    line_count = 0\n",
    "    # Short way to initialize multiple empty lists\n",
    "    date,max_temp,min_temp,ave_temp,precip,new_snow = ([] for i in range(6))\n",
    "    \n",
    "    for row in csv_reader:\n",
    "        # skip the first line in the file because it is the header\n",
    "        if line_count == 0:\n",
    "            line_count += 1\n",
    "            continue\n",
    "        date.append(row[0])\n",
    "        max_temp.append(row[1])\n",
    "        min_temp.append(row[2])\n",
    "        ave_temp.append(row[3])\n",
    "        precip.append(row[4])\n",
    "        new_snow.append(row[5])"
   ]
  },
  {
   "cell_type": "markdown",
   "metadata": {
    "slideshow": {
     "slide_type": "subslide"
    }
   },
   "source": [
    "### I have installed this program on my computer to see a GUI view of my database\n",
    "\n",
    "https://sqlitebrowser.org/dl/#windows"
   ]
  },
  {
   "cell_type": "code",
   "execution_count": null,
   "metadata": {
    "slideshow": {
     "slide_type": "subslide"
    }
   },
   "outputs": [],
   "source": [
    "# Connection from earlier except I don't close the connection this time\n",
    "def create_connection(db):\n",
    "    \"\"\" Connect to a SQLite database\n",
    "    :param db: filename of database\n",
    "    :return connection if no error, otherwise None\"\"\"\n",
    "    try:\n",
    "        conn = sqlite3.connect(db)\n",
    "        return conn\n",
    "    except Error as err:\n",
    "        print(err)\n",
    "    return None\n",
    "\n",
    "def create_table(conn, sql_create_table):\n",
    "    \"\"\" Creates table with a SQL statement\n",
    "    :param conn: Connection object\n",
    "    :param sql_create_table: a SQL CREATE TABLE statement\n",
    "    :return:\n",
    "    \"\"\"\n",
    "    try:\n",
    "        c = conn.cursor()\n",
    "        c.execute(sql_create_table)\n",
    "    except Error as e:\n",
    "        print(e)\n",
    "\n",
    "def create_tables(database):\n",
    "\n",
    "    sql_create_weather_table = \"\"\" CREATE TABLE IF NOT EXISTS weather (\n",
    "                                        date text PRIMARY KEY,\n",
    "                                        county text NOT NULL,\n",
    "                                        max_temp int NOT NULL,\n",
    "                                        min_temp int NOT NULL,\n",
    "                                        ave_temp int NOT NULL,\n",
    "                                        precip text NOT NULL,\n",
    "                                        new_snow text NOT NULL\n",
    "                                    ); \"\"\"\n",
    "\n",
    "\n",
    "    # create a database connection\n",
    "    conn = create_connection(database)\n",
    "    if conn is not None:\n",
    "        # create weather table\n",
    "        create_table(conn, sql_create_weather_table)\n",
    "        \n",
    "    else:\n",
    "        print(\"Unable to connect to \" + str(database))\n",
    "\n",
    "if __name__ == '__main__':\n",
    "    create_tables(\"weatherdata.db\")"
   ]
  },
  {
   "cell_type": "markdown",
   "metadata": {
    "slideshow": {
     "slide_type": "subslide"
    }
   },
   "source": [
    "### I've now got an empty table with columns for each item of my data"
   ]
  },
  {
   "cell_type": "markdown",
   "metadata": {
    "slideshow": {
     "slide_type": "fragment"
    }
   },
   "source": [
    "### I'm ready to load data into my new table"
   ]
  },
  {
   "cell_type": "code",
   "execution_count": null,
   "metadata": {
    "scrolled": false,
    "slideshow": {
     "slide_type": "subslide"
    }
   },
   "outputs": [],
   "source": [
    "def add_record(conn, record):\n",
    "    \"\"\"Create a new record for table\n",
    "    :param conn:\n",
    "    :param record:\n",
    "    :return: record_id\n",
    "    \"\"\"\n",
    "    sql = ''' INSERT OR IGNORE INTO weather(date,county,max_temp,min_temp,ave_temp,precip,new_snow)\n",
    "              VALUES(?,?,?,?,?,?,?) '''\n",
    "    cur = conn.cursor()  # cursor object\n",
    "    cur.execute(sql, record)\n",
    "    return cur.lastrowid # returns the row id of the cursor object, the record's primary key\n",
    "\n",
    "if __name__ == '__main__':\n",
    "    conn = create_connection(\"weatherdata.db\")\n",
    "    with conn:\n",
    "        for n in range(len(date)):\n",
    "            record = (date[n],\"Des Moines\",max_temp[n],min_temp[n],ave_temp[n],precip[n],new_snow[n])\n",
    "            record_id = add_record(conn, record)"
   ]
  },
  {
   "cell_type": "markdown",
   "metadata": {
    "slideshow": {
     "slide_type": "subslide"
    }
   },
   "source": [
    "### Now that I have my data in my database, I can query the database for information"
   ]
  },
  {
   "cell_type": "code",
   "execution_count": null,
   "metadata": {
    "slideshow": {
     "slide_type": "subslide"
    }
   },
   "outputs": [],
   "source": [
    "def select_all_weather (conn):\n",
    "    \"\"\"Query all rows of weather table\n",
    "    :param conn: the connection object\n",
    "    :return:\n",
    "    \"\"\"\n",
    "    cur = conn.cursor()\n",
    "    cur.execute(\"SELECT * FROM weather\")\n",
    "\n",
    "    rows = cur.fetchall()\n",
    "\n",
    "    return rows # return the rows\n",
    "\n",
    "if __name__ == '__main__':\n",
    "    conn = create_connection(\"weatherdata.db\")\n",
    "    with conn:\n",
    "        rows = select_all_weather(conn)\n",
    "        for row in rows:\n",
    "            print(row)"
   ]
  },
  {
   "cell_type": "markdown",
   "metadata": {
    "slideshow": {
     "slide_type": "subslide"
    }
   },
   "source": [
    "### I can also update data on my database in many different ways"
   ]
  },
  {
   "cell_type": "markdown",
   "metadata": {
    "slideshow": {
     "slide_type": "fragment"
    }
   },
   "source": [
    "### Let's fix that precip column so it can be used as a number by changing T to 0"
   ]
  },
  {
   "cell_type": "code",
   "execution_count": null,
   "metadata": {
    "slideshow": {
     "slide_type": "subslide"
    }
   },
   "outputs": [],
   "source": [
    "def update_precip(conn):\n",
    "    \"\"\"Update data of precip to remove 'T'\n",
    "    :param conn:\n",
    "    :return: none\n",
    "    \"\"\"\n",
    "    sql = '''UPDATE weather\n",
    "             SET precip = '0'\n",
    "             WHERE precip = 'T'\n",
    "            '''\n",
    "    cur = conn.cursor()\n",
    "    cur.execute(sql)\n",
    "\n",
    "if __name__ == '__main__':\n",
    "    conn = create_connection(\"weatherdata.db\")\n",
    "    with conn:\n",
    "        update_precip(conn)\n",
    "       \n",
    "        rows = select_all_weather(conn)\n",
    "        for row in rows:\n",
    "            print(row)\n",
    "    "
   ]
  }
 ],
 "metadata": {
  "celltoolbar": "Slideshow",
  "kernelspec": {
   "display_name": "Python 3",
   "language": "python",
   "name": "python3"
  },
  "language_info": {
   "codemirror_mode": {
    "name": "ipython",
    "version": 3
   },
   "file_extension": ".py",
   "mimetype": "text/x-python",
   "name": "python",
   "nbconvert_exporter": "python",
   "pygments_lexer": "ipython3",
   "version": "3.7.3"
  }
 },
 "nbformat": 4,
 "nbformat_minor": 2
}
