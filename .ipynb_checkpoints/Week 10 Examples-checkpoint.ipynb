{
 "cells": [
  {
   "cell_type": "markdown",
   "metadata": {
    "slideshow": {
     "slide_type": "slide"
    }
   },
   "source": [
    "# Module 10: Classes and Objects"
   ]
  },
  {
   "cell_type": "markdown",
   "metadata": {
    "slideshow": {
     "slide_type": "subslide"
    }
   },
   "source": [
    "## Topic 1: Encapsulation"
   ]
  },
  {
   "cell_type": "markdown",
   "metadata": {
    "slideshow": {
     "slide_type": "subslide"
    }
   },
   "source": [
    "### What is Encapsulation?"
   ]
  },
  {
   "cell_type": "markdown",
   "metadata": {
    "slideshow": {
     "slide_type": "fragment"
    }
   },
   "source": [
    "### Encapsulation is hiding an object/function from view outside of the object's definition"
   ]
  },
  {
   "cell_type": "markdown",
   "metadata": {
    "slideshow": {
     "slide_type": "subslide"
    }
   },
   "source": [
    "### A class is an example of encapsulation because it localizes all of the data/functionality/functions of the class"
   ]
  },
  {
   "cell_type": "markdown",
   "metadata": {
    "slideshow": {
     "slide_type": "subslide"
    }
   },
   "source": [
    "### Welcome to Object Oriented Programming (OOP)!"
   ]
  },
  {
   "attachments": {
    "Simple%20Class%20Diagram.png": {
     "image/png": "[encoded data removed]"
    }
   },
   "cell_type": "markdown",
   "metadata": {
    "slideshow": {
     "slide_type": "subslide"
    }
   },
   "source": [
    "![Simple%20Class%20Diagram.png](attachment:Simple%20Class%20Diagram.png)\n",
    "### Unified Modeling Language (UML) Class Diagram"
   ]
  },
  {
   "cell_type": "markdown",
   "metadata": {
    "slideshow": {
     "slide_type": "subslide"
    }
   },
   "source": [
    "### The first thing we are going to create is a class constructor"
   ]
  },
  {
   "cell_type": "code",
   "execution_count": 32,
   "metadata": {
    "slideshow": {
     "slide_type": "subslide"
    }
   },
   "outputs": [],
   "source": [
    "class Car:\n",
    "    #Class attribute\n",
    "    purpose = \"moving things\"\n",
    "        \n",
    "    def __init__(self,vehicle_type,fuel,color):\n",
    "        self.vehicle_type = vehicle_type\n",
    "        self.fuel = fuel\n",
    "        self.color = color"
   ]
  },
  {
   "cell_type": "markdown",
   "metadata": {
    "slideshow": {
     "slide_type": "fragment"
    }
   },
   "source": [
    "### Now that I have a class, I can create objects from the class"
   ]
  },
  {
   "cell_type": "code",
   "execution_count": 33,
   "metadata": {
    "slideshow": {
     "slide_type": "fragment"
    }
   },
   "outputs": [],
   "source": [
    "#Time to instantiate! (make objects in my class)\n",
    "My_F150 = Car(\"Ford truck\", \"gasoline\", \"white\")\n",
    "not_my_tesla = Car(\"Tesla car\",\"electric\", \"black\")"
   ]
  },
  {
   "cell_type": "markdown",
   "metadata": {
    "slideshow": {
     "slide_type": "subslide"
    }
   },
   "source": [
    "### My objects have all of the attributes established when creating them from the class. \n",
    "### I can access attributes of my objects:"
   ]
  },
  {
   "cell_type": "code",
   "execution_count": 34,
   "metadata": {
    "slideshow": {
     "slide_type": "fragment"
    }
   },
   "outputs": [
    {
     "name": "stdout",
     "output_type": "stream",
     "text": [
      "Ford truck\n",
      "black\n",
      "moving things\n"
     ]
    }
   ],
   "source": [
    "# I can access attributes of my objects\n",
    "print(My_F150.vehicle_type)\n",
    "print(not_my_tesla.color)\n",
    "print(My_F150.purpose)"
   ]
  },
  {
   "cell_type": "markdown",
   "metadata": {
    "slideshow": {
     "slide_type": "subslide"
    }
   },
   "source": [
    "### My classes (and thus, objects) can also contain methods, which work similarly to functions"
   ]
  },
  {
   "attachments": {
    "Class%20Diagram%20with%20methods.png": {
     "image/png": "[encoded data removed]"
    }
   },
   "cell_type": "markdown",
   "metadata": {
    "slideshow": {
     "slide_type": "fragment"
    }
   },
   "source": [
    "![Class%20Diagram%20with%20methods.png](attachment:Class%20Diagram%20with%20methods.png)"
   ]
  },
  {
   "cell_type": "markdown",
   "metadata": {
    "slideshow": {
     "slide_type": "subslide"
    }
   },
   "source": [
    "### I first need to recreate my class to add my methods to it"
   ]
  },
  {
   "cell_type": "code",
   "execution_count": 35,
   "metadata": {
    "slideshow": {
     "slide_type": "fragment"
    }
   },
   "outputs": [],
   "source": [
    "# Same car class we created earlier\n",
    "class Car:\n",
    "    #Class attribute\n",
    "    purpose = \"moving things\"\n",
    "        \n",
    "    def __init__(self,vehicle_type,fuel,color):\n",
    "        self.vehicle_type = str(vehicle_type)\n",
    "        self.fuel = fuel\n",
    "        self.color = color\n",
    "    \n",
    "    # Lets look at instance methods\n",
    "    def car_description(self):\n",
    "        return \"a {} has a {} engine and is {}.\".format(self.vehicle_type,self.fuel,self.color)\n",
    "    \n",
    "    def vehicle_quality(self,state):\n",
    "        return \"My {} is {}\".format(self.vehicle_type, state)"
   ]
  },
  {
   "cell_type": "markdown",
   "metadata": {
    "slideshow": {
     "slide_type": "subslide"
    }
   },
   "source": [
    "### Because my class has changed, I need to re-establish my objects"
   ]
  },
  {
   "cell_type": "code",
   "execution_count": 36,
   "metadata": {
    "slideshow": {
     "slide_type": "fragment"
    }
   },
   "outputs": [],
   "source": [
    "#Time to instantiate! (make objects in my class)\n",
    "My_F150 = Car(\"Ford truck\", \"gasoline\", \"white\")\n",
    "not_my_tesla = Car(\"Tesla car\",\"electric\", \"black\")"
   ]
  },
  {
   "cell_type": "markdown",
   "metadata": {
    "slideshow": {
     "slide_type": "subslide"
    }
   },
   "source": [
    "### My objects now have the class methods associated with them"
   ]
  },
  {
   "cell_type": "code",
   "execution_count": 7,
   "metadata": {
    "slideshow": {
     "slide_type": "fragment"
    }
   },
   "outputs": [
    {
     "name": "stdout",
     "output_type": "stream",
     "text": [
      "a Ford truck has a gasoline engine and is white.\n",
      "a Tesla car has a electric engine and is black.\n"
     ]
    }
   ],
   "source": [
    "# I can output information using instance methods\n",
    "print(My_F150.car_description())\n",
    "print(not_my_tesla.car_description())"
   ]
  },
  {
   "cell_type": "code",
   "execution_count": 37,
   "metadata": {
    "slideshow": {
     "slide_type": "fragment"
    }
   },
   "outputs": [
    {
     "name": "stdout",
     "output_type": "stream",
     "text": [
      "My Ford truck is kinda rusty\n"
     ]
    }
   ],
   "source": [
    "# I can mix both object attributes and other inputs in my instance methods\n",
    "print(My_F150.vehicle_quality(\"kinda rusty\"))"
   ]
  },
  {
   "cell_type": "markdown",
   "metadata": {
    "slideshow": {
     "slide_type": "subslide"
    }
   },
   "source": [
    "### I can also create methods that change attributes for my objects"
   ]
  },
  {
   "cell_type": "code",
   "execution_count": 38,
   "metadata": {
    "slideshow": {
     "slide_type": "fragment"
    }
   },
   "outputs": [],
   "source": [
    "# Same Car class we created earlier\n",
    "class Car:\n",
    "    #Class attribute\n",
    "    purpose = \"moving things\"\n",
    "        \n",
    "    def __init__(self,vehicle_type,fuel,color):\n",
    "        self.vehicle_type = vehicle_type\n",
    "        self.fuel = fuel\n",
    "        self.color = color\n",
    "    \n",
    "    # Lets look at instance methods\n",
    "    def car_description(self):\n",
    "        return \"a {} has a {} engine and is {}.\".format(self.vehicle_type,self.fuel,self.color)\n",
    "    \n",
    "    def vehicle_quality(self,state):\n",
    "        return \"My {} is {}\".format(self.vehicle_type, state)\n",
    "    \n",
    "    def color_changed(self):\n",
    "        self.color = \"blue\""
   ]
  },
  {
   "cell_type": "code",
   "execution_count": 39,
   "metadata": {
    "slideshow": {
     "slide_type": "subslide"
    }
   },
   "outputs": [],
   "source": [
    "#Time to instantiate! (make objects in my class)\n",
    "My_F150 = Car(\"Ford truck\", \"gasoline\", \"white\")\n",
    "not_my_tesla = Car(\"Tesla car\",\"electric\", \"black\")"
   ]
  },
  {
   "cell_type": "code",
   "execution_count": 42,
   "metadata": {
    "slideshow": {
     "slide_type": "subslide"
    }
   },
   "outputs": [
    {
     "name": "stdout",
     "output_type": "stream",
     "text": [
      "blue\n",
      "manuel\n"
     ]
    }
   ],
   "source": [
    "# I can now use instance methods to change object attributes\n",
    "My_F150.color_changed()\n",
    "#My_F150.car_description()\n",
    "My_F150.owner = \"matt\"\n",
    "My_F150.owner = \"manuel\" \n",
    "print(My_F150.color)\n",
    "print(My_F150.owner)"
   ]
  },
  {
   "cell_type": "markdown",
   "metadata": {
    "slideshow": {
     "slide_type": "subslide"
    }
   },
   "source": [
    "### We'll also want to add \\_\\_str\\_\\_ and \\_\\_repr\\_\\_ to our class"
   ]
  },
  {
   "attachments": {
    "Class%20Diagram%20with%20str%20repr.png": {
     "image/png": "[encoded data removed]"
    }
   },
   "cell_type": "markdown",
   "metadata": {
    "slideshow": {
     "slide_type": "fragment"
    }
   },
   "source": [
    "![Class%20Diagram%20with%20str%20repr.png](attachment:Class%20Diagram%20with%20str%20repr.png)"
   ]
  },
  {
   "cell_type": "markdown",
   "metadata": {
    "slideshow": {
     "slide_type": "subslide"
    }
   },
   "source": [
    "### \\_\\_str\\_\\_ overrides print functionality for the object so we can output in a specified format.  It is expected to be user readable"
   ]
  },
  {
   "cell_type": "code",
   "execution_count": 20,
   "metadata": {
    "slideshow": {
     "slide_type": "fragment"
    }
   },
   "outputs": [
    {
     "name": "stdout",
     "output_type": "stream",
     "text": [
      "<__main__.Car object at 0x0000017EAA155080>\n"
     ]
    }
   ],
   "source": [
    "print(My_F150)"
   ]
  },
  {
   "cell_type": "markdown",
   "metadata": {
    "slideshow": {
     "slide_type": "subslide"
    }
   },
   "source": [
    "### \\_\\_repr\\_\\_ is used for developer functionality and needs to be unambiguous about the attributes of the object.  It does not need to be as user readability friendly.  It can also be used for unit testing purposes"
   ]
  },
  {
   "cell_type": "code",
   "execution_count": 43,
   "metadata": {
    "slideshow": {
     "slide_type": "subslide"
    }
   },
   "outputs": [],
   "source": [
    "# Same Car class we created earlier\n",
    "class Car:\n",
    "    #Class attribute\n",
    "    purpose = \"moving things\"\n",
    "        \n",
    "    def __init__(self,vehicle_type,fuel,color):\n",
    "        self.vehicle_type = vehicle_type\n",
    "        self.fuel = fuel\n",
    "        self.color = color\n",
    "    \n",
    "    # Lets look at instance methods\n",
    "    def car_description(self):\n",
    "        return \"a {} has a {} engine and is {}.\".format(self.vehicle_type,self.fuel,self.color)\n",
    "    \n",
    "    def vehicle_quality(self,state):\n",
    "        return \"My {} is {}\".format(self.vehicle_type, state)\n",
    "    \n",
    "    def color_changed(self):\n",
    "        self.color = \"blue\"\n",
    "        \n",
    "    def __str__(self):\n",
    "        return f'Vehicle Type: {self.vehicle_type}\\nFuel Type: {self.fuel}\\nVehicle Color: {self.color}'\n",
    "    \n",
    "    def __repr__(self):\n",
    "        return f'{type(self.vehicle_type)} - {self.vehicle_type},{type(self.fuel)} - {self.fuel},{type(self.color)} - {self.color}'"
   ]
  },
  {
   "cell_type": "code",
   "execution_count": 44,
   "metadata": {
    "slideshow": {
     "slide_type": "subslide"
    }
   },
   "outputs": [],
   "source": [
    "#Time to instantiate! (make objects in my class)\n",
    "My_F150 = Car(\"Ford truck\", \"gasoline\", \"white\")\n",
    "not_my_tesla = Car(\"Tesla car\",\"electric\", \"black\")"
   ]
  },
  {
   "cell_type": "code",
   "execution_count": 45,
   "metadata": {
    "slideshow": {
     "slide_type": "subslide"
    }
   },
   "outputs": [
    {
     "name": "stdout",
     "output_type": "stream",
     "text": [
      "Vehicle Type: Ford truck\n",
      "Fuel Type: gasoline\n",
      "Vehicle Color: white\n",
      "\n",
      "Vehicle Type: Tesla car\n",
      "Fuel Type: electric\n",
      "Vehicle Color: black\n"
     ]
    },
    {
     "data": {
      "text/plain": [
       "\"<class 'str'> - Ford truck,<class 'str'> - gasoline,<class 'str'> - white\""
      ]
     },
     "execution_count": 45,
     "metadata": {},
     "output_type": "execute_result"
    }
   ],
   "source": [
    "print(My_F150)\n",
    "print()\n",
    "print(not_my_tesla)\n",
    "repr(My_F150)"
   ]
  },
  {
   "cell_type": "markdown",
   "metadata": {
    "slideshow": {
     "slide_type": "subslide"
    }
   },
   "source": [
    "### A few other things to know"
   ]
  },
  {
   "cell_type": "markdown",
   "metadata": {
    "slideshow": {
     "slide_type": "subslide"
    }
   },
   "source": [
    "### Class attributes can be cast as a type\n",
    "### When the wrong type of value is attempted to be used when creating an object, it will then return a ValueError.  This pairs well with try/except"
   ]
  },
  {
   "cell_type": "code",
   "execution_count": 46,
   "metadata": {
    "slideshow": {
     "slide_type": "subslide"
    }
   },
   "outputs": [],
   "source": [
    "# I'm first creating a class where I'm explicitly assigning the attribute data types\n",
    "class Student:\n",
    "    school = \"DMACC\"\n",
    "    def __init__(self,age,credits,gpa,major):\n",
    "        self.age = int(age)\n",
    "        self.credits = float(credits)\n",
    "        self.gpa = float(gpa)\n",
    "        self.major = str(major)\n",
    "    def __str__(self):\n",
    "        return f'Age: {self.age}\\nCredits: {self.credits}\\nGPA: {self.gpa}\\nMajor: {self.major}'"
   ]
  },
  {
   "cell_type": "code",
   "execution_count": 47,
   "metadata": {
    "slideshow": {
     "slide_type": "subslide"
    }
   },
   "outputs": [
    {
     "name": "stdout",
     "output_type": "stream",
     "text": [
      "Age: 39\n",
      "Credits: 8.5\n",
      "GPA: 3.99\n",
      "Major: Comp Sci\n"
     ]
    }
   ],
   "source": [
    "# Here, I'll first create a working object because it will have all the right datatypes\n",
    "Matt = Student(39,8.5,3.99,\"Comp Sci\")\n",
    "print(Matt)"
   ]
  },
  {
   "cell_type": "code",
   "execution_count": 48,
   "metadata": {
    "slideshow": {
     "slide_type": "subslide"
    }
   },
   "outputs": [
    {
     "ename": "ValueError",
     "evalue": "invalid literal for int() with base 10: 'fifteen'",
     "output_type": "error",
     "traceback": [
      "\u001b[1;31m---------------------------------------------------------------------------\u001b[0m",
      "\u001b[1;31mValueError\u001b[0m                                Traceback (most recent call last)",
      "\u001b[1;32m<ipython-input-48-9ee0d3d00b71>\u001b[0m in \u001b[0;36m<module>\u001b[1;34m\u001b[0m\n\u001b[0;32m      1\u001b[0m \u001b[1;31m# and here, I'll try to create an object with the wrong datatype so it won't create the object\u001b[0m\u001b[1;33m\u001b[0m\u001b[1;33m\u001b[0m\u001b[1;33m\u001b[0m\u001b[0m\n\u001b[1;32m----> 2\u001b[1;33m \u001b[0mJohn\u001b[0m \u001b[1;33m=\u001b[0m \u001b[0mStudent\u001b[0m\u001b[1;33m(\u001b[0m\u001b[1;34m\"fifteen\"\u001b[0m\u001b[1;33m,\u001b[0m\u001b[1;34m\"thirty\"\u001b[0m\u001b[1;33m,\u001b[0m\u001b[1;34m\"fourpointO\"\u001b[0m\u001b[1;33m,\u001b[0m\u001b[1;34m\"what?\"\u001b[0m\u001b[1;33m)\u001b[0m\u001b[1;33m\u001b[0m\u001b[1;33m\u001b[0m\u001b[0m\n\u001b[0m\u001b[0;32m      3\u001b[0m \u001b[0mprint\u001b[0m\u001b[1;33m(\u001b[0m\u001b[0mJohn\u001b[0m\u001b[1;33m)\u001b[0m\u001b[1;33m\u001b[0m\u001b[1;33m\u001b[0m\u001b[0m\n",
      "\u001b[1;32m<ipython-input-46-40baf9aad77d>\u001b[0m in \u001b[0;36m__init__\u001b[1;34m(self, age, credits, gpa, major)\u001b[0m\n\u001b[0;32m      3\u001b[0m     \u001b[0mschool\u001b[0m \u001b[1;33m=\u001b[0m \u001b[1;34m\"DMACC\"\u001b[0m\u001b[1;33m\u001b[0m\u001b[1;33m\u001b[0m\u001b[0m\n\u001b[0;32m      4\u001b[0m     \u001b[1;32mdef\u001b[0m \u001b[0m__init__\u001b[0m\u001b[1;33m(\u001b[0m\u001b[0mself\u001b[0m\u001b[1;33m,\u001b[0m\u001b[0mage\u001b[0m\u001b[1;33m,\u001b[0m\u001b[0mcredits\u001b[0m\u001b[1;33m,\u001b[0m\u001b[0mgpa\u001b[0m\u001b[1;33m,\u001b[0m\u001b[0mmajor\u001b[0m\u001b[1;33m)\u001b[0m\u001b[1;33m:\u001b[0m\u001b[1;33m\u001b[0m\u001b[1;33m\u001b[0m\u001b[0m\n\u001b[1;32m----> 5\u001b[1;33m         \u001b[0mself\u001b[0m\u001b[1;33m.\u001b[0m\u001b[0mage\u001b[0m \u001b[1;33m=\u001b[0m \u001b[0mint\u001b[0m\u001b[1;33m(\u001b[0m\u001b[0mage\u001b[0m\u001b[1;33m)\u001b[0m\u001b[1;33m\u001b[0m\u001b[1;33m\u001b[0m\u001b[0m\n\u001b[0m\u001b[0;32m      6\u001b[0m         \u001b[0mself\u001b[0m\u001b[1;33m.\u001b[0m\u001b[0mcredits\u001b[0m \u001b[1;33m=\u001b[0m \u001b[0mfloat\u001b[0m\u001b[1;33m(\u001b[0m\u001b[0mcredits\u001b[0m\u001b[1;33m)\u001b[0m\u001b[1;33m\u001b[0m\u001b[1;33m\u001b[0m\u001b[0m\n\u001b[0;32m      7\u001b[0m         \u001b[0mself\u001b[0m\u001b[1;33m.\u001b[0m\u001b[0mgpa\u001b[0m \u001b[1;33m=\u001b[0m \u001b[0mfloat\u001b[0m\u001b[1;33m(\u001b[0m\u001b[0mgpa\u001b[0m\u001b[1;33m)\u001b[0m\u001b[1;33m\u001b[0m\u001b[1;33m\u001b[0m\u001b[0m\n",
      "\u001b[1;31mValueError\u001b[0m: invalid literal for int() with base 10: 'fifteen'"
     ]
    }
   ],
   "source": [
    "# and here, I'll try to create an object with the wrong datatype so it won't create the object\n",
    "John = Student(\"fifteen\",\"thirty\",\"fourpointO\",\"what?\")\n",
    "print(John)"
   ]
  },
  {
   "cell_type": "markdown",
   "metadata": {
    "slideshow": {
     "slide_type": "subslide"
    }
   },
   "source": [
    "### Even though class and object attributes are encapsulated, they can still be edited from the global scope"
   ]
  },
  {
   "cell_type": "code",
   "execution_count": 49,
   "metadata": {
    "slideshow": {
     "slide_type": "fragment"
    }
   },
   "outputs": [
    {
     "name": "stdout",
     "output_type": "stream",
     "text": [
      "Age: 39\n",
      "Credits: 8.5\n",
      "GPA: 3.2\n",
      "Major: Architecture\n"
     ]
    }
   ],
   "source": [
    "# using my object \"Matt\" created earlier, I can edit attributes\n",
    "Matt.gpa = 3.2\n",
    "Matt.major = \"Architecture\"\n",
    "print(Matt)"
   ]
  },
  {
   "cell_type": "markdown",
   "metadata": {
    "slideshow": {
     "slide_type": "subslide"
    }
   },
   "source": [
    "### Class attributes can also be changed\n",
    "### Note that when a class attribute has been changed the objects that inherit that attribute are also changed"
   ]
  },
  {
   "cell_type": "code",
   "execution_count": 50,
   "metadata": {
    "scrolled": true,
    "slideshow": {
     "slide_type": "fragment"
    }
   },
   "outputs": [
    {
     "name": "stdout",
     "output_type": "stream",
     "text": [
      "DMACC\n",
      "DMACC\n",
      "of rock\n",
      "of rock\n"
     ]
    }
   ],
   "source": [
    "print(Student.school)\n",
    "print(Matt.school)\n",
    "Student.school = \"of rock\"\n",
    "print(Student.school)\n",
    "print(Matt.school)"
   ]
  },
  {
   "cell_type": "markdown",
   "metadata": {
    "slideshow": {
     "slide_type": "slide"
    }
   },
   "source": [
    "## Topic 2 - Classes & Objects"
   ]
  },
  {
   "cell_type": "markdown",
   "metadata": {
    "slideshow": {
     "slide_type": "subslide"
    }
   },
   "source": [
    "### This topic is essentially a continuation of the previous one"
   ]
  },
  {
   "cell_type": "markdown",
   "metadata": {
    "slideshow": {
     "slide_type": "slide"
    }
   },
   "source": [
    "## Topic 3 - Testing Classes"
   ]
  },
  {
   "cell_type": "markdown",
   "metadata": {
    "slideshow": {
     "slide_type": "subslide"
    }
   },
   "source": [
    "### I'll start by creating a new class and add a ValueError path"
   ]
  },
  {
   "cell_type": "code",
   "execution_count": 51,
   "metadata": {
    "slideshow": {
     "slide_type": "fragment"
    }
   },
   "outputs": [],
   "source": [
    "class Book: \n",
    "    \n",
    "    def __init__(self,publish_year,author,genre,pages=0):\n",
    "        genre_options = {'fantasy','science fiction','western','romance',\n",
    "                         'thriller','mystery','detective','dystopia','other'}\n",
    "        self.publish_year = publish_year\n",
    "        self.author = author\n",
    "        if genre.lower() not in genre_options:\n",
    "            raise ValueError\n",
    "        self.genre = genre\n",
    "        self.pages = int(pages)\n",
    "    \n",
    "    def __str__(self):\n",
    "        return f'Published: {self.publish_year}\\nAuthor: {self.author}\\nGenre: {self.genre}\\nPages: {self.pages}'"
   ]
  },
  {
   "cell_type": "markdown",
   "metadata": {
    "slideshow": {
     "slide_type": "subslide"
    }
   },
   "source": [
    "### I can now use a try/except when creating objects from this class"
   ]
  },
  {
   "cell_type": "code",
   "execution_count": 53,
   "metadata": {
    "slideshow": {
     "slide_type": "fragment"
    }
   },
   "outputs": [
    {
     "name": "stdout",
     "output_type": "stream",
     "text": [
      "Something was wrong with your input. Please try again.\n"
     ]
    }
   ],
   "source": [
    "try:\n",
    "    Enders_Game = Book(1985,\"Orson Scott Card\",\"Science Fiction\",324)\n",
    "except:\n",
    "    print(\"Something was wrong with your input. Please try again.\")"
   ]
  },
  {
   "cell_type": "code",
   "execution_count": 54,
   "metadata": {
    "slideshow": {
     "slide_type": "fragment"
    }
   },
   "outputs": [
    {
     "name": "stdout",
     "output_type": "stream",
     "text": [
      "Published: 1985\n",
      "Author: Orson Scott Card\n",
      "Genre: Science Fiction\n",
      "Pages: 324\n"
     ]
    }
   ],
   "source": [
    "print(Enders_Game)"
   ]
  },
  {
   "cell_type": "markdown",
   "metadata": {
    "slideshow": {
     "slide_type": "subslide"
    }
   },
   "source": [
    "### Time to set up some unit tests"
   ]
  },
  {
   "cell_type": "code",
   "execution_count": 55,
   "metadata": {
    "slideshow": {
     "slide_type": "subslide"
    }
   },
   "outputs": [
    {
     "name": "stderr",
     "output_type": "stream",
     "text": [
      "...\n",
      "----------------------------------------------------------------------\n",
      "Ran 3 tests in 0.004s\n",
      "\n",
      "OK\n"
     ]
    },
    {
     "data": {
      "text/plain": [
       "<unittest.main.TestProgram at 0x17eaa1e1dd8>"
      ]
     },
     "execution_count": 55,
     "metadata": {},
     "output_type": "execute_result"
    }
   ],
   "source": [
    "import unittest\n",
    "\n",
    "class MyTestCase(unittest.TestCase):\n",
    "    def setUp(self):\n",
    "        self.Eon = Book(1985,\"Greg Bear\",\"science fiction\",503)\n",
    "    def tearDown(self):\n",
    "        del self.Eon\n",
    "    \n",
    "    def test_value_required_attributes(self):\n",
    "        self.assertEqual(self.Eon.publish_year,1985)\n",
    "        self.assertEqual(self.Eon.author,\"Greg Bear\")\n",
    "        self.assertEqual(self.Eon.genre,\"science fiction\")\n",
    "        self.assertEqual(self.Eon.pages,503)\n",
    "    \n",
    "    def test_value_error_for_bad_genre(self):\n",
    "        with self.assertRaises(ValueError):\n",
    "            test_book = Book(2019,\"Nobody\",\"Not a Genre\",1000)\n",
    "    \n",
    "    def test_str_output(self):\n",
    "        self.assertEqual(str(self.Eon),\"Published: 1985\\nAuthor: Greg Bear\\nGenre: science fiction\\nPages: 503\")\n",
    "\n",
    "unittest.main(argv=[''],exit=False)"
   ]
  }
 ],
 "metadata": {
  "celltoolbar": "Slideshow",
  "kernelspec": {
   "display_name": "Python 3",
   "language": "python",
   "name": "python3"
  },
  "language_info": {
   "codemirror_mode": {
    "name": "ipython",
    "version": 3
   },
   "file_extension": ".py",
   "mimetype": "text/x-python",
   "name": "python",
   "nbconvert_exporter": "python",
   "pygments_lexer": "ipython3",
   "version": "3.7.3"
  }
 },
 "nbformat": 4,
 "nbformat_minor": 2
}
