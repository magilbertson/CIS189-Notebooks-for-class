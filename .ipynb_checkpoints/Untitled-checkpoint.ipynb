{
 "cells": [
  {
   "cell_type": "code",
   "execution_count": 81,
   "metadata": {},
   "outputs": [],
   "source": [
    "class Customer:\n",
    "    def __init__(self,cust_num,last_name,first_name,phone,location):\n",
    "        self.cust_num = cust_num\n",
    "        self.last_name = last_name\n",
    "        self.first_name = first_name\n",
    "        self.phone = phone\n",
    "        self.location = location\n",
    "    \n",
    "    def display(self):\n",
    "        return f'Customer #{self.cust_num}:{self.last_name},{self.first_name}\\n{self.phone}\\n{self.location}'\n",
    "        \n",
    "class Invoice:\n",
    "    items_with_price ={}\n",
    "    def __init__ (self,invoice_id,customer_id,items_with_price={}):\n",
    "        self.invoice_id = invoice_id\n",
    "        self.customer_id = customer_id\n",
    "        self.items_with_price = items_with_price\n",
    "    \n",
    "    def add_item(self,item):\n",
    "        self.items_with_price.update(item)\n",
    "        \n",
    "    \n",
    "    def create_invoice(self):\n",
    "        print(self.customer_id.display())\n",
    "        for key, value in self.items_with_price.items():\n",
    "            print (f'{key}.....${value}')\n",
    "        print(f'Tax.....${(sum(self.items_with_price.values())*.06):.2f}')\n",
    "        print(f'Total.....${(sum(self.items_with_price.values(),sum(self.items_with_price.values())*.06)):.2f}')\n",
    "    \n",
    "    def __str__():\n",
    "        pass\n",
    "    \n",
    "    def __repr__():\n",
    "        pass"
   ]
  },
  {
   "cell_type": "code",
   "execution_count": 82,
   "metadata": {},
   "outputs": [
    {
     "name": "stdout",
     "output_type": "stream",
     "text": [
      "Customer #1:Reynolds,Mel\n",
      "No phones\n",
      "Firefly, somewhere in the verse\n",
      "iPad.....$799.99\n",
      "Surface.....$999.99\n",
      "Tax.....$108.00\n",
      "Total.....$1907.98\n"
     ]
    }
   ],
   "source": [
    "captain_mal = Customer(1, 'Reynolds', 'Mel', 'No phones', 'Firefly, somewhere in the verse')\n",
    "invoice = Invoice(1, captain_mal)\n",
    "invoice.add_item({'iPad': 799.99})\n",
    "invoice.add_item({'Surface': 999.99})\n",
    "invoice.create_invoice()"
   ]
  },
  {
   "cell_type": "code",
   "execution_count": 138,
   "metadata": {},
   "outputs": [],
   "source": [
    "class Person:\n",
    "    \"\"\"Person class using class Address, Class Composition\"\"\"\n",
    "    def __init__(self, lname, fname, addy=''):\n",
    "        name_characters = set(\"ABCDEFGHIJKLMNOPQRSTUVWXYZabcdefghijklmnopqrstuvwxyz'-\")\n",
    "        if not (name_characters.issuperset(lname) and name_characters.issuperset(fname)):\n",
    "            raise ValueError\n",
    "        self.last_name = lname\n",
    "        self.first_name = fname\n",
    "        self.address = addy\n",
    "\n",
    "    def display_person(self):\n",
    "        return f'{self.last_name}, {self.first_name}\\n{self.address}'\n",
    "\n",
    "class Student:\n",
    "    def __init__(self,person_id,major,start_date,gpa):\n",
    "        self.person_id = person_id\n",
    "        self.major = major\n",
    "        self.start_date = start_date\n",
    "        self.gpa = gpa\n",
    "    \n",
    "    def change_major(self,new_major):\n",
    "        self.major = new_major\n",
    "    \n",
    "    def update_gpa(self,new_gpa):\n",
    "        self.gpa = new_gpa\n",
    "    \n",
    "    def display(self):\n",
    "        return f'{self.person_id.display_person()}Major: {self.major}\\n{self.gpa}'\n",
    "\n",
    "Matt_Gilbertson = Person(\"Gilbertson\",\"Matt\")\n",
    "Matt_Gilbertson_Student = Student(Matt_Gilbertson,\"CIS\",\"5/5/15\",4.0)\n",
    "print(Matt_Gilbertson_Student.display())\n",
    "\n",
    "Matt_Gilbertson_Student.change_major(\"Being Awesome!\")\n",
    "Matt_Gilbertson_Student.update_gpa(3.0)\n",
    "print(Matt_Gilbertson_Student.display())"
   ]
  },
  {
   "cell_type": "code",
   "execution_count": 139,
   "metadata": {},
   "outputs": [
    {
     "name": "stdout",
     "output_type": "stream",
     "text": [
      "Gilbertson, Matt\n",
      "Major: CIS\n",
      "4.0\n"
     ]
    }
   ],
   "source": [
    "Matt_Gilbertson = Person(\"Gilbertson\",\"Matt\")\n",
    "Matt_Gilbertson_Student = Student(Matt_Gilbertson,\"CIS\",\"5/5/15\",4.0)\n",
    "print(Matt_Gilbertson_Student.display())\n",
    "\n"
   ]
  },
  {
   "cell_type": "code",
   "execution_count": 140,
   "metadata": {},
   "outputs": [
    {
     "name": "stdout",
     "output_type": "stream",
     "text": [
      "Gilbertson, Matt\n",
      "Major: Being Awesome!\n",
      "3.0\n"
     ]
    }
   ],
   "source": [
    "Matt_Gilbertson_Student.change_major(\"Being Awesome!\")\n",
    "Matt_Gilbertson_Student.update_gpa(3.0)\n",
    "print(Matt_Gilbertson_Student.display())"
   ]
  },
  {
   "cell_type": "code",
   "execution_count": 48,
   "metadata": {},
   "outputs": [],
   "source": [
    "from datetime import datetime\n",
    "\n",
    "class Employee:\n",
    "    def __init__(self,start_date,salary,name):\n",
    "        self.start_date = datetime.strptime(start_date, '%m/%d/%Y')\n",
    "        self.salary = salary\n",
    "        self.name = name\n",
    "    \n",
    "    def employee_info(self):\n",
    "        return f'{self.name}, {datetime.strftime(self.start_date,\"%m/%d/%Y\")}, {self.salary}'\n",
    "\n",
    "class Person:\n",
    "    def __init__(self,last_name,first_name,address,phone_number):\n",
    "        self.last_name = last_name\n",
    "        self.first_name = first_name\n",
    "        self.address = address\n",
    "        self.phone_number = phone_number\n",
    "\n",
    "class Manager(Employee, Person):\n",
    "    def __init__(self,start_date,salary,name,last_name,first_name,address,phone_number,department,direct_reports=[]):\n",
    "        Employee.__init__(self,start_date,salary,name)\n",
    "        Person.__init__(self,last_name,first_name,address,phone_number)\n",
    "        self.department = department\n",
    "        self.direct_reports = direct_reports\n",
    "    \n",
    "    def display(self):\n",
    "        print(f'Manager Name: {self.first_name} {self.last_name}\\nDepartment: {self.department}\\nSalary: {self.salary}\\nStart Date: {datetime.strftime(self.start_date,\"%m/%d/%Y\")}\\nContact Info: {self.address},Phone:{self.phone_number}\\nDirect Reports:')\n",
    "        for v in self.direct_reports:\n",
    "            print(v.employee_info())\n",
    "        return \"\"    "
   ]
  },
  {
   "cell_type": "code",
   "execution_count": 49,
   "metadata": {},
   "outputs": [],
   "source": [
    "matt_gilbertson = Employee('5/22/2019', 40000,\"Matt Gilbertson\")\n",
    "sam_smith = Employee('10/29/2019', 41000,\"Sam Smith\")\n",
    "john_doe = Employee('10/19/2019', 39000,\"John Doe\")"
   ]
  },
  {
   "cell_type": "code",
   "execution_count": 50,
   "metadata": {},
   "outputs": [],
   "source": [
    "Big_Boss = Manager('01/01/2001',99999,\"Big Boss\",\"Boss\",\"Big\",\"123 Main Street\",\"515-010-0011\",\"Marketing\",[matt_gilbertson,sam_smith,john_doe])"
   ]
  },
  {
   "cell_type": "code",
   "execution_count": 51,
   "metadata": {},
   "outputs": [
    {
     "name": "stdout",
     "output_type": "stream",
     "text": [
      "Manager Name: Big Boss\n",
      "Department: Marketing\n",
      "Salary: 99999\n",
      "Start Date: 01/01/2001\n",
      "Contact Info: 123 Main Street,Phone:515-010-0011\n",
      "Direct Reports:\n",
      "Matt Gilbertson, 05/22/2019, 40000\n",
      "Sam Smith, 10/29/2019, 41000\n",
      "John Doe, 10/19/2019, 39000\n",
      "\n"
     ]
    }
   ],
   "source": [
    "print(Big_Boss.display())\n"
   ]
  }
 ],
 "metadata": {
  "kernelspec": {
   "display_name": "Python 3",
   "language": "python",
   "name": "python3"
  },
  "language_info": {
   "codemirror_mode": {
    "name": "ipython",
    "version": 3
   },
   "file_extension": ".py",
   "mimetype": "text/x-python",
   "name": "python",
   "nbconvert_exporter": "python",
   "pygments_lexer": "ipython3",
   "version": "3.7.3"
  }
 },
 "nbformat": 4,
 "nbformat_minor": 2
}
