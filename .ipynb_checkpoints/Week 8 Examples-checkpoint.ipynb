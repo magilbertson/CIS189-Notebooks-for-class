{
 "cells": [
  {
   "cell_type": "markdown",
   "metadata": {
    "slideshow": {
     "slide_type": "slide"
    }
   },
   "source": [
    "# Module 8: Sets, Dictionaries, Cases, and DateTime"
   ]
  },
  {
   "cell_type": "markdown",
   "metadata": {
    "slideshow": {
     "slide_type": "subslide"
    }
   },
   "source": [
    "## Topic 1: Sets"
   ]
  },
  {
   "cell_type": "markdown",
   "metadata": {
    "slideshow": {
     "slide_type": "subslide"
    }
   },
   "source": [
    "### Sets are unordered groups of items with no duplication"
   ]
  },
  {
   "cell_type": "code",
   "execution_count": 16,
   "metadata": {
    "slideshow": {
     "slide_type": "fragment"
    }
   },
   "outputs": [
    {
     "name": "stdout",
     "output_type": "stream",
     "text": [
      "{1, 2, 3, 7, 9, 25}\n",
      "{7, 'A', 'a', 'water', (4, 5, 6), 'B'}\n"
     ]
    }
   ],
   "source": [
    "# Here's a set variable being created\n",
    "my_plain_set = {25,1,3,7,2,9}\n",
    "print(my_plain_set)\n",
    "\n",
    "# Sets can be mixed type.  Also, only one of each item will be added.  \n",
    "# For strings, case sensitivity matters\n",
    "my_mixed_set = {\"a\",\"A\",\"B\",\"B\",\"water\",7,(4,5,6)}\n",
    "print(my_mixed_set)"
   ]
  },
  {
   "cell_type": "markdown",
   "metadata": {
    "slideshow": {
     "slide_type": "subslide"
    }
   },
   "source": [
    "### Items can be added to sets at runtime"
   ]
  },
  {
   "cell_type": "code",
   "execution_count": 17,
   "metadata": {
    "slideshow": {
     "slide_type": "fragment"
    }
   },
   "outputs": [
    {
     "name": "stdout",
     "output_type": "stream",
     "text": [
      "{'h', 1, 'C', 'I', 'o', 'p', 'S', 8, 9, 'y', 't', 'n', 'fun'}\n"
     ]
    }
   ],
   "source": [
    "# First creating a set\n",
    "letters_used = {\"p\",\"y\",\"t\",\"h\",\"o\",\"n\"}\n",
    "# Now I'll add more items to the set\n",
    "# .update() only accepts one parameter so to get multiplies added, use a list\n",
    "letters_used.update([\"C\",\"I\",\"S\",1,8,9,\"fun\"])\n",
    "print(letters_used)\n"
   ]
  },
  {
   "cell_type": "markdown",
   "metadata": {
    "slideshow": {
     "slide_type": "subslide"
    }
   },
   "source": [
    "### Items can also be removed from sets"
   ]
  },
  {
   "cell_type": "code",
   "execution_count": 18,
   "metadata": {
    "slideshow": {
     "slide_type": "fragment"
    }
   },
   "outputs": [
    {
     "name": "stdout",
     "output_type": "stream",
     "text": [
      "{'h', 1, 'C', 'I', 'o', 'p', 'S', 8, 9, 'y', 't', 'n', 'fun'}\n",
      "{'h', 1, 'C', 'I', 'o', 'S', 8, 9, 'y', 't', 'n', 'fun'}\n"
     ]
    }
   ],
   "source": [
    "#removing items from the set\n",
    "print(letters_used)\n",
    "letters_used.remove(\"p\")\n",
    "print(letters_used)"
   ]
  },
  {
   "cell_type": "code",
   "execution_count": 19,
   "metadata": {
    "slideshow": {
     "slide_type": "subslide"
    }
   },
   "outputs": [
    {
     "name": "stdout",
     "output_type": "stream",
     "text": [
      "{'h', 1, 'C', 'I', 'o', 'S', 8, 9, 'y', 't', 'n', 'fun'}\n"
     ]
    },
    {
     "ename": "KeyError",
     "evalue": "'w'",
     "output_type": "error",
     "traceback": [
      "\u001b[1;31m---------------------------------------------------------------------------\u001b[0m",
      "\u001b[1;31mKeyError\u001b[0m                                  Traceback (most recent call last)",
      "\u001b[1;32m<ipython-input-19-9e88b5ba2379>\u001b[0m in \u001b[0;36m<module>\u001b[1;34m\u001b[0m\n\u001b[0;32m      1\u001b[0m \u001b[0mprint\u001b[0m\u001b[1;33m(\u001b[0m\u001b[0mletters_used\u001b[0m\u001b[1;33m)\u001b[0m\u001b[1;33m\u001b[0m\u001b[1;33m\u001b[0m\u001b[0m\n\u001b[0;32m      2\u001b[0m \u001b[1;31m# Using the .remove() will return a KeyError if the item you are checking isn't in the set\u001b[0m\u001b[1;33m\u001b[0m\u001b[1;33m\u001b[0m\u001b[1;33m\u001b[0m\u001b[0m\n\u001b[1;32m----> 3\u001b[1;33m \u001b[0mletters_used\u001b[0m\u001b[1;33m.\u001b[0m\u001b[0mremove\u001b[0m\u001b[1;33m(\u001b[0m\u001b[1;34m\"w\"\u001b[0m\u001b[1;33m)\u001b[0m\u001b[1;33m\u001b[0m\u001b[1;33m\u001b[0m\u001b[0m\n\u001b[0m",
      "\u001b[1;31mKeyError\u001b[0m: 'w'"
     ]
    }
   ],
   "source": [
    "print(letters_used)\n",
    "# Using the .remove() will return a KeyError if the item you are checking isn't in the set\n",
    "letters_used.remove(\"w\")"
   ]
  },
  {
   "cell_type": "code",
   "execution_count": 20,
   "metadata": {
    "slideshow": {
     "slide_type": "subslide"
    }
   },
   "outputs": [
    {
     "name": "stdout",
     "output_type": "stream",
     "text": [
      "This letter isn't in the set\n"
     ]
    }
   ],
   "source": [
    "# The KeyError can be used in combination with try/except:\n",
    "try:\n",
    "    letters_used.remove(\"z\")\n",
    "except:\n",
    "    print(\"This letter isn't in the set\")"
   ]
  },
  {
   "cell_type": "code",
   "execution_count": 21,
   "metadata": {
    "slideshow": {
     "slide_type": "fragment"
    }
   },
   "outputs": [],
   "source": [
    "# If you don't want an error return, you can use discard() instead of .remove()\n",
    "letters_used.discard(4)"
   ]
  },
  {
   "cell_type": "code",
   "execution_count": 22,
   "metadata": {
    "slideshow": {
     "slide_type": "subslide"
    }
   },
   "outputs": [
    {
     "name": "stdout",
     "output_type": "stream",
     "text": [
      "h\n",
      "1\n",
      "C\n",
      "I\n",
      "o\n",
      "S\n",
      "8\n",
      "9\n",
      "y\n",
      "t\n",
      "n\n",
      "fun\n",
      "set()\n"
     ]
    }
   ],
   "source": [
    "# Items can also be removed from a set while using them for something by using .pop()\n",
    "for x in range(len(letters_used)):\n",
    "    print(letters_used.pop())\n",
    "print(letters_used)"
   ]
  },
  {
   "cell_type": "markdown",
   "metadata": {
    "slideshow": {
     "slide_type": "subslide"
    }
   },
   "source": [
    "### Sets are good for situations where you want to check if an item is a member of the collection of items"
   ]
  },
  {
   "cell_type": "code",
   "execution_count": 24,
   "metadata": {
    "slideshow": {
     "slide_type": "subslide"
    }
   },
   "outputs": [
    {
     "name": "stdout",
     "output_type": "stream",
     "text": [
      "Enter a color: green\n"
     ]
    },
    {
     "data": {
      "text/plain": [
       "False"
      ]
     },
     "execution_count": 24,
     "metadata": {},
     "output_type": "execute_result"
    }
   ],
   "source": [
    "primary_color = {\"yellow\",\"red\",\"blue\"}\n",
    "check_color_inclusion = input(\"Enter a color: \")\n",
    "check_color_inclusion.lower() in primary_color"
   ]
  },
  {
   "cell_type": "markdown",
   "metadata": {
    "slideshow": {
     "slide_type": "subslide"
    }
   },
   "source": [
    "### Sets can be considered similar to an unordered list\n",
    "\n",
    "### Whereas frozensets can be considered similar to unordered tuples"
   ]
  },
  {
   "cell_type": "code",
   "execution_count": 25,
   "metadata": {
    "slideshow": {
     "slide_type": "subslide"
    }
   },
   "outputs": [
    {
     "name": "stdout",
     "output_type": "stream",
     "text": [
      "frozenset({4, 'elements', 'set', 'some', 'my'})\n"
     ]
    }
   ],
   "source": [
    "# I'll first create a tuple\n",
    "tuple_for_set = (\"some\",\"elements\",4,\"my\",\"set\")\n",
    "# Now I'll use my tuple to create a frozenset\n",
    "my_immutable_set = frozenset(tuple_for_set)\n",
    "print(my_immutable_set)"
   ]
  },
  {
   "cell_type": "code",
   "execution_count": 26,
   "metadata": {
    "slideshow": {
     "slide_type": "subslide"
    }
   },
   "outputs": [
    {
     "ename": "AttributeError",
     "evalue": "'frozenset' object has no attribute 'update'",
     "output_type": "error",
     "traceback": [
      "\u001b[1;31m---------------------------------------------------------------------------\u001b[0m",
      "\u001b[1;31mAttributeError\u001b[0m                            Traceback (most recent call last)",
      "\u001b[1;32m<ipython-input-26-cec0081a0401>\u001b[0m in \u001b[0;36m<module>\u001b[1;34m\u001b[0m\n\u001b[0;32m      1\u001b[0m \u001b[1;31m# I can't add anything to my frozenset\u001b[0m\u001b[1;33m\u001b[0m\u001b[1;33m\u001b[0m\u001b[1;33m\u001b[0m\u001b[0m\n\u001b[1;32m----> 2\u001b[1;33m \u001b[0mmy_immutable_set\u001b[0m\u001b[1;33m.\u001b[0m\u001b[0mupdate\u001b[0m\u001b[1;33m(\u001b[0m\u001b[1;36m7\u001b[0m\u001b[1;33m)\u001b[0m\u001b[1;33m\u001b[0m\u001b[1;33m\u001b[0m\u001b[0m\n\u001b[0m",
      "\u001b[1;31mAttributeError\u001b[0m: 'frozenset' object has no attribute 'update'"
     ]
    }
   ],
   "source": [
    "# I can't add anything to my frozenset\n",
    "my_immutable_set.update(7)"
   ]
  },
  {
   "cell_type": "markdown",
   "metadata": {
    "slideshow": {
     "slide_type": "subslide"
    }
   },
   "source": [
    "### There are some operations that can be done with sets that can be quite useful\n",
    "#### Union (|)- Returns a set of all the unique items in the two source sets\n",
    "#### Intersection (&) - Returns a set of the items that exist in both source sets\n",
    "#### Difference (-) - Returns a set of the items in the first source set that don't exist in the second one\n",
    "#### Symmetric Difference (^) - Returns a set of the items that are not shared between the two source sets"
   ]
  },
  {
   "cell_type": "code",
   "execution_count": 27,
   "metadata": {
    "slideshow": {
     "slide_type": "subslide"
    }
   },
   "outputs": [
    {
     "name": "stdout",
     "output_type": "stream",
     "text": [
      "union -  {2, 3, 4, 6, 7, 8, 9, 10, 12, 14, 19}\n",
      "intersection -  {8, 2, 10}\n",
      "difference -  {9, 4, 12, 6}\n",
      "symmetric difference -  {3, 4, 6, 7, 9, 12, 14, 19}\n"
     ]
    }
   ],
   "source": [
    "set_1 = {2,4,6,8,9,10,12}\n",
    "set_2 = {2,3,7,8,10,14,19}\n",
    "print(\"union - \", set_1|set_2)\n",
    "print(\"intersection - \", set_1 & set_2)\n",
    "print(\"difference - \", set_1 - set_2)\n",
    "print(\"symmetric difference - \", set_1 ^ set_2)"
   ]
  },
  {
   "attachments": {
    "Two%20Sets%20Operations.png": {
     "image/png": "[encoded data removed]"
    }
   },
   "cell_type": "markdown",
   "metadata": {
    "slideshow": {
     "slide_type": "subslide"
    }
   },
   "source": [
    "![Two%20Sets%20Operations.png](attachment:Two%20Sets%20Operations.png)"
   ]
  },
  {
   "attachments": {
    "Two%20Sets%20Operations%20union.png": {
     "image/png": "[encoded data removed]"
    }
   },
   "cell_type": "markdown",
   "metadata": {
    "slideshow": {
     "slide_type": "subslide"
    }
   },
   "source": [
    "![Two%20Sets%20Operations%20union.png](attachment:Two%20Sets%20Operations%20union.png)"
   ]
  },
  {
   "attachments": {
    "Two%20Sets%20Operations%20intersection.png": {
     "image/png": "[encoded data removed]"
    }
   },
   "cell_type": "markdown",
   "metadata": {
    "slideshow": {
     "slide_type": "subslide"
    }
   },
   "source": [
    "![Two%20Sets%20Operations%20intersection.png](attachment:Two%20Sets%20Operations%20intersection.png)"
   ]
  },
  {
   "attachments": {
    "Two%20Sets%20Operations%20difference.png": {
     "image/png": "[encoded data removed]"
    }
   },
   "cell_type": "markdown",
   "metadata": {
    "slideshow": {
     "slide_type": "subslide"
    }
   },
   "source": [
    "![Two%20Sets%20Operations%20difference.png](attachment:Two%20Sets%20Operations%20difference.png)"
   ]
  },
  {
   "attachments": {
    "Two%20Sets%20Operations%20symm%20difference.png": {
     "image/png": "[encoded data removed]"
    }
   },
   "cell_type": "markdown",
   "metadata": {
    "slideshow": {
     "slide_type": "subslide"
    }
   },
   "source": [
    "![Two%20Sets%20Operations%20symm%20difference.png](attachment:Two%20Sets%20Operations%20symm%20difference.png)"
   ]
  },
  {
   "cell_type": "markdown",
   "metadata": {
    "slideshow": {
     "slide_type": "slide"
    }
   },
   "source": [
    "## Topic 2 - Dictionaries"
   ]
  },
  {
   "cell_type": "markdown",
   "metadata": {
    "slideshow": {
     "slide_type": "subslide"
    }
   },
   "source": [
    "### Dictionaries are like sets with keys for each value in the set\n",
    "### Values can be accessed in the dictionary using their keys"
   ]
  },
  {
   "cell_type": "code",
   "execution_count": 28,
   "metadata": {
    "slideshow": {
     "slide_type": "subslide"
    }
   },
   "outputs": [
    {
     "name": "stdout",
     "output_type": "stream",
     "text": [
      "{'first_name': 'matt', 'last_name': 'gilbertson', 'occupation': 'instructor'}\n",
      "matt\n",
      "instructor\n"
     ]
    }
   ],
   "source": [
    "my_dictionary = {\"first_name\":\"matt\", \"last_name\":\"gilbertson\", \"occupation\":\"instructor\"}\n",
    "print(my_dictionary)\n",
    "print(my_dictionary[\"first_name\"])\n",
    "print(my_dictionary[\"occupation\"])"
   ]
  },
  {
   "cell_type": "markdown",
   "metadata": {
    "slideshow": {
     "slide_type": "subslide"
    }
   },
   "source": [
    "### Values can be deleted from the dictionary using their keys"
   ]
  },
  {
   "cell_type": "code",
   "execution_count": 29,
   "metadata": {
    "slideshow": {
     "slide_type": "fragment"
    }
   },
   "outputs": [
    {
     "name": "stdout",
     "output_type": "stream",
     "text": [
      "{'first_name': 'matt', 'last_name': 'gilbertson'}\n"
     ]
    }
   ],
   "source": [
    "del my_dictionary[\"occupation\"]\n",
    "print(my_dictionary)"
   ]
  },
  {
   "cell_type": "markdown",
   "metadata": {
    "slideshow": {
     "slide_type": "subslide"
    }
   },
   "source": [
    "### I can output all the keys or values from my dictionary"
   ]
  },
  {
   "cell_type": "code",
   "execution_count": 30,
   "metadata": {
    "slideshow": {
     "slide_type": "fragment"
    }
   },
   "outputs": [
    {
     "name": "stdout",
     "output_type": "stream",
     "text": [
      "['address', 'phone', 'age', 'city']\n",
      "dict_values(['123 Fake Street', '5155151515', 40, 'Des Moines'])\n"
     ]
    }
   ],
   "source": [
    "my_other_dictionary = {\"address\":\"123 Fake Street\", \"phone\":\"5155151515\", \"age\":40, \"city\":\"Des Moines\"}\n",
    "\n",
    "# I can output the keys for a dictionary this way\n",
    "print(list(my_other_dictionary))\n",
    "\n",
    "# I can output the values for a dictionary this way\n",
    "print(my_other_dictionary.values())"
   ]
  },
  {
   "cell_type": "code",
   "execution_count": 32,
   "metadata": {
    "slideshow": {
     "slide_type": "subslide"
    }
   },
   "outputs": [
    {
     "data": {
      "text/plain": [
       "'FAILURE'"
      ]
     },
     "execution_count": 32,
     "metadata": {},
     "output_type": "execute_result"
    }
   ],
   "source": [
    "# I can get a value using a key by using .get() method\n",
    "my_other_dictionary.get(\"gender\",\"FAILURE\")"
   ]
  },
  {
   "cell_type": "markdown",
   "metadata": {
    "slideshow": {
     "slide_type": "subslide"
    }
   },
   "source": [
    "### I can also iterate over a dictionary"
   ]
  },
  {
   "cell_type": "code",
   "execution_count": 33,
   "metadata": {
    "slideshow": {
     "slide_type": "subslide"
    }
   },
   "outputs": [
    {
     "name": "stdout",
     "output_type": "stream",
     "text": [
      "key is address / value is 123 Fake Street\n",
      "key is phone / value is 5155151515\n",
      "key is age / value is 40\n",
      "key is city / value is Des Moines\n"
     ]
    }
   ],
   "source": [
    "for key,value in my_other_dictionary.items():\n",
    "    print (\"key is\",key,\"/ value is\",value)"
   ]
  },
  {
   "cell_type": "markdown",
   "metadata": {
    "slideshow": {
     "slide_type": "subslide"
    }
   },
   "source": [
    "### Like sets, I can check for membership in a dictionary"
   ]
  },
  {
   "cell_type": "code",
   "execution_count": 36,
   "metadata": {
    "slideshow": {
     "slide_type": "fragment"
    }
   },
   "outputs": [
    {
     "name": "stdout",
     "output_type": "stream",
     "text": [
      "{'address': '123 Fake Street', 'phone': '5155151515', 'age': 40, 'city': 'Des Moines'}\n",
      "False\n",
      "False\n"
     ]
    }
   ],
   "source": [
    "print(my_other_dictionary)\n",
    "# Check if a key is in the dictionary\n",
    "print(\"phone\" in my_other_dictionary)\n",
    "\n",
    "# Check if a value is in the dictionary\n",
    "print(\"Des Moines\" in my_other_dictionary.values())"
   ]
  },
  {
   "cell_type": "markdown",
   "metadata": {
    "slideshow": {
     "slide_type": "subslide"
    }
   },
   "source": [
    "### A note on ordering of Dictionaries\n",
    "### as of Python 3.6, dictionaries are ordered collections.  Prior to this version, they are considered unordered collections"
   ]
  },
  {
   "cell_type": "markdown",
   "metadata": {
    "slideshow": {
     "slide_type": "slide"
    }
   },
   "source": [
    "## Topic 3: Selection Using Dictionary"
   ]
  },
  {
   "cell_type": "markdown",
   "metadata": {
    "slideshow": {
     "slide_type": "subslide"
    }
   },
   "source": [
    "## Case statements are not built into Python but can still be implemented using dictionaries and can be useful\n",
    "## Case statements are also called switch-case statements"
   ]
  },
  {
   "cell_type": "code",
   "execution_count": 38,
   "metadata": {
    "slideshow": {
     "slide_type": "subslide"
    }
   },
   "outputs": [
    {
     "name": "stdout",
     "output_type": "stream",
     "text": [
      "nothing\n"
     ]
    }
   ],
   "source": [
    "#This Switch-case statement uses .get to pull values out of a dictionary\n",
    "def SwitchExample(argument):\n",
    "    switcher = {\n",
    "        0: \" This is Case Zero \",\n",
    "        1: \" This is Case One \",\n",
    "        2: \" This is Case Two \",\n",
    "    }\n",
    "    return switcher.get(argument, \"nothing\")\n",
    "\n",
    "\n",
    "if __name__ == \"__main__\":\n",
    "    argument = 4\n",
    "    print (SwitchExample(argument))"
   ]
  },
  {
   "cell_type": "code",
   "execution_count": 39,
   "metadata": {
    "slideshow": {
     "slide_type": "subslide"
    }
   },
   "outputs": [],
   "source": [
    "# This slightly more complicated case allows a separate function to run based on the value passed in\n",
    "def zero():\n",
    "    print (\"You typed zero.\")\n",
    " \n",
    "def sqr():\n",
    "    print (\"n is a perfect square\")\n",
    " \n",
    "def even():\n",
    "    print (\"n is an even number\")\n",
    " \n",
    "def prime():\n",
    "    print (\"n is a prime number\")\n",
    "    \n",
    "options = {0 : zero, 1 : sqr, 4 : sqr, 9 : sqr, 2 : prime, 3 : prime, 5 : prime, 7 : prime} "
   ]
  },
  {
   "cell_type": "code",
   "execution_count": 40,
   "metadata": {
    "slideshow": {
     "slide_type": "fragment"
    }
   },
   "outputs": [
    {
     "name": "stdout",
     "output_type": "stream",
     "text": [
      "enter a number between 0 and 7: 3\n",
      "n is a prime number\n"
     ]
    }
   ],
   "source": [
    "number_choice = int(input(\"enter a number between 0 and 7: \"))\n",
    "options[number_choice]()"
   ]
  },
  {
   "cell_type": "markdown",
   "metadata": {
    "slideshow": {
     "slide_type": "slide"
    }
   },
   "source": [
    "## Topic 4: datetime"
   ]
  },
  {
   "cell_type": "markdown",
   "metadata": {
    "slideshow": {
     "slide_type": "subslide"
    }
   },
   "source": [
    "### datetime is useful in several ways in Python.  \n",
    "### It can be used for timing your code, intentionally adding delay time into your programs, accessing the system datetime to make choices in your program, etc."
   ]
  },
  {
   "cell_type": "code",
   "execution_count": 41,
   "metadata": {
    "slideshow": {
     "slide_type": "subslide"
    }
   },
   "outputs": [
    {
     "name": "stdout",
     "output_type": "stream",
     "text": [
      "2020-02-18 10:22:56.148491\n"
     ]
    }
   ],
   "source": [
    "import datetime\n",
    "# Print the current datetime down to the millionth of a second\n",
    "print (datetime.datetime.now())"
   ]
  },
  {
   "cell_type": "markdown",
   "metadata": {
    "slideshow": {
     "slide_type": "subslide"
    }
   },
   "source": [
    "### A datetime can be assigned to a variable"
   ]
  },
  {
   "cell_type": "code",
   "execution_count": 42,
   "metadata": {
    "slideshow": {
     "slide_type": "fragment"
    }
   },
   "outputs": [
    {
     "name": "stdout",
     "output_type": "stream",
     "text": [
      "2020-05-22 00:00:00\n"
     ]
    }
   ],
   "source": [
    "import datetime\n",
    "my_birthday = datetime.datetime(2020,5,22)\n",
    "print(my_birthday)"
   ]
  },
  {
   "cell_type": "markdown",
   "metadata": {
    "slideshow": {
     "slide_type": "subslide"
    }
   },
   "source": [
    "### Relative datetimes can be assigned using timedelta"
   ]
  },
  {
   "cell_type": "code",
   "execution_count": 43,
   "metadata": {
    "slideshow": {
     "slide_type": "fragment"
    }
   },
   "outputs": [
    {
     "name": "stdout",
     "output_type": "stream",
     "text": [
      "2020-02-25 10:24:13.706399\n"
     ]
    }
   ],
   "source": [
    "from datetime import timedelta\n",
    "one_week_from_now = datetime.datetime.now() + timedelta(days=7)\n",
    "print(one_week_from_now)"
   ]
  },
  {
   "cell_type": "markdown",
   "metadata": {
    "slideshow": {
     "slide_type": "slide"
    }
   },
   "source": [
    "## Activity"
   ]
  },
  {
   "cell_type": "markdown",
   "metadata": {
    "slideshow": {
     "slide_type": "slide"
    }
   },
   "source": [
    "### Create a dictionary of items\n",
    "### Determine all the unique values in the dictionary by putting them in a set\n",
    "### Create a list of all the keys from the dictionary.\n",
    "### Create a set of values in the set that are greater than 40\n",
    "### Challenge: resort the day list in place so it starts with Monday"
   ]
  }
 ],
 "metadata": {
  "celltoolbar": "Slideshow",
  "kernelspec": {
   "display_name": "Python 3",
   "language": "python",
   "name": "python3"
  },
  "language_info": {
   "codemirror_mode": {
    "name": "ipython",
    "version": 3
   },
   "file_extension": ".py",
   "mimetype": "text/x-python",
   "name": "python",
   "nbconvert_exporter": "python",
   "pygments_lexer": "ipython3",
   "version": "3.7.3"
  }
 },
 "nbformat": 4,
 "nbformat_minor": 2
}
