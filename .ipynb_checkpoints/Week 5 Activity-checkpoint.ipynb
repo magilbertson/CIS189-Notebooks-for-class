{
 "cells": [
  {
   "cell_type": "markdown",
   "metadata": {
    "slideshow": {
     "slide_type": "slide"
    }
   },
   "source": [
    "## For this activity, I want you to create a program that rolls two dice and adds up the total on those dice.\n",
    "## The program then keeps rolling the dice until the sum is at least a 100 score.\n",
    "## Once the total is at least 100, the program stops rolling and outputs how many rolls it took and the total.\n",
    "## If at any point the program rolls snake eyes (2 ones), the user loses and the program should output that the user lost."
   ]
  },
  {
   "cell_type": "code",
   "execution_count": 4,
   "metadata": {
    "slideshow": {
     "slide_type": "subslide"
    }
   },
   "outputs": [],
   "source": [
    "import random\n",
    "from random import randint\n",
    "die_1 = random.randint(1,6)\n",
    "die_2 = random.randint(1,6)"
   ]
  },
  {
   "cell_type": "code",
   "execution_count": 19,
   "metadata": {
    "slideshow": {
     "slide_type": "subslide"
    }
   },
   "outputs": [],
   "source": [
    "def roll_the_dice():\n",
    "    die_1 = random.randint(1,6)\n",
    "    die_2 = random.randint(1,6)\n",
    "    return(die_1 + die_2)"
   ]
  },
  {
   "cell_type": "code",
   "execution_count": null,
   "metadata": {
    "slideshow": {
     "slide_type": "subslide"
    }
   },
   "outputs": [],
   "source": [
    "die_total = 0\n",
    "number_of_rolls = 0"
   ]
  },
  {
   "cell_type": "code",
   "execution_count": 26,
   "metadata": {
    "slideshow": {
     "slide_type": "subslide"
    }
   },
   "outputs": [
    {
     "name": "stdout",
     "output_type": "stream",
     "text": [
      "total so far: 4\n",
      "total so far: 7\n",
      "total so far: 11\n",
      "total so far: 16\n",
      "total so far: 26\n",
      "total so far: 37\n",
      "total so far: 44\n",
      "total so far: 45\n",
      "total so far: 50\n",
      "total so far: 55\n",
      "total so far: 58\n",
      "total so far: 64\n",
      "total so far: 67\n",
      "total so far: 73\n",
      "total so far: 78\n",
      "total so far: 79\n",
      "total so far: 83\n",
      "total so far: 89\n",
      "total so far: 94\n",
      "total so far: 98\n",
      "total so far: 98\n",
      "total so far: 103\n",
      "Contratulations!  You rolled at least 100 total\n",
      "It took you 22 rolls and your total score was 103\n"
     ]
    }
   ],
   "source": [
    "die_total = 0\n",
    "number_of_rolls = 0\n",
    "while die_total < 100:\n",
    "    current_roll = roll_the_dice()\n",
    "    if current_roll == 2:\n",
    "        print(\"you lose because you got snake eyes!\")\n",
    "        break\n",
    "    die_total += current_roll\n",
    "    number_of_rolls += 1 \n",
    "    print (\"total so far:\", die_total)\n",
    "\n",
    "else:\n",
    "    print(\"Contratulations!  You rolled at least 100 total\")\n",
    "    print(\"It took you\", number_of_rolls,\"rolls and your total score was\", die_total)\n",
    "    \n",
    "    "
   ]
  }
 ],
 "metadata": {
  "celltoolbar": "Slideshow",
  "kernelspec": {
   "display_name": "Python 3",
   "language": "python",
   "name": "python3"
  },
  "language_info": {
   "codemirror_mode": {
    "name": "ipython",
    "version": 3
   },
   "file_extension": ".py",
   "mimetype": "text/x-python",
   "name": "python",
   "nbconvert_exporter": "python",
   "pygments_lexer": "ipython3",
   "version": "3.7.6"
  }
 },
 "nbformat": 4,
 "nbformat_minor": 4
}
