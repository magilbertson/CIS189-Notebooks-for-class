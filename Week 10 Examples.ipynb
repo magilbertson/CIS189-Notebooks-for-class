{
 "cells": [
  {
   "cell_type": "markdown",
   "metadata": {
    "slideshow": {
     "slide_type": "slide"
    }
   },
   "source": [
    "# Module 10: Classes and Objects"
   ]
  },
  {
   "cell_type": "markdown",
   "metadata": {
    "slideshow": {
     "slide_type": "subslide"
    }
   },
   "source": [
    "## Topic 1: Encapsulation"
   ]
  },
  {
   "cell_type": "markdown",
   "metadata": {
    "slideshow": {
     "slide_type": "subslide"
    }
   },
   "source": [
    "### What is Encapsulation?"
   ]
  },
  {
   "cell_type": "markdown",
   "metadata": {
    "slideshow": {
     "slide_type": "fragment"
    }
   },
   "source": [
    "### Encapsulation is hiding an object/function from view outside of the object's definition"
   ]
  },
  {
   "cell_type": "markdown",
   "metadata": {
    "slideshow": {
     "slide_type": "subslide"
    }
   },
   "source": [
    "### A class is an example of encapsulation because it localizes all of the data/functionality/functions of the class"
   ]
  },
  {
   "cell_type": "markdown",
   "metadata": {
    "slideshow": {
     "slide_type": "subslide"
    }
   },
   "source": [
    "### Welcome to Object Oriented Programming (OOP)!"
   ]
  },
  {
   "cell_type": "markdown",
   "metadata": {
    "slideshow": {
     "slide_type": "subslide"
    }
   },
   "source": [
    "### The first thing we are going to create is a class constructor"
   ]
  },
  {
   "cell_type": "code",
   "execution_count": null,
   "metadata": {
    "slideshow": {
     "slide_type": "fragment"
    }
   },
   "outputs": [],
   "source": [
    "class Car:\n",
    "    #Class attribute\n",
    "    purpose = \"moving things\"\n",
    "        \n",
    "    def __init__(self,vehicle_type,fuel,color):\n",
    "        self.vehicle_type = vehicle_type\n",
    "        self.fuel = fuel\n",
    "        self.color = color"
   ]
  },
  {
   "cell_type": "markdown",
   "metadata": {
    "slideshow": {
     "slide_type": "subslide"
    }
   },
   "source": [
    "### Now that I have a class, I can create objects from the class"
   ]
  },
  {
   "cell_type": "code",
   "execution_count": null,
   "metadata": {
    "slideshow": {
     "slide_type": "fragment"
    }
   },
   "outputs": [],
   "source": [
    "#Time to instantiate! (make objects in my class)\n",
    "My_F150 = Car(\"Ford truck\", \"gasoline\", \"white\")\n",
    "not_my_tesla = Car(\"Tesla car\",\"electric\", \"black\")"
   ]
  },
  {
   "cell_type": "markdown",
   "metadata": {
    "slideshow": {
     "slide_type": "subslide"
    }
   },
   "source": [
    "### My objects have all of the attributes established when creating them from the class. \n",
    "### I can access attributes of my objects:"
   ]
  },
  {
   "cell_type": "code",
   "execution_count": null,
   "metadata": {
    "slideshow": {
     "slide_type": "fragment"
    }
   },
   "outputs": [],
   "source": [
    "# I can access attributes of my objects\n",
    "print(My_F150.vehicle_type)\n",
    "print(not_my_tesla.color)\n",
    "print(My_F150.purpose)"
   ]
  },
  {
   "cell_type": "markdown",
   "metadata": {
    "slideshow": {
     "slide_type": "subslide"
    }
   },
   "source": [
    "### My classes (and thus, objects) can also contain methods, which work similarly to functions"
   ]
  },
  {
   "cell_type": "markdown",
   "metadata": {
    "slideshow": {
     "slide_type": "subslide"
    }
   },
   "source": [
    "### I first need to recreate my class to add my methods to it"
   ]
  },
  {
   "cell_type": "code",
   "execution_count": null,
   "metadata": {
    "slideshow": {
     "slide_type": "fragment"
    }
   },
   "outputs": [],
   "source": [
    "# Same car class we created earlier\n",
    "class Car:\n",
    "    #Class attribute\n",
    "    purpose = \"moving things\"\n",
    "        \n",
    "    def __init__(self,vehicle_type,fuel,color):\n",
    "        self.vehicle_type = vehicle_type\n",
    "        self.fuel = fuel\n",
    "        self.color = color\n",
    "    \n",
    "    # Lets look at instance methods\n",
    "    def car_description(self):\n",
    "        return \"a {} has a {} engine and is {}.\".format(self.vehicle_type,self.fuel,self.color)\n",
    "    \n",
    "    def vehicle_quality(self,state):\n",
    "        return \"My {} is {}\".format(self.vehicle_type, state)"
   ]
  },
  {
   "cell_type": "markdown",
   "metadata": {
    "slideshow": {
     "slide_type": "subslide"
    }
   },
   "source": [
    "### Because my class has changed, I need to re-establish my objects"
   ]
  },
  {
   "cell_type": "code",
   "execution_count": null,
   "metadata": {
    "slideshow": {
     "slide_type": "fragment"
    }
   },
   "outputs": [],
   "source": [
    "#Time to instantiate! (make objects in my class)\n",
    "My_F150 = Car(\"Ford truck\", \"gasoline\", \"white\")\n",
    "not_my_tesla = Car(\"Tesla car\",\"electric\", \"black\")"
   ]
  },
  {
   "cell_type": "markdown",
   "metadata": {
    "slideshow": {
     "slide_type": "subslide"
    }
   },
   "source": [
    "### My objects now have the class methods associated with them"
   ]
  },
  {
   "cell_type": "code",
   "execution_count": null,
   "metadata": {
    "slideshow": {
     "slide_type": "fragment"
    }
   },
   "outputs": [],
   "source": [
    "# I can output information using instance methods\n",
    "print(My_F150.car_description())\n",
    "print(not_my_tesla.car_description())"
   ]
  },
  {
   "cell_type": "code",
   "execution_count": null,
   "metadata": {
    "slideshow": {
     "slide_type": "fragment"
    }
   },
   "outputs": [],
   "source": [
    "# I can mix both object attributes and other inputs in my instance methods\n",
    "print(My_F150.vehicle_quality(\"kinda rusty\"))"
   ]
  },
  {
   "cell_type": "markdown",
   "metadata": {
    "slideshow": {
     "slide_type": "subslide"
    }
   },
   "source": [
    "### I can also create methods that change attributes for my objects"
   ]
  },
  {
   "cell_type": "code",
   "execution_count": null,
   "metadata": {
    "slideshow": {
     "slide_type": "fragment"
    }
   },
   "outputs": [],
   "source": [
    "# Same Car class we created earlier\n",
    "class Car:\n",
    "    #Class attribute\n",
    "    purpose = \"moving things\"\n",
    "        \n",
    "    def __init__(self,vehicle_type,fuel,color):\n",
    "        self.vehicle_type = vehicle_type\n",
    "        self.fuel = fuel\n",
    "        self.color = color\n",
    "    \n",
    "    # Lets look at instance methods\n",
    "    def car_description(self):\n",
    "        return \"a {} has a {} engine and is {}.\".format(self.vehicle_type,self.fuel,self.color)\n",
    "    \n",
    "    def vehicle_quality(self,state):\n",
    "        return \"My {} is {}\".format(self.vehicle_type, state)\n",
    "    \n",
    "    def color_changed(self):\n",
    "        self.color = \"blue\""
   ]
  },
  {
   "cell_type": "code",
   "execution_count": null,
   "metadata": {
    "slideshow": {
     "slide_type": "subslide"
    }
   },
   "outputs": [],
   "source": [
    "#Time to instantiate! (make objects in my class)\n",
    "My_F150 = Car(\"Ford truck\", \"gasoline\", \"white\")\n",
    "not_my_tesla = Car(\"Tesla car\",\"electric\", \"black\")"
   ]
  },
  {
   "cell_type": "code",
   "execution_count": null,
   "metadata": {
    "slideshow": {
     "slide_type": "subslide"
    }
   },
   "outputs": [],
   "source": [
    "# I can also use instance methods to change object attributes\n",
    "My_F150.color_changed()\n",
    "My_F150.car_description()"
   ]
  },
  {
   "cell_type": "markdown",
   "metadata": {
    "slideshow": {
     "slide_type": "subslide"
    }
   },
   "source": [
    "### We'll also want to add \\_\\_str\\_\\_ and \\_\\_repr\\_\\_ to our class"
   ]
  },
  {
   "cell_type": "markdown",
   "metadata": {
    "slideshow": {
     "slide_type": "subslide"
    }
   },
   "source": [
    "### \\_\\_str\\_\\_ overrides print functionality for the object so we can output in a specified format.  It is expected to be user readable"
   ]
  },
  {
   "cell_type": "markdown",
   "metadata": {
    "slideshow": {
     "slide_type": "subslide"
    }
   },
   "source": [
    "### \\_\\_repr\\_\\_ is used for developer functionality and needs to be unambiguous about the attributes of the object.  It does not need to be as user readability friendly.  It can also be used for unittesting purposes"
   ]
  },
  {
   "cell_type": "code",
   "execution_count": null,
   "metadata": {
    "slideshow": {
     "slide_type": "subslide"
    }
   },
   "outputs": [],
   "source": [
    "# Same Car class we created earlier\n",
    "class Car:\n",
    "    #Class attribute\n",
    "    purpose = \"moving things\"\n",
    "        \n",
    "    def __init__(self,vehicle_type,fuel,color):\n",
    "        self.vehicle_type = vehicle_type\n",
    "        self.fuel = fuel\n",
    "        self.color = color\n",
    "    \n",
    "    # Lets look at instance methods\n",
    "    def car_description(self):\n",
    "        return \"a {} has a {} engine and is {}.\".format(self.vehicle_type,self.fuel,self.color)\n",
    "    \n",
    "    def vehicle_quality(self,state):\n",
    "        return \"My {} is {}\".format(self.vehicle_type, state)\n",
    "    \n",
    "    def color_changed(self):\n",
    "        self.color = \"blue\"\n",
    "        \n",
    "    def __str__(self):\n",
    "        return f'Vehicle Type: {self.vehicle_type}\\nFuel Type: {self.fuel}\\nVehicle Color: {self.color}'\n",
    "    \n",
    "    def __repr__(self):\n",
    "        return f'{type(self.vehicle_type)} - {self.vehicle_type},{type(self.fuel)} - {self.fuel},{type(self.color)} - {self.color}'"
   ]
  },
  {
   "cell_type": "code",
   "execution_count": null,
   "metadata": {
    "slideshow": {
     "slide_type": "subslide"
    }
   },
   "outputs": [],
   "source": [
    "#Time to instantiate! (make objects in my class)\n",
    "My_F150 = Car(\"Ford truck\", \"gasoline\", \"white\")\n",
    "not_my_tesla = Car(\"Tesla car\",\"electric\", \"black\")"
   ]
  },
  {
   "cell_type": "code",
   "execution_count": null,
   "metadata": {
    "slideshow": {
     "slide_type": "subslide"
    }
   },
   "outputs": [],
   "source": [
    "print(My_F150)\n",
    "print()\n",
    "print(not_my_tesla)\n",
    "repr(My_F150)"
   ]
  },
  {
   "cell_type": "markdown",
   "metadata": {
    "slideshow": {
     "slide_type": "slide"
    }
   },
   "source": [
    "## Topic 2 - Classes & Objects"
   ]
  },
  {
   "cell_type": "markdown",
   "metadata": {
    "slideshow": {
     "slide_type": "subslide"
    }
   },
   "source": [
    "### This topic is essentially a continuation of the previous one"
   ]
  },
  {
   "cell_type": "markdown",
   "metadata": {
    "slideshow": {
     "slide_type": "slide"
    }
   },
   "source": [
    "## Topic 3 - Testing Classes"
   ]
  },
  {
   "cell_type": "markdown",
   "metadata": {
    "slideshow": {
     "slide_type": "subslide"
    }
   },
   "source": [
    "### I'll start by creating a new class and add a ValueError path"
   ]
  },
  {
   "cell_type": "code",
   "execution_count": null,
   "metadata": {
    "slideshow": {
     "slide_type": "fragment"
    }
   },
   "outputs": [],
   "source": [
    "class Book:\n",
    "    \n",
    "    \n",
    "    def __init__(self,publish_year,author,genre,pages=0):\n",
    "        genre_options = {'fantasy','science fiction','western','romance','thriller','mystery','detective','dystopia','other'}\n",
    "        self.publish_year = publish_year\n",
    "        self.author = author\n",
    "        if genre.lower() not in genre_options:\n",
    "            raise ValueError\n",
    "        self.genre = genre\n",
    "        self.pages = pages\n",
    "    \n",
    "    def __str__(self):\n",
    "        return f'Published: {self.publish_year}\\nAuthor: {self.author}\\nGenre: {self.genre}\\nPages: {self.pages}'"
   ]
  },
  {
   "cell_type": "markdown",
   "metadata": {
    "slideshow": {
     "slide_type": "subslide"
    }
   },
   "source": [
    "### I can now use a try/except when creating objects from this class"
   ]
  },
  {
   "cell_type": "code",
   "execution_count": null,
   "metadata": {
    "slideshow": {
     "slide_type": "fragment"
    }
   },
   "outputs": [],
   "source": [
    "try:\n",
    "    Enders_Game = Book(1985,\"Orson Scott Card\",\"Science Fiction\",324)\n",
    "except:\n",
    "    print(\"Something was wrong with your input. Please try again.\")"
   ]
  },
  {
   "cell_type": "code",
   "execution_count": null,
   "metadata": {
    "slideshow": {
     "slide_type": "fragment"
    }
   },
   "outputs": [],
   "source": [
    "print(Enders_Game)"
   ]
  },
  {
   "cell_type": "markdown",
   "metadata": {
    "slideshow": {
     "slide_type": "subslide"
    }
   },
   "source": [
    "### Time to set up some unit tests"
   ]
  },
  {
   "cell_type": "code",
   "execution_count": null,
   "metadata": {
    "slideshow": {
     "slide_type": "subslide"
    }
   },
   "outputs": [],
   "source": [
    "import unittest\n",
    "\n",
    "class MyTestCase(unittest.TestCase):\n",
    "    def setUp(self):\n",
    "        self.Eon = Book(1985,\"Greg Bear\",\"science fiction\",503)\n",
    "    def tearDown(self):\n",
    "        del self.Eon\n",
    "    \n",
    "    def test_value_required_attributes(self):\n",
    "        self.assertEqual(self.Eon.publish_year,1985)\n",
    "        self.assertEqual(self.Eon.author,\"Greg Bear\")\n",
    "        self.assertEqual(self.Eon.genre,\"science fiction\")\n",
    "        self.assertEqual(self.Eon.pages,503)\n",
    "    \n",
    "    def test_value_error_for_bad_genre(self):\n",
    "        with self.assertRaises(ValueError):\n",
    "            test_book = Book(2019,\"Nobody\",\"Not a Genre\",1000)\n",
    "    \n",
    "    def test_str_output(self):\n",
    "        self.assertEqual(str(self.Eon),\"Published: 1985\\nAuthor: Greg Bear\\nGenre: science fiction\\nPages: 503\")\n",
    "\n",
    "unittest.main(argv=[''],exit=False)"
   ]
  }
 ],
 "metadata": {
  "celltoolbar": "Slideshow",
  "kernelspec": {
   "display_name": "Python 3",
   "language": "python",
   "name": "python3"
  },
  "language_info": {
   "codemirror_mode": {
    "name": "ipython",
    "version": 3
   },
   "file_extension": ".py",
   "mimetype": "text/x-python",
   "name": "python",
   "nbconvert_exporter": "python",
   "pygments_lexer": "ipython3",
   "version": "3.7.3"
  }
 },
 "nbformat": 4,
 "nbformat_minor": 2
}
