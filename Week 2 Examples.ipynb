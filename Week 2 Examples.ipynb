{
 "cells": [
  {
   "cell_type": "markdown",
   "metadata": {
    "slideshow": {
     "slide_type": "slide"
    }
   },
   "source": [
    "# Module 2 - Basic Variables, Arithmetic, Casting"
   ]
  },
  {
   "cell_type": "markdown",
   "metadata": {
    "slideshow": {
     "slide_type": "slide"
    }
   },
   "source": [
    "## Topic 1 - Interpreter"
   ]
  },
  {
   "cell_type": "markdown",
   "metadata": {
    "slideshow": {
     "slide_type": "subslide"
    }
   },
   "source": [
    "### Read through the items in this topic on interpreters and how to use the Python command line interpreter"
   ]
  },
  {
   "cell_type": "markdown",
   "metadata": {
    "slideshow": {
     "slide_type": "slide"
    }
   },
   "source": [
    "## Topic 2 - Data Types and Variables"
   ]
  },
  {
   "cell_type": "code",
   "execution_count": 1,
   "metadata": {
    "slideshow": {
     "slide_type": "subslide"
    }
   },
   "outputs": [
    {
     "name": "stdout",
     "output_type": "stream",
     "text": [
      "Hello, Python!\n",
      "hellohellohellohellohello\n"
     ]
    }
   ],
   "source": [
    "# Concatenation of strings\n",
    "print(\"Hello\" + \",\" + \" \" + \"Python\" + \"!\")\n",
    "# String Math\n",
    "print('hello'*5)"
   ]
  },
  {
   "cell_type": "code",
   "execution_count": 2,
   "metadata": {
    "slideshow": {
     "slide_type": "subslide"
    }
   },
   "outputs": [
    {
     "name": "stdout",
     "output_type": "stream",
     "text": [
      "Hello,\t\t\tPython!\n"
     ]
    }
   ],
   "source": [
    "# Including escape characters (in this case \"\\t\" adds tabs)\n",
    "print(\"Hello\" + \",\" + \"\\t\\t\\t\" + \"Python\" + \"!\")"
   ]
  },
  {
   "cell_type": "code",
   "execution_count": 3,
   "metadata": {
    "slideshow": {
     "slide_type": "subslide"
    }
   },
   "outputs": [
    {
     "name": "stdout",
     "output_type": "stream",
     "text": [
      "HELLO PYTHON!\n"
     ]
    }
   ],
   "source": [
    "# I could also assign my strings to variables and output them\n",
    "first_word = 'HELLO'\n",
    "second_word = 'PYTHON!'\n",
    "print(first_word + \" \" + second_word)"
   ]
  },
  {
   "cell_type": "code",
   "execution_count": 5,
   "metadata": {
    "slideshow": {
     "slide_type": "subslide"
    }
   },
   "outputs": [
    {
     "name": "stdout",
     "output_type": "stream",
     "text": [
      "-5\n",
      "<class 'int'>\n",
      "<class 'int'>\n"
     ]
    }
   ],
   "source": [
    "# I'm first assigning an integer to a new variable my_integer and printing it\n",
    "my_integer = -5\n",
    "print(my_integer)\n",
    "\n",
    "# Now I'm using the \"type\" function to print the class of my variable \n",
    "variable_type = type(my_integer)\n",
    "print(variable_type)\n",
    "\n",
    "print(type(my_integer))"
   ]
  },
  {
   "cell_type": "code",
   "execution_count": 6,
   "metadata": {
    "slideshow": {
     "slide_type": "subslide"
    }
   },
   "outputs": [
    {
     "name": "stdout",
     "output_type": "stream",
     "text": [
      "<class 'float'>\n",
      "<class 'float'>\n"
     ]
    }
   ],
   "source": [
    "# The inclusion of a decimal point results in a float instead of an integer\n",
    "my_float = 1.75\n",
    "print(type(my_float))\n",
    "\n",
    "# There doesn't need to be any numbers after the decimal to be assigned as a float\n",
    "my_float2 = 25.\n",
    "print(type(my_float2))"
   ]
  },
  {
   "cell_type": "markdown",
   "metadata": {
    "slideshow": {
     "slide_type": "slide"
    }
   },
   "source": [
    "## Topic 3 - Arithmetic Operations"
   ]
  },
  {
   "cell_type": "code",
   "execution_count": 7,
   "metadata": {
    "slideshow": {
     "slide_type": "subslide"
    }
   },
   "outputs": [
    {
     "name": "stdout",
     "output_type": "stream",
     "text": [
      "11\n",
      "0\n",
      "27\n",
      "16\n",
      "2.75\n",
      "1\n",
      "2\n",
      "-3\n"
     ]
    }
   ],
   "source": [
    "print(4 + 7)     # Addition\n",
    "print(2 - 2)     # Subtraction\n",
    "print(3 * 9)     # Multiplication   \n",
    "print(2**4)      # Exponent\n",
    "print(11 / 4)    # Division\n",
    "print (13 % 4)   # Modulus, remainder of integer division\n",
    "print (11 // 5)  # Floor division\n",
    "print (-11 // 5)  # Floor division negative number"
   ]
  },
  {
   "cell_type": "markdown",
   "metadata": {
    "slideshow": {
     "slide_type": "subslide"
    }
   },
   "source": [
    "### Mixed type math"
   ]
  },
  {
   "cell_type": "code",
   "execution_count": 8,
   "metadata": {
    "slideshow": {
     "slide_type": "fragment"
    }
   },
   "outputs": [
    {
     "name": "stdout",
     "output_type": "stream",
     "text": [
      "206.64\n",
      "<class 'float'>\n"
     ]
    }
   ],
   "source": [
    "# Multiplying an integer and a float\n",
    "first_number = 12    # an integer\n",
    "second_number = 17.22 # a float\n",
    "solution = first_number * second_number\n",
    "print(solution)\n",
    "print(type(solution))"
   ]
  },
  {
   "cell_type": "markdown",
   "metadata": {
    "slideshow": {
     "slide_type": "subslide"
    }
   },
   "source": [
    "### While Python will automatically assign types for me, I can also assign them or change them myself"
   ]
  },
  {
   "cell_type": "code",
   "execution_count": 9,
   "metadata": {
    "slideshow": {
     "slide_type": "fragment"
    }
   },
   "outputs": [
    {
     "name": "stdout",
     "output_type": "stream",
     "text": [
      "4.0\n",
      "<class 'float'>\n",
      "<class 'int'>\n",
      "4\n"
     ]
    }
   ],
   "source": [
    "first_number = 1.5\n",
    "second_number = 2.5\n",
    "solution = first_number + second_number\n",
    "print(solution)\n",
    "print(type(solution))\n",
    "solution = int(solution)\n",
    "print(type(solution))\n",
    "print(int(4.86545))"
   ]
  },
  {
   "cell_type": "markdown",
   "metadata": {
    "slideshow": {
     "slide_type": "subslide"
    }
   },
   "source": [
    "### Shorthand Operators"
   ]
  },
  {
   "cell_type": "markdown",
   "metadata": {
    "slideshow": {
     "slide_type": "fragment"
    }
   },
   "source": [
    "### Shorthand operators just allow commonly used arithmetic to be written in a cleaner way."
   ]
  },
  {
   "cell_type": "code",
   "execution_count": 11,
   "metadata": {
    "slideshow": {
     "slide_type": "subslide"
    }
   },
   "outputs": [
    {
     "name": "stdout",
     "output_type": "stream",
     "text": [
      "longhand:  5\n",
      "shorthand:  3\n"
     ]
    }
   ],
   "source": [
    "# Declare some variables\n",
    "total = 4\n",
    "other_total = 4\n",
    "\n",
    "# Normal longhand\n",
    "total = total + 1\n",
    "print(\"longhand: \",total)\n",
    "\n",
    "# Shorthand results in the same\n",
    "other_total -= 1\n",
    "print(\"shorthand: \",other_total)"
   ]
  },
  {
   "cell_type": "markdown",
   "metadata": {
    "slideshow": {
     "slide_type": "slide"
    }
   },
   "source": [
    "## Topic 4 - Intro to Functions"
   ]
  },
  {
   "cell_type": "markdown",
   "metadata": {
    "slideshow": {
     "slide_type": "fragment"
    }
   },
   "source": [
    "### In many programming languages, functions are introduced much later but Python makes them very easy to use."
   ]
  },
  {
   "cell_type": "markdown",
   "metadata": {
    "slideshow": {
     "slide_type": "fragment"
    }
   },
   "source": [
    "### A function is a section of code that can be called to run from the main program (or another function).  It can be passed none to many variables and can return a result or perform operations "
   ]
  },
  {
   "cell_type": "code",
   "execution_count": 12,
   "metadata": {
    "slideshow": {
     "slide_type": "subslide"
    }
   },
   "outputs": [],
   "source": [
    "# Create a function that returns a string when called\n",
    "def call_me():\n",
    "    print('my number is 555-555-5555')\n"
   ]
  },
  {
   "cell_type": "code",
   "execution_count": 13,
   "metadata": {
    "slideshow": {
     "slide_type": "fragment"
    }
   },
   "outputs": [
    {
     "name": "stdout",
     "output_type": "stream",
     "text": [
      "my number is 555-555-5555\n"
     ]
    }
   ],
   "source": [
    "# call my function\n",
    "call_me()"
   ]
  },
  {
   "cell_type": "code",
   "execution_count": 14,
   "metadata": {
    "slideshow": {
     "slide_type": "subslide"
    }
   },
   "outputs": [],
   "source": [
    "# Create a function that takes a variable and increments it by 1\n",
    "def get_bigger(x):\n",
    "    x += 1\n",
    "    return x"
   ]
  },
  {
   "cell_type": "code",
   "execution_count": 16,
   "metadata": {
    "slideshow": {
     "slide_type": "fragment"
    }
   },
   "outputs": [
    {
     "name": "stdout",
     "output_type": "stream",
     "text": [
      "1\n",
      "2\n",
      "3\n",
      "4\n",
      "5\n",
      "6\n",
      "7\n",
      "8\n",
      "9\n",
      "10\n"
     ]
    }
   ],
   "source": [
    "# A while loop calls the function and exits the loop when the value of x hits 10\n",
    "y = 0\n",
    "while y < 10:\n",
    "    y = get_bigger(y) \n",
    "    print(y)\n",
    "    #print('whatever')\n"
   ]
  },
  {
   "cell_type": "markdown",
   "metadata": {
    "slideshow": {
     "slide_type": "slide"
    }
   },
   "source": [
    "## Topic 5 - Test Driven Development"
   ]
  },
  {
   "cell_type": "code",
   "execution_count": 18,
   "metadata": {
    "slideshow": {
     "slide_type": "subslide"
    }
   },
   "outputs": [
    {
     "name": "stderr",
     "output_type": "stream",
     "text": [
      "..\n",
      "----------------------------------------------------------------------\n",
      "Ran 2 tests in 0.004s\n",
      "\n",
      "OK\n"
     ]
    }
   ],
   "source": [
    "# Here's a simple example of some test cases.\n",
    "\n",
    "import unittest \n",
    "class TestStringMethods(unittest.TestCase): \n",
    "      \n",
    "    # The first is checking whether 'm'*4 = 'mmmm'\n",
    "    def test_strings_a(self):\n",
    "        \"\"\"Tests operation * with string\"\"\"\n",
    "        self.assertEqual('m'*4, 'mmmm')\n",
    "\n",
    "    # These two tests check to see if all the characters are upper case\n",
    "    # The first one passes if all the characters are upper case\n",
    "    # The second one passes if any of the characters are not upper case\n",
    "    def test_isupper(self):\n",
    "        \"\"\"Tests string method isupper()\"\"\"\n",
    "        self.assertTrue('MER'.isupper())\n",
    "        self.assertFalse('Mer'.isupper())\n",
    "\n",
    "if __name__ == '__main__': \n",
    "    unittest.main(argv=[''],exit=False) "
   ]
  },
  {
   "cell_type": "code",
   "execution_count": 19,
   "metadata": {
    "scrolled": true,
    "slideshow": {
     "slide_type": "subslide"
    }
   },
   "outputs": [
    {
     "name": "stderr",
     "output_type": "stream",
     "text": [
      "...F\n",
      "======================================================================\n",
      "FAIL: test_sum_tuple (__main__.TestSum)\n",
      "----------------------------------------------------------------------\n",
      "Traceback (most recent call last):\n",
      "  File \"<ipython-input-19-599b2bf95b64>\", line 10, in test_sum_tuple\n",
      "    self.assertEqual(sum((1, 2, 3)), 56, \"Should be 6\")\n",
      "AssertionError: 6 != 56 : Should be 6\n",
      "\n",
      "----------------------------------------------------------------------\n",
      "Ran 4 tests in 0.003s\n",
      "\n",
      "FAILED (failures=1)\n"
     ]
    }
   ],
   "source": [
    "import unittest\n",
    "\n",
    "class TestSum(unittest.TestCase):\n",
    "\n",
    "    # This tests whether the math is correct and will return the text \"Should be 6\" if the test fails\n",
    "    def test_sum(self):\n",
    "        self.assertEqual(sum([1, 2, 3]), 6, \"Should be 6\")\n",
    "\n",
    "    def test_sum_tuple(self):\n",
    "        self.assertEqual(sum((1, 2, 3)), 56, \"Should be 6\")\n",
    "\n",
    "if __name__ == '__main__':\n",
    "    unittest.main(argv=[''],exit=False)"
   ]
  },
  {
   "cell_type": "code",
   "execution_count": 20,
   "metadata": {
    "slideshow": {
     "slide_type": "subslide"
    }
   },
   "outputs": [
    {
     "name": "stdout",
     "output_type": "stream",
     "text": [
      "2.0\n",
      "10.0\n"
     ]
    }
   ],
   "source": [
    "# This function does simple division of the two numbers passed in\n",
    "\n",
    "def mathdivision(numerator,denominator):\n",
    "    solution = numerator/denominator\n",
    "    return solution\n",
    "\n",
    "print(mathdivision(10,5))\n",
    "print(mathdivision(100,10))"
   ]
  },
  {
   "cell_type": "code",
   "execution_count": 21,
   "metadata": {
    "slideshow": {
     "slide_type": "subslide"
    }
   },
   "outputs": [
    {
     "name": "stderr",
     "output_type": "stream",
     "text": [
      "....F\n",
      "======================================================================\n",
      "FAIL: test_sum_tuple (__main__.TestSum)\n",
      "----------------------------------------------------------------------\n",
      "Traceback (most recent call last):\n",
      "  File \"<ipython-input-19-599b2bf95b64>\", line 10, in test_sum_tuple\n",
      "    self.assertEqual(sum((1, 2, 3)), 56, \"Should be 6\")\n",
      "AssertionError: 6 != 56 : Should be 6\n",
      "\n",
      "----------------------------------------------------------------------\n",
      "Ran 5 tests in 0.007s\n",
      "\n",
      "FAILED (failures=1)\n"
     ]
    }
   ],
   "source": [
    "# This is a group of tests to ensure the \"mathdivision\" function works correctly\n",
    "import unittest\n",
    "\n",
    "class TestDivision(unittest.TestCase):\n",
    "    def test_division(s elf):\n",
    "        self.assertEqual(mathdivision(100, 10), 10, \"Should be 10\")\n",
    "        self.assertEqual(mathdivision(1,50), .02, \"Should be .02\")\n",
    "        self.assertEqual(mathdivision(-1,-100), .01, \"Should be .01\")\n",
    "        self.assertEqual(mathdivision(-10,5), -2, \"Should be -2\")\n",
    "            \n",
    "if __name__ == '__main__':\n",
    "    unittest.main(argv=[''],exit=False)"
   ]
  },
  {
   "cell_type": "markdown",
   "metadata": {
    "slideshow": {
     "slide_type": "subslide"
    }
   },
   "source": [
    "### Gathering user input"
   ]
  },
  {
   "cell_type": "code",
   "execution_count": 22,
   "metadata": {
    "slideshow": {
     "slide_type": "subslide"
    }
   },
   "outputs": [
    {
     "name": "stdout",
     "output_type": "stream",
     "text": [
      "Please give me an integer: 47\n",
      "47\n",
      "<class 'str'>\n"
     ]
    }
   ],
   "source": [
    "# Here's a way to gather user input\n",
    "gathered_input = input(\"Please give me an integer: \") \n",
    "print(gathered_input)\n",
    "print(type(gathered_input))"
   ]
  },
  {
   "cell_type": "code",
   "execution_count": 23,
   "metadata": {
    "slideshow": {
     "slide_type": "subslide"
    }
   },
   "outputs": [
    {
     "name": "stdout",
     "output_type": "stream",
     "text": [
      "Give me an integer: 34\n",
      "Give me another one: 44\n"
     ]
    },
    {
     "data": {
      "text/plain": [
       "78"
      ]
     },
     "execution_count": 23,
     "metadata": {},
     "output_type": "execute_result"
    }
   ],
   "source": [
    "# You can also do this within a function\n",
    "# Note that you have to declare the datatype to not have your numbers treated as strings\n",
    "def user_math():\n",
    "    a=int(input(\"Give me an integer: \"))\n",
    "    b=int(input(\"Give me another one: \"))\n",
    "    return(a+b)\n",
    "\n",
    "user_math()"
   ]
  },
  {
   "cell_type": "markdown",
   "metadata": {
    "slideshow": {
     "slide_type": "slide"
    }
   },
   "source": [
    "### These examples (as well as all examples for the semester) will be available in Blackboard under the Module Help Discussion board for each module as well as on my Github repo: \n",
    "https://github.com/magilbertson/Notebooks-for-class"
   ]
  }
 ],
 "metadata": {
  "celltoolbar": "Slideshow",
  "kernelspec": {
   "display_name": "Python 3",
   "language": "python",
   "name": "python3"
  },
  "language_info": {
   "codemirror_mode": {
    "name": "ipython",
    "version": 3
   },
   "file_extension": ".py",
   "mimetype": "text/x-python",
   "name": "python",
   "nbconvert_exporter": "python",
   "pygments_lexer": "ipython3",
   "version": "3.7.9"
  }
 },
 "nbformat": 4,
 "nbformat_minor": 2
}
